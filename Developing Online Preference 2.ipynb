{
 "cells": [
  {
   "cell_type": "markdown",
   "metadata": {},
   "source": [
    "# 2. 온라인 선호지수 개발"
   ]
  },
  {
   "cell_type": "markdown",
   "metadata": {},
   "source": [
    "## 2.2 협업 필터링을 통한 선호도 점수 행렬 도출"
   ]
  },
  {
   "cell_type": "code",
   "execution_count": 2,
   "metadata": {},
   "outputs": [],
   "source": [
    "import numpy as np\n",
    "import pandas as pd\n",
    "import sklearn\n",
    "from pandas import Series, DataFrame\n",
    "import seaborn as sns\n",
    "import matplotlib.pyplot as plt\n",
    "from pathlib import Path\n",
    "import os"
   ]
  },
  {
   "cell_type": "code",
   "execution_count": 2,
   "metadata": {},
   "outputs": [
    {
     "name": "stderr",
     "output_type": "stream",
     "text": [
      "C:\\Users\\lsh93\\Anaconda3\\lib\\site-packages\\IPython\\core\\interactiveshell.py:3020: DtypeWarning: Columns (7) have mixed types. Specify dtype option on import or set low_memory=False.\n",
      "  interactivity=interactivity, compiler=compiler, result=result)\n"
     ]
    }
   ],
   "source": [
    "#데이터가져오기(기본 데이터)\n",
    "Product = pd.read_csv(\"C:/Users/lsh93/Desktop/data/Product.csv\")\n",
    "Search1 = pd.read_csv(\"C:/Users/lsh93/Desktop/data/Search1.csv\")\n",
    "Search2 = pd.read_csv(\"C:/Users/lsh93/Desktop/data/Search2.csv\")\n",
    "Custom = pd.read_csv(\"C:/Users/lsh93/Desktop/data/Custom.csv\")\n",
    "Session = pd.read_csv(\"C:/Users/lsh93/Desktop/data/Session.csv\")\n",
    "Master = pd.read_csv(\"C:/Users/lsh93/Desktop/data/Master.csv\")"
   ]
  },
  {
   "cell_type": "code",
   "execution_count": 16,
   "metadata": {},
   "outputs": [
    {
     "name": "stderr",
     "output_type": "stream",
     "text": [
      "C:\\Users\\lsh93\\Anaconda3\\lib\\site-packages\\IPython\\core\\interactiveshell.py:3020: DtypeWarning: Columns (8) have mixed types. Specify dtype option on import or set low_memory=False.\n",
      "  interactivity=interactivity, compiler=compiler, result=result)\n"
     ]
    }
   ],
   "source": [
    "#데이터가져오기(created from 'Developing Online Preference 1')\n",
    "Client_Behavior = pd.read_csv(\"C:/Users/lsh93/Desktop/data/UBCF/Client_Behavior.csv\")\n",
    "Product_Used = pd.read_csv(\"C:/Users/lsh93/Desktop/data/UBCF/Product_Used.csv\")\n",
    "Client_Used =  pd.read_csv(\"C:/Users/lsh93/Desktop/data/UBCF/Client_Used.csv\")\n",
    "Custom_Used = pd.read_csv(\"C:/Users/lsh93/Desktop/data/UBCF/Custom_Used.csv\")\n",
    "Search1_Used = pd.read_csv(\"C:/Users/lsh93/Desktop/data/UBCF/Search1_Used.csv\")\n",
    "Session_Used = pd.read_csv(\"C:/Users/lsh93/Desktop/data/UBCF/Session_Used.csv\")"
   ]
  },
  {
   "cell_type": "code",
   "execution_count": 17,
   "metadata": {},
   "outputs": [
    {
     "data": {
      "text/html": [
       "<div>\n",
       "<style scoped>\n",
       "    .dataframe tbody tr th:only-of-type {\n",
       "        vertical-align: middle;\n",
       "    }\n",
       "\n",
       "    .dataframe tbody tr th {\n",
       "        vertical-align: top;\n",
       "    }\n",
       "\n",
       "    .dataframe thead th {\n",
       "        text-align: right;\n",
       "    }\n",
       "</style>\n",
       "<table border=\"1\" class=\"dataframe\">\n",
       "  <thead>\n",
       "    <tr style=\"text-align: right;\">\n",
       "      <th></th>\n",
       "      <th>Unnamed: 0</th>\n",
       "      <th>CLNT_ID</th>\n",
       "      <th>SESS_ID</th>\n",
       "      <th>HITS_SEQ</th>\n",
       "      <th>PD_C</th>\n",
       "      <th>PD_ADD_NM</th>\n",
       "      <th>PD_BRA_NM</th>\n",
       "      <th>PD_BUY_AM</th>\n",
       "      <th>PD_BUY_CT</th>\n",
       "      <th>SESS_SEQ</th>\n",
       "      <th>...</th>\n",
       "      <th>TOT_SESS_HR_V</th>\n",
       "      <th>DVC_CTG_NM</th>\n",
       "      <th>ZON_NM</th>\n",
       "      <th>CITY_NM</th>\n",
       "      <th>PD_NM</th>\n",
       "      <th>CLAC1_NM</th>\n",
       "      <th>CLAC2_NM</th>\n",
       "      <th>CLAC3_NM</th>\n",
       "      <th>KWD_NM</th>\n",
       "      <th>SEARCH_CNT</th>\n",
       "    </tr>\n",
       "  </thead>\n",
       "  <tbody>\n",
       "    <tr>\n",
       "      <th>0</th>\n",
       "      <td>0</td>\n",
       "      <td>4148106</td>\n",
       "      <td>6662803</td>\n",
       "      <td>94</td>\n",
       "      <td>570603</td>\n",
       "      <td>색상:WHT0_WHT0-(WHITE)|사이즈:115 / 1개</td>\n",
       "      <td>데상트</td>\n",
       "      <td>39,000</td>\n",
       "      <td>1</td>\n",
       "      <td>55</td>\n",
       "      <td>...</td>\n",
       "      <td>1,371</td>\n",
       "      <td>mobile</td>\n",
       "      <td>Seoul</td>\n",
       "      <td>Seoul</td>\n",
       "      <td>[데상트] 스포츠베이직 빅로고 티셔츠 - DMGR_DMELANGE / 115</td>\n",
       "      <td>스포츠패션</td>\n",
       "      <td>남성일반스포츠의류</td>\n",
       "      <td>남성스포츠티셔츠</td>\n",
       "      <td>라코스떼 남성티셔츠</td>\n",
       "      <td>2</td>\n",
       "    </tr>\n",
       "  </tbody>\n",
       "</table>\n",
       "<p>1 rows × 22 columns</p>\n",
       "</div>"
      ],
      "text/plain": [
       "   Unnamed: 0  CLNT_ID  SESS_ID  HITS_SEQ    PD_C  \\\n",
       "0           0  4148106  6662803        94  570603   \n",
       "\n",
       "                           PD_ADD_NM PD_BRA_NM PD_BUY_AM PD_BUY_CT  SESS_SEQ  \\\n",
       "0  색상:WHT0_WHT0-(WHITE)|사이즈:115 / 1개       데상트    39,000         1        55   \n",
       "\n",
       "     ...      TOT_SESS_HR_V  DVC_CTG_NM ZON_NM CITY_NM  \\\n",
       "0    ...              1,371      mobile  Seoul   Seoul   \n",
       "\n",
       "                                        PD_NM CLAC1_NM   CLAC2_NM  CLAC3_NM  \\\n",
       "0  [데상트] 스포츠베이직 빅로고 티셔츠 - DMGR_DMELANGE / 115    스포츠패션  남성일반스포츠의류  남성스포츠티셔츠   \n",
       "\n",
       "       KWD_NM SEARCH_CNT  \n",
       "0  라코스떼 남성티셔츠          2  \n",
       "\n",
       "[1 rows x 22 columns]"
      ]
     },
     "execution_count": 17,
     "metadata": {},
     "output_type": "execute_result"
    }
   ],
   "source": [
    "#앞에 unnamed가 붙여진 건 삭제해줘야 할듯,, 자동으로 index column붙은 듯 \n",
    "#데이터 보기\n",
    "Client_Behavior[0:1]"
   ]
  },
  {
   "cell_type": "code",
   "execution_count": 18,
   "metadata": {},
   "outputs": [
    {
     "data": {
      "text/html": [
       "<div>\n",
       "<style scoped>\n",
       "    .dataframe tbody tr th:only-of-type {\n",
       "        vertical-align: middle;\n",
       "    }\n",
       "\n",
       "    .dataframe tbody tr th {\n",
       "        vertical-align: top;\n",
       "    }\n",
       "\n",
       "    .dataframe thead th {\n",
       "        text-align: right;\n",
       "    }\n",
       "</style>\n",
       "<table border=\"1\" class=\"dataframe\">\n",
       "  <thead>\n",
       "    <tr style=\"text-align: right;\">\n",
       "      <th></th>\n",
       "      <th>Unnamed: 0</th>\n",
       "      <th>CLNT_ID</th>\n",
       "      <th>SESS_ID</th>\n",
       "      <th>HITS_SEQ</th>\n",
       "      <th>PD_C</th>\n",
       "      <th>PD_ADD_NM</th>\n",
       "      <th>PD_BRA_NM</th>\n",
       "      <th>PD_BUY_AM</th>\n",
       "      <th>PD_BUY_CT</th>\n",
       "    </tr>\n",
       "  </thead>\n",
       "  <tbody>\n",
       "    <tr>\n",
       "      <th>0</th>\n",
       "      <td>0</td>\n",
       "      <td>4140076</td>\n",
       "      <td>10189797</td>\n",
       "      <td>13</td>\n",
       "      <td>570603</td>\n",
       "      <td>색상:BLK0_(BLK0)BLACK|사이즈:120 / 2개</td>\n",
       "      <td>데상트</td>\n",
       "      <td>39,000</td>\n",
       "      <td>2</td>\n",
       "    </tr>\n",
       "  </tbody>\n",
       "</table>\n",
       "</div>"
      ],
      "text/plain": [
       "   Unnamed: 0  CLNT_ID   SESS_ID  HITS_SEQ    PD_C  \\\n",
       "0           0  4140076  10189797        13  570603   \n",
       "\n",
       "                          PD_ADD_NM PD_BRA_NM PD_BUY_AM PD_BUY_CT  \n",
       "0  색상:BLK0_(BLK0)BLACK|사이즈:120 / 2개       데상트    39,000         2  "
      ]
     },
     "execution_count": 18,
     "metadata": {},
     "output_type": "execute_result"
    }
   ],
   "source": [
    "Product_Used[0:1]"
   ]
  },
  {
   "cell_type": "code",
   "execution_count": 19,
   "metadata": {},
   "outputs": [
    {
     "data": {
      "text/html": [
       "<div>\n",
       "<style scoped>\n",
       "    .dataframe tbody tr th:only-of-type {\n",
       "        vertical-align: middle;\n",
       "    }\n",
       "\n",
       "    .dataframe tbody tr th {\n",
       "        vertical-align: top;\n",
       "    }\n",
       "\n",
       "    .dataframe thead th {\n",
       "        text-align: right;\n",
       "    }\n",
       "</style>\n",
       "<table border=\"1\" class=\"dataframe\">\n",
       "  <thead>\n",
       "    <tr style=\"text-align: right;\">\n",
       "      <th></th>\n",
       "      <th>Unnamed: 0</th>\n",
       "      <th>CLNT_ID</th>\n",
       "    </tr>\n",
       "  </thead>\n",
       "  <tbody>\n",
       "    <tr>\n",
       "      <th>0</th>\n",
       "      <td>87</td>\n",
       "      <td>2268789</td>\n",
       "    </tr>\n",
       "  </tbody>\n",
       "</table>\n",
       "</div>"
      ],
      "text/plain": [
       "   Unnamed: 0  CLNT_ID\n",
       "0          87  2268789"
      ]
     },
     "execution_count": 19,
     "metadata": {},
     "output_type": "execute_result"
    }
   ],
   "source": [
    "Client_Used[0:1]"
   ]
  },
  {
   "cell_type": "code",
   "execution_count": 20,
   "metadata": {},
   "outputs": [
    {
     "data": {
      "text/html": [
       "<div>\n",
       "<style scoped>\n",
       "    .dataframe tbody tr th:only-of-type {\n",
       "        vertical-align: middle;\n",
       "    }\n",
       "\n",
       "    .dataframe tbody tr th {\n",
       "        vertical-align: top;\n",
       "    }\n",
       "\n",
       "    .dataframe thead th {\n",
       "        text-align: right;\n",
       "    }\n",
       "</style>\n",
       "<table border=\"1\" class=\"dataframe\">\n",
       "  <thead>\n",
       "    <tr style=\"text-align: right;\">\n",
       "      <th></th>\n",
       "      <th>Unnamed: 0</th>\n",
       "      <th>CLNT_ID</th>\n",
       "      <th>CLNT_GENDER</th>\n",
       "      <th>CLNT_AGE</th>\n",
       "    </tr>\n",
       "  </thead>\n",
       "  <tbody>\n",
       "    <tr>\n",
       "      <th>0</th>\n",
       "      <td>0</td>\n",
       "      <td>4830726</td>\n",
       "      <td>F</td>\n",
       "      <td>30</td>\n",
       "    </tr>\n",
       "  </tbody>\n",
       "</table>\n",
       "</div>"
      ],
      "text/plain": [
       "   Unnamed: 0  CLNT_ID CLNT_GENDER  CLNT_AGE\n",
       "0           0  4830726           F        30"
      ]
     },
     "execution_count": 20,
     "metadata": {},
     "output_type": "execute_result"
    }
   ],
   "source": [
    "Custom_Used[0:1]"
   ]
  },
  {
   "cell_type": "code",
   "execution_count": 21,
   "metadata": {},
   "outputs": [
    {
     "data": {
      "text/html": [
       "<div>\n",
       "<style scoped>\n",
       "    .dataframe tbody tr th:only-of-type {\n",
       "        vertical-align: middle;\n",
       "    }\n",
       "\n",
       "    .dataframe tbody tr th {\n",
       "        vertical-align: top;\n",
       "    }\n",
       "\n",
       "    .dataframe thead th {\n",
       "        text-align: right;\n",
       "    }\n",
       "</style>\n",
       "<table border=\"1\" class=\"dataframe\">\n",
       "  <thead>\n",
       "    <tr style=\"text-align: right;\">\n",
       "      <th></th>\n",
       "      <th>Unnamed: 0</th>\n",
       "      <th>CLNT_ID</th>\n",
       "      <th>SESS_ID</th>\n",
       "      <th>KWD_NM</th>\n",
       "      <th>SEARCH_CNT</th>\n",
       "    </tr>\n",
       "  </thead>\n",
       "  <tbody>\n",
       "    <tr>\n",
       "      <th>0</th>\n",
       "      <td>0</td>\n",
       "      <td>5607714</td>\n",
       "      <td>7112876</td>\n",
       "      <td>빌리프 아이크림</td>\n",
       "      <td>6</td>\n",
       "    </tr>\n",
       "  </tbody>\n",
       "</table>\n",
       "</div>"
      ],
      "text/plain": [
       "   Unnamed: 0  CLNT_ID  SESS_ID    KWD_NM  SEARCH_CNT\n",
       "0           0  5607714  7112876  빌리프 아이크림           6"
      ]
     },
     "execution_count": 21,
     "metadata": {},
     "output_type": "execute_result"
    }
   ],
   "source": [
    "Search1_Used[0:1]"
   ]
  },
  {
   "cell_type": "code",
   "execution_count": 22,
   "metadata": {},
   "outputs": [
    {
     "data": {
      "text/html": [
       "<div>\n",
       "<style scoped>\n",
       "    .dataframe tbody tr th:only-of-type {\n",
       "        vertical-align: middle;\n",
       "    }\n",
       "\n",
       "    .dataframe tbody tr th {\n",
       "        vertical-align: top;\n",
       "    }\n",
       "\n",
       "    .dataframe thead th {\n",
       "        text-align: right;\n",
       "    }\n",
       "</style>\n",
       "<table border=\"1\" class=\"dataframe\">\n",
       "  <thead>\n",
       "    <tr style=\"text-align: right;\">\n",
       "      <th></th>\n",
       "      <th>Unnamed: 0</th>\n",
       "      <th>CLNT_ID</th>\n",
       "      <th>SESS_ID</th>\n",
       "      <th>SESS_SEQ</th>\n",
       "      <th>SESS_DT</th>\n",
       "      <th>TOT_PAG_VIEW_CT</th>\n",
       "      <th>TOT_SESS_HR_V</th>\n",
       "      <th>DVC_CTG_NM</th>\n",
       "      <th>ZON_NM</th>\n",
       "      <th>CITY_NM</th>\n",
       "    </tr>\n",
       "  </thead>\n",
       "  <tbody>\n",
       "    <tr>\n",
       "      <th>0</th>\n",
       "      <td>0</td>\n",
       "      <td>5873599</td>\n",
       "      <td>8641867</td>\n",
       "      <td>9</td>\n",
       "      <td>20180509</td>\n",
       "      <td>82.0</td>\n",
       "      <td>1,890</td>\n",
       "      <td>mobile</td>\n",
       "      <td>Daejeon</td>\n",
       "      <td>Daejeon</td>\n",
       "    </tr>\n",
       "  </tbody>\n",
       "</table>\n",
       "</div>"
      ],
      "text/plain": [
       "   Unnamed: 0  CLNT_ID  SESS_ID  SESS_SEQ   SESS_DT  TOT_PAG_VIEW_CT  \\\n",
       "0           0  5873599  8641867         9  20180509             82.0   \n",
       "\n",
       "  TOT_SESS_HR_V DVC_CTG_NM   ZON_NM  CITY_NM  \n",
       "0         1,890     mobile  Daejeon  Daejeon  "
      ]
     },
     "execution_count": 22,
     "metadata": {},
     "output_type": "execute_result"
    }
   ],
   "source": [
    "Session_Used[0:1]"
   ]
  },
  {
   "cell_type": "code",
   "execution_count": 23,
   "metadata": {},
   "outputs": [],
   "source": [
    "#첫번째 column 모두 삭제\n",
    "Client_Behavior = Client_Behavior.drop(Client_Behavior.columns[[0]], axis=1)\n",
    "Product_Used = Product_Used.drop(Product_Used.columns[[0]], axis=1)\n",
    "Client_Used = Client_Used.drop(Client_Used.columns[[0]], axis=1)\n",
    "Custom_Used = Custom_Used.drop(Custom_Used.columns[[0]], axis=1)\n",
    "Search1_Used = Search1_Used.drop(Search1_Used.columns[[0]], axis=1)\n",
    "Session_Used = Session_Used.drop(Session_Used.columns[[0]], axis=1)"
   ]
  },
  {
   "cell_type": "code",
   "execution_count": 26,
   "metadata": {},
   "outputs": [
    {
     "name": "stdout",
     "output_type": "stream",
     "text": [
      "CLNT_ID\n",
      "CLNT_ID\n",
      "CLNT_ID\n",
      "CLNT_ID\n",
      "CLNT_ID\n",
      "CLNT_ID\n"
     ]
    }
   ],
   "source": [
    "print(Client_Behavior.columns.values[0])\n",
    "print(Product_Used.columns.values[0])\n",
    "print(Client_Used.columns.values[0])\n",
    "print(Custom_Used.columns.values[0])\n",
    "print(Search1_Used.columns.values[0])\n",
    "print(Session_Used.columns.values[0])"
   ]
  },
  {
   "cell_type": "code",
   "execution_count": 125,
   "metadata": {},
   "outputs": [],
   "source": [
    "#데이터내보내기\n",
    "Client_Behavior.to_csv(\"C:/Users/lsh93/Desktop/data/UBCF2/Client_Behavior.csv\", encoding=\"UTF-8\")\n",
    "Product_Used.to_csv(\"C:/Users/lsh93/Desktop/data/UBCF2/Product_Used.csv\", encoding=\"UTF-8\")\n",
    "Client_Used.to_csv(\"C:/Users/lsh93/Desktop/data/UBCF2/Client_Used.csv\", encoding=\"UTF-8\")\n",
    "Custom_Used.to_csv(\"C:/Users/lsh93/Desktop/data/UBCF2/Custom_Used.csv\", encoding=\"UTF-8\")\n",
    "Search1_Used.to_csv(\"C:/Users/lsh93/Desktop/data/UBCF2/Search1_Used.csv\", encoding=\"UTF-8\")\n",
    "Session_Used.to_csv(\"C:/Users/lsh93/Desktop/data/UBCF2/Sesion_Used.csv\", encoding=\"UTF-8\")"
   ]
  },
  {
   "cell_type": "markdown",
   "metadata": {},
   "source": [
    "### 1) 구매 count를 이용한 온라인 선호지수 생성"
   ]
  },
  {
   "cell_type": "code",
   "execution_count": 3,
   "metadata": {},
   "outputs": [],
   "source": [
    "#데이터 불러오기\n",
    "Purchase_Count = pd.read_csv(\"C:/Users/lsh93/Desktop/data/UBCF/Purchase_Count.csv\")"
   ]
  },
  {
   "cell_type": "code",
   "execution_count": 4,
   "metadata": {},
   "outputs": [
    {
     "data": {
      "text/html": [
       "<div>\n",
       "<style scoped>\n",
       "    .dataframe tbody tr th:only-of-type {\n",
       "        vertical-align: middle;\n",
       "    }\n",
       "\n",
       "    .dataframe tbody tr th {\n",
       "        vertical-align: top;\n",
       "    }\n",
       "\n",
       "    .dataframe thead th {\n",
       "        text-align: right;\n",
       "    }\n",
       "</style>\n",
       "<table border=\"1\" class=\"dataframe\">\n",
       "  <thead>\n",
       "    <tr style=\"text-align: right;\">\n",
       "      <th></th>\n",
       "      <th>Unnamed: 0</th>\n",
       "      <th>스포츠패션</th>\n",
       "      <th>남성의류</th>\n",
       "      <th>유아동의류</th>\n",
       "      <th>청소/세탁/욕실용품</th>\n",
       "      <th>완구</th>\n",
       "      <th>패션잡화</th>\n",
       "      <th>시즌스포츠</th>\n",
       "      <th>여성의류</th>\n",
       "      <th>인테리어/조명</th>\n",
       "      <th>...</th>\n",
       "      <th>음료</th>\n",
       "      <th>구기/필드스포츠</th>\n",
       "      <th>냉장/세탁가전</th>\n",
       "      <th>냉동식품</th>\n",
       "      <th>냉장식품</th>\n",
       "      <th>원예/애완</th>\n",
       "      <th>상품권</th>\n",
       "      <th>자동차용품</th>\n",
       "      <th>축산물</th>\n",
       "      <th>영상/음향가전</th>\n",
       "    </tr>\n",
       "  </thead>\n",
       "  <tbody>\n",
       "    <tr>\n",
       "      <th>0</th>\n",
       "      <td>4140076</td>\n",
       "      <td>23.0</td>\n",
       "      <td>52.0</td>\n",
       "      <td>17.0</td>\n",
       "      <td>5.0</td>\n",
       "      <td>5.0</td>\n",
       "      <td>24.0</td>\n",
       "      <td>8.0</td>\n",
       "      <td>8.0</td>\n",
       "      <td>7.0</td>\n",
       "      <td>...</td>\n",
       "      <td>0.0</td>\n",
       "      <td>0.0</td>\n",
       "      <td>0.0</td>\n",
       "      <td>0.0</td>\n",
       "      <td>0.0</td>\n",
       "      <td>0.0</td>\n",
       "      <td>0.0</td>\n",
       "      <td>0.0</td>\n",
       "      <td>0.0</td>\n",
       "      <td>0.0</td>\n",
       "    </tr>\n",
       "    <tr>\n",
       "      <th>1</th>\n",
       "      <td>4148106</td>\n",
       "      <td>3.0</td>\n",
       "      <td>3.0</td>\n",
       "      <td>0.0</td>\n",
       "      <td>0.0</td>\n",
       "      <td>0.0</td>\n",
       "      <td>9.0</td>\n",
       "      <td>7.0</td>\n",
       "      <td>0.0</td>\n",
       "      <td>0.0</td>\n",
       "      <td>...</td>\n",
       "      <td>0.0</td>\n",
       "      <td>0.0</td>\n",
       "      <td>0.0</td>\n",
       "      <td>0.0</td>\n",
       "      <td>0.0</td>\n",
       "      <td>0.0</td>\n",
       "      <td>0.0</td>\n",
       "      <td>0.0</td>\n",
       "      <td>0.0</td>\n",
       "      <td>0.0</td>\n",
       "    </tr>\n",
       "    <tr>\n",
       "      <th>2</th>\n",
       "      <td>5298612</td>\n",
       "      <td>1.0</td>\n",
       "      <td>4.0</td>\n",
       "      <td>2.0</td>\n",
       "      <td>0.0</td>\n",
       "      <td>0.0</td>\n",
       "      <td>0.0</td>\n",
       "      <td>0.0</td>\n",
       "      <td>0.0</td>\n",
       "      <td>0.0</td>\n",
       "      <td>...</td>\n",
       "      <td>0.0</td>\n",
       "      <td>0.0</td>\n",
       "      <td>0.0</td>\n",
       "      <td>0.0</td>\n",
       "      <td>0.0</td>\n",
       "      <td>0.0</td>\n",
       "      <td>0.0</td>\n",
       "      <td>0.0</td>\n",
       "      <td>0.0</td>\n",
       "      <td>0.0</td>\n",
       "    </tr>\n",
       "    <tr>\n",
       "      <th>3</th>\n",
       "      <td>5553084</td>\n",
       "      <td>7.0</td>\n",
       "      <td>13.0</td>\n",
       "      <td>21.0</td>\n",
       "      <td>0.0</td>\n",
       "      <td>3.0</td>\n",
       "      <td>10.0</td>\n",
       "      <td>11.0</td>\n",
       "      <td>19.0</td>\n",
       "      <td>0.0</td>\n",
       "      <td>...</td>\n",
       "      <td>0.0</td>\n",
       "      <td>3.0</td>\n",
       "      <td>0.0</td>\n",
       "      <td>0.0</td>\n",
       "      <td>0.0</td>\n",
       "      <td>0.0</td>\n",
       "      <td>0.0</td>\n",
       "      <td>0.0</td>\n",
       "      <td>0.0</td>\n",
       "      <td>0.0</td>\n",
       "    </tr>\n",
       "    <tr>\n",
       "      <th>4</th>\n",
       "      <td>5639922</td>\n",
       "      <td>11.0</td>\n",
       "      <td>16.0</td>\n",
       "      <td>9.0</td>\n",
       "      <td>0.0</td>\n",
       "      <td>0.0</td>\n",
       "      <td>17.0</td>\n",
       "      <td>4.0</td>\n",
       "      <td>55.0</td>\n",
       "      <td>0.0</td>\n",
       "      <td>...</td>\n",
       "      <td>0.0</td>\n",
       "      <td>0.0</td>\n",
       "      <td>0.0</td>\n",
       "      <td>0.0</td>\n",
       "      <td>0.0</td>\n",
       "      <td>16.0</td>\n",
       "      <td>0.0</td>\n",
       "      <td>0.0</td>\n",
       "      <td>0.0</td>\n",
       "      <td>0.0</td>\n",
       "    </tr>\n",
       "  </tbody>\n",
       "</table>\n",
       "<p>5 rows × 38 columns</p>\n",
       "</div>"
      ],
      "text/plain": [
       "   Unnamed: 0  스포츠패션  남성의류  유아동의류  청소/세탁/욕실용품   완구  패션잡화  시즌스포츠  여성의류  \\\n",
       "0     4140076   23.0  52.0   17.0         5.0  5.0  24.0    8.0   8.0   \n",
       "1     4148106    3.0   3.0    0.0         0.0  0.0   9.0    7.0   0.0   \n",
       "2     5298612    1.0   4.0    2.0         0.0  0.0   0.0    0.0   0.0   \n",
       "3     5553084    7.0  13.0   21.0         0.0  3.0  10.0   11.0  19.0   \n",
       "4     5639922   11.0  16.0    9.0         0.0  0.0  17.0    4.0  55.0   \n",
       "\n",
       "   인테리어/조명   ...      음료  구기/필드스포츠  냉장/세탁가전  냉동식품  냉장식품  원예/애완  상품권  자동차용품  \\\n",
       "0      7.0   ...     0.0       0.0      0.0   0.0   0.0    0.0  0.0    0.0   \n",
       "1      0.0   ...     0.0       0.0      0.0   0.0   0.0    0.0  0.0    0.0   \n",
       "2      0.0   ...     0.0       0.0      0.0   0.0   0.0    0.0  0.0    0.0   \n",
       "3      0.0   ...     0.0       3.0      0.0   0.0   0.0    0.0  0.0    0.0   \n",
       "4      0.0   ...     0.0       0.0      0.0   0.0   0.0   16.0  0.0    0.0   \n",
       "\n",
       "   축산물  영상/음향가전  \n",
       "0  0.0      0.0  \n",
       "1  0.0      0.0  \n",
       "2  0.0      0.0  \n",
       "3  0.0      0.0  \n",
       "4  0.0      0.0  \n",
       "\n",
       "[5 rows x 38 columns]"
      ]
     },
     "execution_count": 4,
     "metadata": {},
     "output_type": "execute_result"
    }
   ],
   "source": [
    "Purchase_Count.head()"
   ]
  },
  {
   "cell_type": "code",
   "execution_count": 5,
   "metadata": {},
   "outputs": [],
   "source": [
    "Purchase_Count = Purchase_Count.rename(columns = {'Unnamed: 0':'CLNT_ID'})"
   ]
  },
  {
   "cell_type": "code",
   "execution_count": 6,
   "metadata": {},
   "outputs": [
    {
     "data": {
      "text/html": [
       "<div>\n",
       "<style scoped>\n",
       "    .dataframe tbody tr th:only-of-type {\n",
       "        vertical-align: middle;\n",
       "    }\n",
       "\n",
       "    .dataframe tbody tr th {\n",
       "        vertical-align: top;\n",
       "    }\n",
       "\n",
       "    .dataframe thead th {\n",
       "        text-align: right;\n",
       "    }\n",
       "</style>\n",
       "<table border=\"1\" class=\"dataframe\">\n",
       "  <thead>\n",
       "    <tr style=\"text-align: right;\">\n",
       "      <th></th>\n",
       "      <th>CLNT_ID</th>\n",
       "      <th>스포츠패션</th>\n",
       "      <th>남성의류</th>\n",
       "      <th>유아동의류</th>\n",
       "      <th>청소/세탁/욕실용품</th>\n",
       "      <th>완구</th>\n",
       "      <th>패션잡화</th>\n",
       "      <th>시즌스포츠</th>\n",
       "      <th>여성의류</th>\n",
       "      <th>인테리어/조명</th>\n",
       "      <th>...</th>\n",
       "      <th>음료</th>\n",
       "      <th>구기/필드스포츠</th>\n",
       "      <th>냉장/세탁가전</th>\n",
       "      <th>냉동식품</th>\n",
       "      <th>냉장식품</th>\n",
       "      <th>원예/애완</th>\n",
       "      <th>상품권</th>\n",
       "      <th>자동차용품</th>\n",
       "      <th>축산물</th>\n",
       "      <th>영상/음향가전</th>\n",
       "    </tr>\n",
       "  </thead>\n",
       "  <tbody>\n",
       "    <tr>\n",
       "      <th>0</th>\n",
       "      <td>4140076</td>\n",
       "      <td>23.0</td>\n",
       "      <td>52.0</td>\n",
       "      <td>17.0</td>\n",
       "      <td>5.0</td>\n",
       "      <td>5.0</td>\n",
       "      <td>24.0</td>\n",
       "      <td>8.0</td>\n",
       "      <td>8.0</td>\n",
       "      <td>7.0</td>\n",
       "      <td>...</td>\n",
       "      <td>0.0</td>\n",
       "      <td>0.0</td>\n",
       "      <td>0.0</td>\n",
       "      <td>0.0</td>\n",
       "      <td>0.0</td>\n",
       "      <td>0.0</td>\n",
       "      <td>0.0</td>\n",
       "      <td>0.0</td>\n",
       "      <td>0.0</td>\n",
       "      <td>0.0</td>\n",
       "    </tr>\n",
       "    <tr>\n",
       "      <th>1</th>\n",
       "      <td>4148106</td>\n",
       "      <td>3.0</td>\n",
       "      <td>3.0</td>\n",
       "      <td>0.0</td>\n",
       "      <td>0.0</td>\n",
       "      <td>0.0</td>\n",
       "      <td>9.0</td>\n",
       "      <td>7.0</td>\n",
       "      <td>0.0</td>\n",
       "      <td>0.0</td>\n",
       "      <td>...</td>\n",
       "      <td>0.0</td>\n",
       "      <td>0.0</td>\n",
       "      <td>0.0</td>\n",
       "      <td>0.0</td>\n",
       "      <td>0.0</td>\n",
       "      <td>0.0</td>\n",
       "      <td>0.0</td>\n",
       "      <td>0.0</td>\n",
       "      <td>0.0</td>\n",
       "      <td>0.0</td>\n",
       "    </tr>\n",
       "    <tr>\n",
       "      <th>2</th>\n",
       "      <td>5298612</td>\n",
       "      <td>1.0</td>\n",
       "      <td>4.0</td>\n",
       "      <td>2.0</td>\n",
       "      <td>0.0</td>\n",
       "      <td>0.0</td>\n",
       "      <td>0.0</td>\n",
       "      <td>0.0</td>\n",
       "      <td>0.0</td>\n",
       "      <td>0.0</td>\n",
       "      <td>...</td>\n",
       "      <td>0.0</td>\n",
       "      <td>0.0</td>\n",
       "      <td>0.0</td>\n",
       "      <td>0.0</td>\n",
       "      <td>0.0</td>\n",
       "      <td>0.0</td>\n",
       "      <td>0.0</td>\n",
       "      <td>0.0</td>\n",
       "      <td>0.0</td>\n",
       "      <td>0.0</td>\n",
       "    </tr>\n",
       "    <tr>\n",
       "      <th>3</th>\n",
       "      <td>5553084</td>\n",
       "      <td>7.0</td>\n",
       "      <td>13.0</td>\n",
       "      <td>21.0</td>\n",
       "      <td>0.0</td>\n",
       "      <td>3.0</td>\n",
       "      <td>10.0</td>\n",
       "      <td>11.0</td>\n",
       "      <td>19.0</td>\n",
       "      <td>0.0</td>\n",
       "      <td>...</td>\n",
       "      <td>0.0</td>\n",
       "      <td>3.0</td>\n",
       "      <td>0.0</td>\n",
       "      <td>0.0</td>\n",
       "      <td>0.0</td>\n",
       "      <td>0.0</td>\n",
       "      <td>0.0</td>\n",
       "      <td>0.0</td>\n",
       "      <td>0.0</td>\n",
       "      <td>0.0</td>\n",
       "    </tr>\n",
       "    <tr>\n",
       "      <th>4</th>\n",
       "      <td>5639922</td>\n",
       "      <td>11.0</td>\n",
       "      <td>16.0</td>\n",
       "      <td>9.0</td>\n",
       "      <td>0.0</td>\n",
       "      <td>0.0</td>\n",
       "      <td>17.0</td>\n",
       "      <td>4.0</td>\n",
       "      <td>55.0</td>\n",
       "      <td>0.0</td>\n",
       "      <td>...</td>\n",
       "      <td>0.0</td>\n",
       "      <td>0.0</td>\n",
       "      <td>0.0</td>\n",
       "      <td>0.0</td>\n",
       "      <td>0.0</td>\n",
       "      <td>16.0</td>\n",
       "      <td>0.0</td>\n",
       "      <td>0.0</td>\n",
       "      <td>0.0</td>\n",
       "      <td>0.0</td>\n",
       "    </tr>\n",
       "  </tbody>\n",
       "</table>\n",
       "<p>5 rows × 38 columns</p>\n",
       "</div>"
      ],
      "text/plain": [
       "   CLNT_ID  스포츠패션  남성의류  유아동의류  청소/세탁/욕실용품   완구  패션잡화  시즌스포츠  여성의류  인테리어/조명  \\\n",
       "0  4140076   23.0  52.0   17.0         5.0  5.0  24.0    8.0   8.0      7.0   \n",
       "1  4148106    3.0   3.0    0.0         0.0  0.0   9.0    7.0   0.0      0.0   \n",
       "2  5298612    1.0   4.0    2.0         0.0  0.0   0.0    0.0   0.0      0.0   \n",
       "3  5553084    7.0  13.0   21.0         0.0  3.0  10.0   11.0  19.0      0.0   \n",
       "4  5639922   11.0  16.0    9.0         0.0  0.0  17.0    4.0  55.0      0.0   \n",
       "\n",
       "    ...      음료  구기/필드스포츠  냉장/세탁가전  냉동식품  냉장식품  원예/애완  상품권  자동차용품  축산물  \\\n",
       "0   ...     0.0       0.0      0.0   0.0   0.0    0.0  0.0    0.0  0.0   \n",
       "1   ...     0.0       0.0      0.0   0.0   0.0    0.0  0.0    0.0  0.0   \n",
       "2   ...     0.0       0.0      0.0   0.0   0.0    0.0  0.0    0.0  0.0   \n",
       "3   ...     0.0       3.0      0.0   0.0   0.0    0.0  0.0    0.0  0.0   \n",
       "4   ...     0.0       0.0      0.0   0.0   0.0   16.0  0.0    0.0  0.0   \n",
       "\n",
       "   영상/음향가전  \n",
       "0      0.0  \n",
       "1      0.0  \n",
       "2      0.0  \n",
       "3      0.0  \n",
       "4      0.0  \n",
       "\n",
       "[5 rows x 38 columns]"
      ]
     },
     "execution_count": 6,
     "metadata": {},
     "output_type": "execute_result"
    }
   ],
   "source": [
    "Purchase_Count.head()"
   ]
  },
  {
   "cell_type": "code",
   "execution_count": 7,
   "metadata": {},
   "outputs": [
    {
     "name": "stderr",
     "output_type": "stream",
     "text": [
      "C:\\Users\\lsh93\\Anaconda3\\lib\\site-packages\\ipykernel_launcher.py:1: FutureWarning: Method .as_matrix will be removed in a future version. Use .values instead.\n",
      "  \"\"\"Entry point for launching an IPython kernel.\n"
     ]
    },
    {
     "data": {
      "text/plain": [
       "array([4140076, 4148106, 5298612, ..., 4362431, 6510160, 1835621],\n",
       "      dtype=int64)"
      ]
     },
     "execution_count": 7,
     "metadata": {},
     "output_type": "execute_result"
    }
   ],
   "source": [
    "row_names = Purchase_Count['CLNT_ID'].as_matrix()\n",
    "row_names"
   ]
  },
  {
   "cell_type": "code",
   "execution_count": 8,
   "metadata": {},
   "outputs": [],
   "source": [
    "col_names = Purchase_Count.columns.values\n",
    "col_names = col_names[1:]"
   ]
  },
  {
   "cell_type": "code",
   "execution_count": 9,
   "metadata": {},
   "outputs": [
    {
     "name": "stderr",
     "output_type": "stream",
     "text": [
      "C:\\Users\\lsh93\\Anaconda3\\lib\\site-packages\\ipykernel_launcher.py:1: FutureWarning: Method .as_matrix will be removed in a future version. Use .values instead.\n",
      "  \"\"\"Entry point for launching an IPython kernel.\n"
     ]
    }
   ],
   "source": [
    "temp_matrix = Purchase_Count.as_matrix()"
   ]
  },
  {
   "cell_type": "code",
   "execution_count": 10,
   "metadata": {},
   "outputs": [],
   "source": [
    "temp_matrix = temp_matrix[:,1:]"
   ]
  },
  {
   "cell_type": "code",
   "execution_count": 11,
   "metadata": {},
   "outputs": [
    {
     "data": {
      "text/plain": [
       "(375839, 37)"
      ]
     },
     "execution_count": 11,
     "metadata": {},
     "output_type": "execute_result"
    }
   ],
   "source": [
    "temp_matrix.shape"
   ]
  },
  {
   "cell_type": "code",
   "execution_count": 12,
   "metadata": {},
   "outputs": [],
   "source": [
    "temp = pd.DataFrame(temp_matrix, columns = col_names, index = row_names)"
   ]
  },
  {
   "cell_type": "code",
   "execution_count": 13,
   "metadata": {},
   "outputs": [
    {
     "data": {
      "text/html": [
       "<div>\n",
       "<style scoped>\n",
       "    .dataframe tbody tr th:only-of-type {\n",
       "        vertical-align: middle;\n",
       "    }\n",
       "\n",
       "    .dataframe tbody tr th {\n",
       "        vertical-align: top;\n",
       "    }\n",
       "\n",
       "    .dataframe thead th {\n",
       "        text-align: right;\n",
       "    }\n",
       "</style>\n",
       "<table border=\"1\" class=\"dataframe\">\n",
       "  <thead>\n",
       "    <tr style=\"text-align: right;\">\n",
       "      <th></th>\n",
       "      <th>스포츠패션</th>\n",
       "      <th>남성의류</th>\n",
       "      <th>유아동의류</th>\n",
       "      <th>청소/세탁/욕실용품</th>\n",
       "      <th>완구</th>\n",
       "      <th>패션잡화</th>\n",
       "      <th>시즌스포츠</th>\n",
       "      <th>여성의류</th>\n",
       "      <th>인테리어/조명</th>\n",
       "      <th>속옷/양말/홈웨어</th>\n",
       "      <th>...</th>\n",
       "      <th>음료</th>\n",
       "      <th>구기/필드스포츠</th>\n",
       "      <th>냉장/세탁가전</th>\n",
       "      <th>냉동식품</th>\n",
       "      <th>냉장식품</th>\n",
       "      <th>원예/애완</th>\n",
       "      <th>상품권</th>\n",
       "      <th>자동차용품</th>\n",
       "      <th>축산물</th>\n",
       "      <th>영상/음향가전</th>\n",
       "    </tr>\n",
       "  </thead>\n",
       "  <tbody>\n",
       "    <tr>\n",
       "      <th>4140076</th>\n",
       "      <td>23.0</td>\n",
       "      <td>52.0</td>\n",
       "      <td>17.0</td>\n",
       "      <td>5.0</td>\n",
       "      <td>5.0</td>\n",
       "      <td>24.0</td>\n",
       "      <td>8.0</td>\n",
       "      <td>8.0</td>\n",
       "      <td>7.0</td>\n",
       "      <td>4.0</td>\n",
       "      <td>...</td>\n",
       "      <td>0.0</td>\n",
       "      <td>0.0</td>\n",
       "      <td>0.0</td>\n",
       "      <td>0.0</td>\n",
       "      <td>0.0</td>\n",
       "      <td>0.0</td>\n",
       "      <td>0.0</td>\n",
       "      <td>0.0</td>\n",
       "      <td>0.0</td>\n",
       "      <td>0.0</td>\n",
       "    </tr>\n",
       "    <tr>\n",
       "      <th>4148106</th>\n",
       "      <td>3.0</td>\n",
       "      <td>3.0</td>\n",
       "      <td>0.0</td>\n",
       "      <td>0.0</td>\n",
       "      <td>0.0</td>\n",
       "      <td>9.0</td>\n",
       "      <td>7.0</td>\n",
       "      <td>0.0</td>\n",
       "      <td>0.0</td>\n",
       "      <td>0.0</td>\n",
       "      <td>...</td>\n",
       "      <td>0.0</td>\n",
       "      <td>0.0</td>\n",
       "      <td>0.0</td>\n",
       "      <td>0.0</td>\n",
       "      <td>0.0</td>\n",
       "      <td>0.0</td>\n",
       "      <td>0.0</td>\n",
       "      <td>0.0</td>\n",
       "      <td>0.0</td>\n",
       "      <td>0.0</td>\n",
       "    </tr>\n",
       "    <tr>\n",
       "      <th>5298612</th>\n",
       "      <td>1.0</td>\n",
       "      <td>4.0</td>\n",
       "      <td>2.0</td>\n",
       "      <td>0.0</td>\n",
       "      <td>0.0</td>\n",
       "      <td>0.0</td>\n",
       "      <td>0.0</td>\n",
       "      <td>0.0</td>\n",
       "      <td>0.0</td>\n",
       "      <td>0.0</td>\n",
       "      <td>...</td>\n",
       "      <td>0.0</td>\n",
       "      <td>0.0</td>\n",
       "      <td>0.0</td>\n",
       "      <td>0.0</td>\n",
       "      <td>0.0</td>\n",
       "      <td>0.0</td>\n",
       "      <td>0.0</td>\n",
       "      <td>0.0</td>\n",
       "      <td>0.0</td>\n",
       "      <td>0.0</td>\n",
       "    </tr>\n",
       "    <tr>\n",
       "      <th>5553084</th>\n",
       "      <td>7.0</td>\n",
       "      <td>13.0</td>\n",
       "      <td>21.0</td>\n",
       "      <td>0.0</td>\n",
       "      <td>3.0</td>\n",
       "      <td>10.0</td>\n",
       "      <td>11.0</td>\n",
       "      <td>19.0</td>\n",
       "      <td>0.0</td>\n",
       "      <td>6.0</td>\n",
       "      <td>...</td>\n",
       "      <td>0.0</td>\n",
       "      <td>3.0</td>\n",
       "      <td>0.0</td>\n",
       "      <td>0.0</td>\n",
       "      <td>0.0</td>\n",
       "      <td>0.0</td>\n",
       "      <td>0.0</td>\n",
       "      <td>0.0</td>\n",
       "      <td>0.0</td>\n",
       "      <td>0.0</td>\n",
       "    </tr>\n",
       "    <tr>\n",
       "      <th>5639922</th>\n",
       "      <td>11.0</td>\n",
       "      <td>16.0</td>\n",
       "      <td>9.0</td>\n",
       "      <td>0.0</td>\n",
       "      <td>0.0</td>\n",
       "      <td>17.0</td>\n",
       "      <td>4.0</td>\n",
       "      <td>55.0</td>\n",
       "      <td>0.0</td>\n",
       "      <td>12.0</td>\n",
       "      <td>...</td>\n",
       "      <td>0.0</td>\n",
       "      <td>0.0</td>\n",
       "      <td>0.0</td>\n",
       "      <td>0.0</td>\n",
       "      <td>0.0</td>\n",
       "      <td>16.0</td>\n",
       "      <td>0.0</td>\n",
       "      <td>0.0</td>\n",
       "      <td>0.0</td>\n",
       "      <td>0.0</td>\n",
       "    </tr>\n",
       "    <tr>\n",
       "      <th>5650295</th>\n",
       "      <td>2.0</td>\n",
       "      <td>0.0</td>\n",
       "      <td>0.0</td>\n",
       "      <td>0.0</td>\n",
       "      <td>0.0</td>\n",
       "      <td>1.0</td>\n",
       "      <td>1.0</td>\n",
       "      <td>0.0</td>\n",
       "      <td>0.0</td>\n",
       "      <td>0.0</td>\n",
       "      <td>...</td>\n",
       "      <td>0.0</td>\n",
       "      <td>0.0</td>\n",
       "      <td>0.0</td>\n",
       "      <td>0.0</td>\n",
       "      <td>0.0</td>\n",
       "      <td>0.0</td>\n",
       "      <td>0.0</td>\n",
       "      <td>0.0</td>\n",
       "      <td>0.0</td>\n",
       "      <td>0.0</td>\n",
       "    </tr>\n",
       "    <tr>\n",
       "      <th>5851368</th>\n",
       "      <td>8.0</td>\n",
       "      <td>0.0</td>\n",
       "      <td>0.0</td>\n",
       "      <td>0.0</td>\n",
       "      <td>0.0</td>\n",
       "      <td>0.0</td>\n",
       "      <td>0.0</td>\n",
       "      <td>0.0</td>\n",
       "      <td>0.0</td>\n",
       "      <td>0.0</td>\n",
       "      <td>...</td>\n",
       "      <td>0.0</td>\n",
       "      <td>0.0</td>\n",
       "      <td>0.0</td>\n",
       "      <td>0.0</td>\n",
       "      <td>0.0</td>\n",
       "      <td>0.0</td>\n",
       "      <td>0.0</td>\n",
       "      <td>0.0</td>\n",
       "      <td>0.0</td>\n",
       "      <td>0.0</td>\n",
       "    </tr>\n",
       "    <tr>\n",
       "      <th>4128075</th>\n",
       "      <td>10.0</td>\n",
       "      <td>0.0</td>\n",
       "      <td>0.0</td>\n",
       "      <td>0.0</td>\n",
       "      <td>0.0</td>\n",
       "      <td>1.0</td>\n",
       "      <td>8.0</td>\n",
       "      <td>8.0</td>\n",
       "      <td>0.0</td>\n",
       "      <td>0.0</td>\n",
       "      <td>...</td>\n",
       "      <td>0.0</td>\n",
       "      <td>0.0</td>\n",
       "      <td>0.0</td>\n",
       "      <td>0.0</td>\n",
       "      <td>0.0</td>\n",
       "      <td>0.0</td>\n",
       "      <td>0.0</td>\n",
       "      <td>0.0</td>\n",
       "      <td>0.0</td>\n",
       "      <td>0.0</td>\n",
       "    </tr>\n",
       "    <tr>\n",
       "      <th>4207528</th>\n",
       "      <td>3.0</td>\n",
       "      <td>2.0</td>\n",
       "      <td>1.0</td>\n",
       "      <td>2.0</td>\n",
       "      <td>0.0</td>\n",
       "      <td>7.0</td>\n",
       "      <td>0.0</td>\n",
       "      <td>5.0</td>\n",
       "      <td>2.0</td>\n",
       "      <td>9.0</td>\n",
       "      <td>...</td>\n",
       "      <td>0.0</td>\n",
       "      <td>0.0</td>\n",
       "      <td>0.0</td>\n",
       "      <td>0.0</td>\n",
       "      <td>0.0</td>\n",
       "      <td>0.0</td>\n",
       "      <td>0.0</td>\n",
       "      <td>0.0</td>\n",
       "      <td>0.0</td>\n",
       "      <td>0.0</td>\n",
       "    </tr>\n",
       "    <tr>\n",
       "      <th>4219875</th>\n",
       "      <td>5.0</td>\n",
       "      <td>0.0</td>\n",
       "      <td>0.0</td>\n",
       "      <td>6.0</td>\n",
       "      <td>0.0</td>\n",
       "      <td>2.0</td>\n",
       "      <td>0.0</td>\n",
       "      <td>2.0</td>\n",
       "      <td>0.0</td>\n",
       "      <td>0.0</td>\n",
       "      <td>...</td>\n",
       "      <td>0.0</td>\n",
       "      <td>0.0</td>\n",
       "      <td>0.0</td>\n",
       "      <td>0.0</td>\n",
       "      <td>0.0</td>\n",
       "      <td>0.0</td>\n",
       "      <td>0.0</td>\n",
       "      <td>0.0</td>\n",
       "      <td>0.0</td>\n",
       "      <td>0.0</td>\n",
       "    </tr>\n",
       "    <tr>\n",
       "      <th>5856603</th>\n",
       "      <td>5.0</td>\n",
       "      <td>1.0</td>\n",
       "      <td>0.0</td>\n",
       "      <td>0.0</td>\n",
       "      <td>0.0</td>\n",
       "      <td>2.0</td>\n",
       "      <td>0.0</td>\n",
       "      <td>4.0</td>\n",
       "      <td>0.0</td>\n",
       "      <td>0.0</td>\n",
       "      <td>...</td>\n",
       "      <td>0.0</td>\n",
       "      <td>0.0</td>\n",
       "      <td>0.0</td>\n",
       "      <td>0.0</td>\n",
       "      <td>0.0</td>\n",
       "      <td>0.0</td>\n",
       "      <td>0.0</td>\n",
       "      <td>0.0</td>\n",
       "      <td>0.0</td>\n",
       "      <td>0.0</td>\n",
       "    </tr>\n",
       "    <tr>\n",
       "      <th>5887954</th>\n",
       "      <td>7.0</td>\n",
       "      <td>7.0</td>\n",
       "      <td>0.0</td>\n",
       "      <td>0.0</td>\n",
       "      <td>0.0</td>\n",
       "      <td>2.0</td>\n",
       "      <td>0.0</td>\n",
       "      <td>8.0</td>\n",
       "      <td>0.0</td>\n",
       "      <td>3.0</td>\n",
       "      <td>...</td>\n",
       "      <td>0.0</td>\n",
       "      <td>0.0</td>\n",
       "      <td>0.0</td>\n",
       "      <td>0.0</td>\n",
       "      <td>0.0</td>\n",
       "      <td>0.0</td>\n",
       "      <td>0.0</td>\n",
       "      <td>0.0</td>\n",
       "      <td>0.0</td>\n",
       "      <td>0.0</td>\n",
       "    </tr>\n",
       "    <tr>\n",
       "      <th>4629455</th>\n",
       "      <td>19.0</td>\n",
       "      <td>0.0</td>\n",
       "      <td>0.0</td>\n",
       "      <td>0.0</td>\n",
       "      <td>0.0</td>\n",
       "      <td>0.0</td>\n",
       "      <td>0.0</td>\n",
       "      <td>0.0</td>\n",
       "      <td>0.0</td>\n",
       "      <td>0.0</td>\n",
       "      <td>...</td>\n",
       "      <td>0.0</td>\n",
       "      <td>2.0</td>\n",
       "      <td>0.0</td>\n",
       "      <td>0.0</td>\n",
       "      <td>0.0</td>\n",
       "      <td>0.0</td>\n",
       "      <td>0.0</td>\n",
       "      <td>0.0</td>\n",
       "      <td>0.0</td>\n",
       "      <td>0.0</td>\n",
       "    </tr>\n",
       "    <tr>\n",
       "      <th>4716267</th>\n",
       "      <td>1.0</td>\n",
       "      <td>1.0</td>\n",
       "      <td>2.0</td>\n",
       "      <td>0.0</td>\n",
       "      <td>0.0</td>\n",
       "      <td>0.0</td>\n",
       "      <td>0.0</td>\n",
       "      <td>6.0</td>\n",
       "      <td>0.0</td>\n",
       "      <td>0.0</td>\n",
       "      <td>...</td>\n",
       "      <td>0.0</td>\n",
       "      <td>0.0</td>\n",
       "      <td>0.0</td>\n",
       "      <td>0.0</td>\n",
       "      <td>0.0</td>\n",
       "      <td>0.0</td>\n",
       "      <td>0.0</td>\n",
       "      <td>0.0</td>\n",
       "      <td>0.0</td>\n",
       "      <td>0.0</td>\n",
       "    </tr>\n",
       "    <tr>\n",
       "      <th>4160027</th>\n",
       "      <td>24.0</td>\n",
       "      <td>2.0</td>\n",
       "      <td>0.0</td>\n",
       "      <td>0.0</td>\n",
       "      <td>0.0</td>\n",
       "      <td>3.0</td>\n",
       "      <td>1.0</td>\n",
       "      <td>3.0</td>\n",
       "      <td>0.0</td>\n",
       "      <td>0.0</td>\n",
       "      <td>...</td>\n",
       "      <td>0.0</td>\n",
       "      <td>0.0</td>\n",
       "      <td>0.0</td>\n",
       "      <td>0.0</td>\n",
       "      <td>0.0</td>\n",
       "      <td>0.0</td>\n",
       "      <td>0.0</td>\n",
       "      <td>0.0</td>\n",
       "      <td>0.0</td>\n",
       "      <td>0.0</td>\n",
       "    </tr>\n",
       "  </tbody>\n",
       "</table>\n",
       "<p>15 rows × 37 columns</p>\n",
       "</div>"
      ],
      "text/plain": [
       "         스포츠패션  남성의류  유아동의류  청소/세탁/욕실용품   완구  패션잡화  시즌스포츠  여성의류  인테리어/조명  \\\n",
       "4140076   23.0  52.0   17.0         5.0  5.0  24.0    8.0   8.0      7.0   \n",
       "4148106    3.0   3.0    0.0         0.0  0.0   9.0    7.0   0.0      0.0   \n",
       "5298612    1.0   4.0    2.0         0.0  0.0   0.0    0.0   0.0      0.0   \n",
       "5553084    7.0  13.0   21.0         0.0  3.0  10.0   11.0  19.0      0.0   \n",
       "5639922   11.0  16.0    9.0         0.0  0.0  17.0    4.0  55.0      0.0   \n",
       "5650295    2.0   0.0    0.0         0.0  0.0   1.0    1.0   0.0      0.0   \n",
       "5851368    8.0   0.0    0.0         0.0  0.0   0.0    0.0   0.0      0.0   \n",
       "4128075   10.0   0.0    0.0         0.0  0.0   1.0    8.0   8.0      0.0   \n",
       "4207528    3.0   2.0    1.0         2.0  0.0   7.0    0.0   5.0      2.0   \n",
       "4219875    5.0   0.0    0.0         6.0  0.0   2.0    0.0   2.0      0.0   \n",
       "5856603    5.0   1.0    0.0         0.0  0.0   2.0    0.0   4.0      0.0   \n",
       "5887954    7.0   7.0    0.0         0.0  0.0   2.0    0.0   8.0      0.0   \n",
       "4629455   19.0   0.0    0.0         0.0  0.0   0.0    0.0   0.0      0.0   \n",
       "4716267    1.0   1.0    2.0         0.0  0.0   0.0    0.0   6.0      0.0   \n",
       "4160027   24.0   2.0    0.0         0.0  0.0   3.0    1.0   3.0      0.0   \n",
       "\n",
       "         속옷/양말/홈웨어   ...      음료  구기/필드스포츠  냉장/세탁가전  냉동식품  냉장식품  원예/애완  상품권  \\\n",
       "4140076        4.0   ...     0.0       0.0      0.0   0.0   0.0    0.0  0.0   \n",
       "4148106        0.0   ...     0.0       0.0      0.0   0.0   0.0    0.0  0.0   \n",
       "5298612        0.0   ...     0.0       0.0      0.0   0.0   0.0    0.0  0.0   \n",
       "5553084        6.0   ...     0.0       3.0      0.0   0.0   0.0    0.0  0.0   \n",
       "5639922       12.0   ...     0.0       0.0      0.0   0.0   0.0   16.0  0.0   \n",
       "5650295        0.0   ...     0.0       0.0      0.0   0.0   0.0    0.0  0.0   \n",
       "5851368        0.0   ...     0.0       0.0      0.0   0.0   0.0    0.0  0.0   \n",
       "4128075        0.0   ...     0.0       0.0      0.0   0.0   0.0    0.0  0.0   \n",
       "4207528        9.0   ...     0.0       0.0      0.0   0.0   0.0    0.0  0.0   \n",
       "4219875        0.0   ...     0.0       0.0      0.0   0.0   0.0    0.0  0.0   \n",
       "5856603        0.0   ...     0.0       0.0      0.0   0.0   0.0    0.0  0.0   \n",
       "5887954        3.0   ...     0.0       0.0      0.0   0.0   0.0    0.0  0.0   \n",
       "4629455        0.0   ...     0.0       2.0      0.0   0.0   0.0    0.0  0.0   \n",
       "4716267        0.0   ...     0.0       0.0      0.0   0.0   0.0    0.0  0.0   \n",
       "4160027        0.0   ...     0.0       0.0      0.0   0.0   0.0    0.0  0.0   \n",
       "\n",
       "         자동차용품  축산물  영상/음향가전  \n",
       "4140076    0.0  0.0      0.0  \n",
       "4148106    0.0  0.0      0.0  \n",
       "5298612    0.0  0.0      0.0  \n",
       "5553084    0.0  0.0      0.0  \n",
       "5639922    0.0  0.0      0.0  \n",
       "5650295    0.0  0.0      0.0  \n",
       "5851368    0.0  0.0      0.0  \n",
       "4128075    0.0  0.0      0.0  \n",
       "4207528    0.0  0.0      0.0  \n",
       "4219875    0.0  0.0      0.0  \n",
       "5856603    0.0  0.0      0.0  \n",
       "5887954    0.0  0.0      0.0  \n",
       "4629455    0.0  0.0      0.0  \n",
       "4716267    0.0  0.0      0.0  \n",
       "4160027    0.0  0.0      0.0  \n",
       "\n",
       "[15 rows x 37 columns]"
      ]
     },
     "execution_count": 13,
     "metadata": {},
     "output_type": "execute_result"
    }
   ],
   "source": [
    "#일부 row만 출력\n",
    "temp[0:15] #0번째 row부터 14번째 row까지 출력됨 "
   ]
  },
  {
   "cell_type": "code",
   "execution_count": 14,
   "metadata": {},
   "outputs": [
    {
     "name": "stdout",
     "output_type": "stream",
     "text": [
      "         스포츠패션  남성의류  유아동의류  청소/세탁/욕실용품   완구  패션잡화  시즌스포츠  여성의류  인테리어/조명  \\\n",
      "4140076   23.0  52.0   17.0         5.0  5.0  24.0    8.0   8.0      7.0   \n",
      "4148106    3.0   3.0    0.0         0.0  0.0   9.0    7.0   0.0      0.0   \n",
      "5298612    1.0   4.0    2.0         0.0  0.0   0.0    0.0   0.0      0.0   \n",
      "5553084    7.0  13.0   21.0         0.0  3.0  10.0   11.0  19.0      0.0   \n",
      "5639922   11.0  16.0    9.0         0.0  0.0  17.0    4.0  55.0      0.0   \n",
      "\n",
      "         속옷/양말/홈웨어   ...      음료  구기/필드스포츠  냉장/세탁가전  냉동식품  냉장식품  원예/애완  상품권  \\\n",
      "4140076        4.0   ...     0.0       0.0      0.0   0.0   0.0    0.0  0.0   \n",
      "4148106        0.0   ...     0.0       0.0      0.0   0.0   0.0    0.0  0.0   \n",
      "5298612        0.0   ...     0.0       0.0      0.0   0.0   0.0    0.0  0.0   \n",
      "5553084        6.0   ...     0.0       3.0      0.0   0.0   0.0    0.0  0.0   \n",
      "5639922       12.0   ...     0.0       0.0      0.0   0.0   0.0   16.0  0.0   \n",
      "\n",
      "         자동차용품  축산물  영상/음향가전  \n",
      "4140076    0.0  0.0      0.0  \n",
      "4148106    0.0  0.0      0.0  \n",
      "5298612    0.0  0.0      0.0  \n",
      "5553084    0.0  0.0      0.0  \n",
      "5639922    0.0  0.0      0.0  \n",
      "\n",
      "[5 rows x 37 columns]\n",
      "(375839, 37)\n"
     ]
    }
   ],
   "source": [
    "#이제 이 Purchase_Count를 이용할 것임\n",
    "Purchase_Count = temp\n",
    "print(Purchase_Count.head())\n",
    "print(Purchase_Count.shape)"
   ]
  },
  {
   "cell_type": "code",
   "execution_count": 15,
   "metadata": {},
   "outputs": [
    {
     "name": "stdout",
     "output_type": "stream",
     "text": [
      "[[23. 52. 17. ...  0.  0.  0.]\n",
      " [ 3.  3.  0. ...  0.  0.  0.]\n",
      " [ 1.  4.  2. ...  0.  0.  0.]\n",
      " ...\n",
      " [ 2.  0.  0. ...  0.  0.  0.]\n",
      " [ 0.  1.  0. ...  0.  0.  0.]\n",
      " [ 2.  0.  0. ...  0.  0.  0.]]\n",
      "(375839, 37)\n"
     ]
    }
   ],
   "source": [
    "#안에 있는 element값만 가져온 것\n",
    "print(temp_matrix)\n",
    "print(temp_matrix.shape)"
   ]
  },
  {
   "cell_type": "code",
   "execution_count": 16,
   "metadata": {},
   "outputs": [],
   "source": [
    "#PC라는 명칭으로 이용할 것\n",
    "PC = temp_matrix"
   ]
  },
  {
   "cell_type": "code",
   "execution_count": 17,
   "metadata": {},
   "outputs": [
    {
     "data": {
      "text/plain": [
       "array([[23., 52., 17., ...,  0.,  0.,  0.],\n",
       "       [ 3.,  3.,  0., ...,  0.,  0.,  0.],\n",
       "       [ 1.,  4.,  2., ...,  0.,  0.,  0.],\n",
       "       ...,\n",
       "       [ 2.,  0.,  0., ...,  0.,  0.,  0.],\n",
       "       [ 0.,  1.,  0., ...,  0.,  0.,  0.],\n",
       "       [ 2.,  0.,  0., ...,  0.,  0.,  0.]])"
      ]
     },
     "execution_count": 17,
     "metadata": {},
     "output_type": "execute_result"
    }
   ],
   "source": [
    "PC"
   ]
  },
  {
   "cell_type": "code",
   "execution_count": 18,
   "metadata": {},
   "outputs": [
    {
     "name": "stdout",
     "output_type": "stream",
     "text": [
      "Sparsity: {:4.2f}% 7.940173922948462\n"
     ]
    }
   ],
   "source": [
    "sparsity = float(len(PC.nonzero()[0]))\n",
    "sparsity /= (PC.shape[0] * PC.shape[1])\n",
    "sparsity *= 100\n",
    "print('Sparsity: {:4.2f}%',format(sparsity))"
   ]
  },
  {
   "cell_type": "code",
   "execution_count": 19,
   "metadata": {},
   "outputs": [],
   "source": [
    "from sklearn.model_selection import train_test_split"
   ]
  },
  {
   "cell_type": "code",
   "execution_count": 31,
   "metadata": {},
   "outputs": [],
   "source": [
    "#test set과 training set으로 나누기\n",
    "PC_train, PC_test = train_test_split(Purchase_Count, test_size = 0.33, random_state = 50)"
   ]
  },
  {
   "cell_type": "code",
   "execution_count": 32,
   "metadata": {},
   "outputs": [
    {
     "name": "stdout",
     "output_type": "stream",
     "text": [
      "(251812, 37)\n",
      "(124027, 37)\n"
     ]
    }
   ],
   "source": [
    "#print(PC_train)\n",
    "print(PC_train.shape)\n",
    "#print(PC_test)\n",
    "print(PC_test.shape)"
   ]
  },
  {
   "cell_type": "code",
   "execution_count": 33,
   "metadata": {},
   "outputs": [
    {
     "data": {
      "text/html": [
       "<div>\n",
       "<style scoped>\n",
       "    .dataframe tbody tr th:only-of-type {\n",
       "        vertical-align: middle;\n",
       "    }\n",
       "\n",
       "    .dataframe tbody tr th {\n",
       "        vertical-align: top;\n",
       "    }\n",
       "\n",
       "    .dataframe thead th {\n",
       "        text-align: right;\n",
       "    }\n",
       "</style>\n",
       "<table border=\"1\" class=\"dataframe\">\n",
       "  <thead>\n",
       "    <tr style=\"text-align: right;\">\n",
       "      <th></th>\n",
       "      <th>스포츠패션</th>\n",
       "      <th>남성의류</th>\n",
       "      <th>유아동의류</th>\n",
       "      <th>청소/세탁/욕실용품</th>\n",
       "      <th>완구</th>\n",
       "      <th>패션잡화</th>\n",
       "      <th>시즌스포츠</th>\n",
       "      <th>여성의류</th>\n",
       "      <th>인테리어/조명</th>\n",
       "      <th>속옷/양말/홈웨어</th>\n",
       "      <th>...</th>\n",
       "      <th>음료</th>\n",
       "      <th>구기/필드스포츠</th>\n",
       "      <th>냉장/세탁가전</th>\n",
       "      <th>냉동식품</th>\n",
       "      <th>냉장식품</th>\n",
       "      <th>원예/애완</th>\n",
       "      <th>상품권</th>\n",
       "      <th>자동차용품</th>\n",
       "      <th>축산물</th>\n",
       "      <th>영상/음향가전</th>\n",
       "    </tr>\n",
       "  </thead>\n",
       "  <tbody>\n",
       "    <tr>\n",
       "      <th>598339</th>\n",
       "      <td>8.0</td>\n",
       "      <td>0.0</td>\n",
       "      <td>0.0</td>\n",
       "      <td>0.0</td>\n",
       "      <td>0.0</td>\n",
       "      <td>0.0</td>\n",
       "      <td>0.0</td>\n",
       "      <td>2.0</td>\n",
       "      <td>0.0</td>\n",
       "      <td>0.0</td>\n",
       "      <td>...</td>\n",
       "      <td>0.0</td>\n",
       "      <td>3.0</td>\n",
       "      <td>0.0</td>\n",
       "      <td>0.0</td>\n",
       "      <td>0.0</td>\n",
       "      <td>0.0</td>\n",
       "      <td>0.0</td>\n",
       "      <td>0.0</td>\n",
       "      <td>0.0</td>\n",
       "      <td>0.0</td>\n",
       "    </tr>\n",
       "    <tr>\n",
       "      <th>1000521</th>\n",
       "      <td>0.0</td>\n",
       "      <td>0.0</td>\n",
       "      <td>0.0</td>\n",
       "      <td>0.0</td>\n",
       "      <td>0.0</td>\n",
       "      <td>0.0</td>\n",
       "      <td>0.0</td>\n",
       "      <td>1.0</td>\n",
       "      <td>0.0</td>\n",
       "      <td>0.0</td>\n",
       "      <td>...</td>\n",
       "      <td>0.0</td>\n",
       "      <td>0.0</td>\n",
       "      <td>0.0</td>\n",
       "      <td>0.0</td>\n",
       "      <td>0.0</td>\n",
       "      <td>0.0</td>\n",
       "      <td>0.0</td>\n",
       "      <td>0.0</td>\n",
       "      <td>0.0</td>\n",
       "      <td>0.0</td>\n",
       "    </tr>\n",
       "    <tr>\n",
       "      <th>1386382</th>\n",
       "      <td>4.0</td>\n",
       "      <td>1.0</td>\n",
       "      <td>5.0</td>\n",
       "      <td>0.0</td>\n",
       "      <td>0.0</td>\n",
       "      <td>1.0</td>\n",
       "      <td>7.0</td>\n",
       "      <td>1.0</td>\n",
       "      <td>0.0</td>\n",
       "      <td>1.0</td>\n",
       "      <td>...</td>\n",
       "      <td>0.0</td>\n",
       "      <td>0.0</td>\n",
       "      <td>0.0</td>\n",
       "      <td>0.0</td>\n",
       "      <td>0.0</td>\n",
       "      <td>0.0</td>\n",
       "      <td>0.0</td>\n",
       "      <td>0.0</td>\n",
       "      <td>0.0</td>\n",
       "      <td>0.0</td>\n",
       "    </tr>\n",
       "    <tr>\n",
       "      <th>5853909</th>\n",
       "      <td>0.0</td>\n",
       "      <td>0.0</td>\n",
       "      <td>0.0</td>\n",
       "      <td>0.0</td>\n",
       "      <td>1.0</td>\n",
       "      <td>0.0</td>\n",
       "      <td>0.0</td>\n",
       "      <td>0.0</td>\n",
       "      <td>0.0</td>\n",
       "      <td>0.0</td>\n",
       "      <td>...</td>\n",
       "      <td>0.0</td>\n",
       "      <td>0.0</td>\n",
       "      <td>0.0</td>\n",
       "      <td>0.0</td>\n",
       "      <td>0.0</td>\n",
       "      <td>0.0</td>\n",
       "      <td>0.0</td>\n",
       "      <td>0.0</td>\n",
       "      <td>0.0</td>\n",
       "      <td>0.0</td>\n",
       "    </tr>\n",
       "    <tr>\n",
       "      <th>5256290</th>\n",
       "      <td>0.0</td>\n",
       "      <td>0.0</td>\n",
       "      <td>0.0</td>\n",
       "      <td>0.0</td>\n",
       "      <td>0.0</td>\n",
       "      <td>1.0</td>\n",
       "      <td>0.0</td>\n",
       "      <td>0.0</td>\n",
       "      <td>0.0</td>\n",
       "      <td>0.0</td>\n",
       "      <td>...</td>\n",
       "      <td>0.0</td>\n",
       "      <td>0.0</td>\n",
       "      <td>0.0</td>\n",
       "      <td>0.0</td>\n",
       "      <td>0.0</td>\n",
       "      <td>0.0</td>\n",
       "      <td>0.0</td>\n",
       "      <td>0.0</td>\n",
       "      <td>0.0</td>\n",
       "      <td>0.0</td>\n",
       "    </tr>\n",
       "  </tbody>\n",
       "</table>\n",
       "<p>5 rows × 37 columns</p>\n",
       "</div>"
      ],
      "text/plain": [
       "         스포츠패션  남성의류  유아동의류  청소/세탁/욕실용품   완구  패션잡화  시즌스포츠  여성의류  인테리어/조명  \\\n",
       "598339     8.0   0.0    0.0         0.0  0.0   0.0    0.0   2.0      0.0   \n",
       "1000521    0.0   0.0    0.0         0.0  0.0   0.0    0.0   1.0      0.0   \n",
       "1386382    4.0   1.0    5.0         0.0  0.0   1.0    7.0   1.0      0.0   \n",
       "5853909    0.0   0.0    0.0         0.0  1.0   0.0    0.0   0.0      0.0   \n",
       "5256290    0.0   0.0    0.0         0.0  0.0   1.0    0.0   0.0      0.0   \n",
       "\n",
       "         속옷/양말/홈웨어   ...      음료  구기/필드스포츠  냉장/세탁가전  냉동식품  냉장식품  원예/애완  상품권  \\\n",
       "598339         0.0   ...     0.0       3.0      0.0   0.0   0.0    0.0  0.0   \n",
       "1000521        0.0   ...     0.0       0.0      0.0   0.0   0.0    0.0  0.0   \n",
       "1386382        1.0   ...     0.0       0.0      0.0   0.0   0.0    0.0  0.0   \n",
       "5853909        0.0   ...     0.0       0.0      0.0   0.0   0.0    0.0  0.0   \n",
       "5256290        0.0   ...     0.0       0.0      0.0   0.0   0.0    0.0  0.0   \n",
       "\n",
       "         자동차용품  축산물  영상/음향가전  \n",
       "598339     0.0  0.0      0.0  \n",
       "1000521    0.0  0.0      0.0  \n",
       "1386382    0.0  0.0      0.0  \n",
       "5853909    0.0  0.0      0.0  \n",
       "5256290    0.0  0.0      0.0  \n",
       "\n",
       "[5 rows x 37 columns]"
      ]
     },
     "execution_count": 33,
     "metadata": {},
     "output_type": "execute_result"
    }
   ],
   "source": [
    "PC_train = pd.DataFrame(PC_train)\n",
    "PC_train.head()"
   ]
  },
  {
   "cell_type": "code",
   "execution_count": 34,
   "metadata": {},
   "outputs": [
    {
     "data": {
      "text/html": [
       "<div>\n",
       "<style scoped>\n",
       "    .dataframe tbody tr th:only-of-type {\n",
       "        vertical-align: middle;\n",
       "    }\n",
       "\n",
       "    .dataframe tbody tr th {\n",
       "        vertical-align: top;\n",
       "    }\n",
       "\n",
       "    .dataframe thead th {\n",
       "        text-align: right;\n",
       "    }\n",
       "</style>\n",
       "<table border=\"1\" class=\"dataframe\">\n",
       "  <thead>\n",
       "    <tr style=\"text-align: right;\">\n",
       "      <th></th>\n",
       "      <th>스포츠패션</th>\n",
       "      <th>남성의류</th>\n",
       "      <th>유아동의류</th>\n",
       "      <th>청소/세탁/욕실용품</th>\n",
       "      <th>완구</th>\n",
       "      <th>패션잡화</th>\n",
       "      <th>시즌스포츠</th>\n",
       "      <th>여성의류</th>\n",
       "      <th>인테리어/조명</th>\n",
       "      <th>속옷/양말/홈웨어</th>\n",
       "      <th>...</th>\n",
       "      <th>음료</th>\n",
       "      <th>구기/필드스포츠</th>\n",
       "      <th>냉장/세탁가전</th>\n",
       "      <th>냉동식품</th>\n",
       "      <th>냉장식품</th>\n",
       "      <th>원예/애완</th>\n",
       "      <th>상품권</th>\n",
       "      <th>자동차용품</th>\n",
       "      <th>축산물</th>\n",
       "      <th>영상/음향가전</th>\n",
       "    </tr>\n",
       "  </thead>\n",
       "  <tbody>\n",
       "    <tr>\n",
       "      <th>598339</th>\n",
       "      <td>8.0</td>\n",
       "      <td>0.0</td>\n",
       "      <td>0.0</td>\n",
       "      <td>0.0</td>\n",
       "      <td>0.0</td>\n",
       "      <td>0.0</td>\n",
       "      <td>0.0</td>\n",
       "      <td>2.0</td>\n",
       "      <td>0.0</td>\n",
       "      <td>0.0</td>\n",
       "      <td>...</td>\n",
       "      <td>0.0</td>\n",
       "      <td>3.0</td>\n",
       "      <td>0.0</td>\n",
       "      <td>0.0</td>\n",
       "      <td>0.0</td>\n",
       "      <td>0.0</td>\n",
       "      <td>0.0</td>\n",
       "      <td>0.0</td>\n",
       "      <td>0.0</td>\n",
       "      <td>0.0</td>\n",
       "    </tr>\n",
       "    <tr>\n",
       "      <th>1000521</th>\n",
       "      <td>0.0</td>\n",
       "      <td>0.0</td>\n",
       "      <td>0.0</td>\n",
       "      <td>0.0</td>\n",
       "      <td>0.0</td>\n",
       "      <td>0.0</td>\n",
       "      <td>0.0</td>\n",
       "      <td>1.0</td>\n",
       "      <td>0.0</td>\n",
       "      <td>0.0</td>\n",
       "      <td>...</td>\n",
       "      <td>0.0</td>\n",
       "      <td>0.0</td>\n",
       "      <td>0.0</td>\n",
       "      <td>0.0</td>\n",
       "      <td>0.0</td>\n",
       "      <td>0.0</td>\n",
       "      <td>0.0</td>\n",
       "      <td>0.0</td>\n",
       "      <td>0.0</td>\n",
       "      <td>0.0</td>\n",
       "    </tr>\n",
       "    <tr>\n",
       "      <th>1386382</th>\n",
       "      <td>4.0</td>\n",
       "      <td>1.0</td>\n",
       "      <td>5.0</td>\n",
       "      <td>0.0</td>\n",
       "      <td>0.0</td>\n",
       "      <td>1.0</td>\n",
       "      <td>7.0</td>\n",
       "      <td>1.0</td>\n",
       "      <td>0.0</td>\n",
       "      <td>1.0</td>\n",
       "      <td>...</td>\n",
       "      <td>0.0</td>\n",
       "      <td>0.0</td>\n",
       "      <td>0.0</td>\n",
       "      <td>0.0</td>\n",
       "      <td>0.0</td>\n",
       "      <td>0.0</td>\n",
       "      <td>0.0</td>\n",
       "      <td>0.0</td>\n",
       "      <td>0.0</td>\n",
       "      <td>0.0</td>\n",
       "    </tr>\n",
       "    <tr>\n",
       "      <th>5853909</th>\n",
       "      <td>0.0</td>\n",
       "      <td>0.0</td>\n",
       "      <td>0.0</td>\n",
       "      <td>0.0</td>\n",
       "      <td>1.0</td>\n",
       "      <td>0.0</td>\n",
       "      <td>0.0</td>\n",
       "      <td>0.0</td>\n",
       "      <td>0.0</td>\n",
       "      <td>0.0</td>\n",
       "      <td>...</td>\n",
       "      <td>0.0</td>\n",
       "      <td>0.0</td>\n",
       "      <td>0.0</td>\n",
       "      <td>0.0</td>\n",
       "      <td>0.0</td>\n",
       "      <td>0.0</td>\n",
       "      <td>0.0</td>\n",
       "      <td>0.0</td>\n",
       "      <td>0.0</td>\n",
       "      <td>0.0</td>\n",
       "    </tr>\n",
       "    <tr>\n",
       "      <th>5256290</th>\n",
       "      <td>0.0</td>\n",
       "      <td>0.0</td>\n",
       "      <td>0.0</td>\n",
       "      <td>0.0</td>\n",
       "      <td>0.0</td>\n",
       "      <td>1.0</td>\n",
       "      <td>0.0</td>\n",
       "      <td>0.0</td>\n",
       "      <td>0.0</td>\n",
       "      <td>0.0</td>\n",
       "      <td>...</td>\n",
       "      <td>0.0</td>\n",
       "      <td>0.0</td>\n",
       "      <td>0.0</td>\n",
       "      <td>0.0</td>\n",
       "      <td>0.0</td>\n",
       "      <td>0.0</td>\n",
       "      <td>0.0</td>\n",
       "      <td>0.0</td>\n",
       "      <td>0.0</td>\n",
       "      <td>0.0</td>\n",
       "    </tr>\n",
       "  </tbody>\n",
       "</table>\n",
       "<p>5 rows × 37 columns</p>\n",
       "</div>"
      ],
      "text/plain": [
       "         스포츠패션  남성의류  유아동의류  청소/세탁/욕실용품   완구  패션잡화  시즌스포츠  여성의류  인테리어/조명  \\\n",
       "598339     8.0   0.0    0.0         0.0  0.0   0.0    0.0   2.0      0.0   \n",
       "1000521    0.0   0.0    0.0         0.0  0.0   0.0    0.0   1.0      0.0   \n",
       "1386382    4.0   1.0    5.0         0.0  0.0   1.0    7.0   1.0      0.0   \n",
       "5853909    0.0   0.0    0.0         0.0  1.0   0.0    0.0   0.0      0.0   \n",
       "5256290    0.0   0.0    0.0         0.0  0.0   1.0    0.0   0.0      0.0   \n",
       "\n",
       "         속옷/양말/홈웨어   ...      음료  구기/필드스포츠  냉장/세탁가전  냉동식품  냉장식품  원예/애완  상품권  \\\n",
       "598339         0.0   ...     0.0       3.0      0.0   0.0   0.0    0.0  0.0   \n",
       "1000521        0.0   ...     0.0       0.0      0.0   0.0   0.0    0.0  0.0   \n",
       "1386382        1.0   ...     0.0       0.0      0.0   0.0   0.0    0.0  0.0   \n",
       "5853909        0.0   ...     0.0       0.0      0.0   0.0   0.0    0.0  0.0   \n",
       "5256290        0.0   ...     0.0       0.0      0.0   0.0   0.0    0.0  0.0   \n",
       "\n",
       "         자동차용품  축산물  영상/음향가전  \n",
       "598339     0.0  0.0      0.0  \n",
       "1000521    0.0  0.0      0.0  \n",
       "1386382    0.0  0.0      0.0  \n",
       "5853909    0.0  0.0      0.0  \n",
       "5256290    0.0  0.0      0.0  \n",
       "\n",
       "[5 rows x 37 columns]"
      ]
     },
     "execution_count": 34,
     "metadata": {},
     "output_type": "execute_result"
    }
   ],
   "source": [
    "PC_test = pd.DataFrame(PC_test)\n",
    "PC_train.head()"
   ]
  },
  {
   "cell_type": "markdown",
   "metadata": {},
   "source": [
    "### Cosine Distance를 이용한 선호점수 계산"
   ]
  },
  {
   "cell_type": "code",
   "execution_count": 35,
   "metadata": {},
   "outputs": [],
   "source": [
    "#row 길이가 너무 커서 줄일 필요가 있음 (나중에 클러스터링 결과에서 랜덤추출할 예정)\n",
    "temp_train = PC_train[0:1000]\n",
    "temp_test = PC_test[0:330]"
   ]
  },
  {
   "cell_type": "code",
   "execution_count": 36,
   "metadata": {},
   "outputs": [
    {
     "data": {
      "text/html": [
       "<div>\n",
       "<style scoped>\n",
       "    .dataframe tbody tr th:only-of-type {\n",
       "        vertical-align: middle;\n",
       "    }\n",
       "\n",
       "    .dataframe tbody tr th {\n",
       "        vertical-align: top;\n",
       "    }\n",
       "\n",
       "    .dataframe thead th {\n",
       "        text-align: right;\n",
       "    }\n",
       "</style>\n",
       "<table border=\"1\" class=\"dataframe\">\n",
       "  <thead>\n",
       "    <tr style=\"text-align: right;\">\n",
       "      <th></th>\n",
       "      <th>스포츠패션</th>\n",
       "      <th>남성의류</th>\n",
       "      <th>유아동의류</th>\n",
       "      <th>청소/세탁/욕실용품</th>\n",
       "      <th>완구</th>\n",
       "      <th>패션잡화</th>\n",
       "      <th>시즌스포츠</th>\n",
       "      <th>여성의류</th>\n",
       "      <th>인테리어/조명</th>\n",
       "      <th>속옷/양말/홈웨어</th>\n",
       "      <th>...</th>\n",
       "      <th>음료</th>\n",
       "      <th>구기/필드스포츠</th>\n",
       "      <th>냉장/세탁가전</th>\n",
       "      <th>냉동식품</th>\n",
       "      <th>냉장식품</th>\n",
       "      <th>원예/애완</th>\n",
       "      <th>상품권</th>\n",
       "      <th>자동차용품</th>\n",
       "      <th>축산물</th>\n",
       "      <th>영상/음향가전</th>\n",
       "    </tr>\n",
       "  </thead>\n",
       "  <tbody>\n",
       "    <tr>\n",
       "      <th>598339</th>\n",
       "      <td>8.0</td>\n",
       "      <td>0.0</td>\n",
       "      <td>0.0</td>\n",
       "      <td>0.0</td>\n",
       "      <td>0.0</td>\n",
       "      <td>0.0</td>\n",
       "      <td>0.0</td>\n",
       "      <td>2.0</td>\n",
       "      <td>0.0</td>\n",
       "      <td>0.0</td>\n",
       "      <td>...</td>\n",
       "      <td>0.0</td>\n",
       "      <td>3.0</td>\n",
       "      <td>0.0</td>\n",
       "      <td>0.0</td>\n",
       "      <td>0.0</td>\n",
       "      <td>0.0</td>\n",
       "      <td>0.0</td>\n",
       "      <td>0.0</td>\n",
       "      <td>0.0</td>\n",
       "      <td>0.0</td>\n",
       "    </tr>\n",
       "    <tr>\n",
       "      <th>1000521</th>\n",
       "      <td>0.0</td>\n",
       "      <td>0.0</td>\n",
       "      <td>0.0</td>\n",
       "      <td>0.0</td>\n",
       "      <td>0.0</td>\n",
       "      <td>0.0</td>\n",
       "      <td>0.0</td>\n",
       "      <td>1.0</td>\n",
       "      <td>0.0</td>\n",
       "      <td>0.0</td>\n",
       "      <td>...</td>\n",
       "      <td>0.0</td>\n",
       "      <td>0.0</td>\n",
       "      <td>0.0</td>\n",
       "      <td>0.0</td>\n",
       "      <td>0.0</td>\n",
       "      <td>0.0</td>\n",
       "      <td>0.0</td>\n",
       "      <td>0.0</td>\n",
       "      <td>0.0</td>\n",
       "      <td>0.0</td>\n",
       "    </tr>\n",
       "    <tr>\n",
       "      <th>1386382</th>\n",
       "      <td>4.0</td>\n",
       "      <td>1.0</td>\n",
       "      <td>5.0</td>\n",
       "      <td>0.0</td>\n",
       "      <td>0.0</td>\n",
       "      <td>1.0</td>\n",
       "      <td>7.0</td>\n",
       "      <td>1.0</td>\n",
       "      <td>0.0</td>\n",
       "      <td>1.0</td>\n",
       "      <td>...</td>\n",
       "      <td>0.0</td>\n",
       "      <td>0.0</td>\n",
       "      <td>0.0</td>\n",
       "      <td>0.0</td>\n",
       "      <td>0.0</td>\n",
       "      <td>0.0</td>\n",
       "      <td>0.0</td>\n",
       "      <td>0.0</td>\n",
       "      <td>0.0</td>\n",
       "      <td>0.0</td>\n",
       "    </tr>\n",
       "    <tr>\n",
       "      <th>5853909</th>\n",
       "      <td>0.0</td>\n",
       "      <td>0.0</td>\n",
       "      <td>0.0</td>\n",
       "      <td>0.0</td>\n",
       "      <td>1.0</td>\n",
       "      <td>0.0</td>\n",
       "      <td>0.0</td>\n",
       "      <td>0.0</td>\n",
       "      <td>0.0</td>\n",
       "      <td>0.0</td>\n",
       "      <td>...</td>\n",
       "      <td>0.0</td>\n",
       "      <td>0.0</td>\n",
       "      <td>0.0</td>\n",
       "      <td>0.0</td>\n",
       "      <td>0.0</td>\n",
       "      <td>0.0</td>\n",
       "      <td>0.0</td>\n",
       "      <td>0.0</td>\n",
       "      <td>0.0</td>\n",
       "      <td>0.0</td>\n",
       "    </tr>\n",
       "    <tr>\n",
       "      <th>5256290</th>\n",
       "      <td>0.0</td>\n",
       "      <td>0.0</td>\n",
       "      <td>0.0</td>\n",
       "      <td>0.0</td>\n",
       "      <td>0.0</td>\n",
       "      <td>1.0</td>\n",
       "      <td>0.0</td>\n",
       "      <td>0.0</td>\n",
       "      <td>0.0</td>\n",
       "      <td>0.0</td>\n",
       "      <td>...</td>\n",
       "      <td>0.0</td>\n",
       "      <td>0.0</td>\n",
       "      <td>0.0</td>\n",
       "      <td>0.0</td>\n",
       "      <td>0.0</td>\n",
       "      <td>0.0</td>\n",
       "      <td>0.0</td>\n",
       "      <td>0.0</td>\n",
       "      <td>0.0</td>\n",
       "      <td>0.0</td>\n",
       "    </tr>\n",
       "  </tbody>\n",
       "</table>\n",
       "<p>5 rows × 37 columns</p>\n",
       "</div>"
      ],
      "text/plain": [
       "         스포츠패션  남성의류  유아동의류  청소/세탁/욕실용품   완구  패션잡화  시즌스포츠  여성의류  인테리어/조명  \\\n",
       "598339     8.0   0.0    0.0         0.0  0.0   0.0    0.0   2.0      0.0   \n",
       "1000521    0.0   0.0    0.0         0.0  0.0   0.0    0.0   1.0      0.0   \n",
       "1386382    4.0   1.0    5.0         0.0  0.0   1.0    7.0   1.0      0.0   \n",
       "5853909    0.0   0.0    0.0         0.0  1.0   0.0    0.0   0.0      0.0   \n",
       "5256290    0.0   0.0    0.0         0.0  0.0   1.0    0.0   0.0      0.0   \n",
       "\n",
       "         속옷/양말/홈웨어   ...      음료  구기/필드스포츠  냉장/세탁가전  냉동식품  냉장식품  원예/애완  상품권  \\\n",
       "598339         0.0   ...     0.0       3.0      0.0   0.0   0.0    0.0  0.0   \n",
       "1000521        0.0   ...     0.0       0.0      0.0   0.0   0.0    0.0  0.0   \n",
       "1386382        1.0   ...     0.0       0.0      0.0   0.0   0.0    0.0  0.0   \n",
       "5853909        0.0   ...     0.0       0.0      0.0   0.0   0.0    0.0  0.0   \n",
       "5256290        0.0   ...     0.0       0.0      0.0   0.0   0.0    0.0  0.0   \n",
       "\n",
       "         자동차용품  축산물  영상/음향가전  \n",
       "598339     0.0  0.0      0.0  \n",
       "1000521    0.0  0.0      0.0  \n",
       "1386382    0.0  0.0      0.0  \n",
       "5853909    0.0  0.0      0.0  \n",
       "5256290    0.0  0.0      0.0  \n",
       "\n",
       "[5 rows x 37 columns]"
      ]
     },
     "execution_count": 36,
     "metadata": {},
     "output_type": "execute_result"
    }
   ],
   "source": [
    "temp_train.head()\n",
    "#temp_test.head()"
   ]
  },
  {
   "cell_type": "code",
   "execution_count": 37,
   "metadata": {},
   "outputs": [
    {
     "name": "stderr",
     "output_type": "stream",
     "text": [
      "C:\\Users\\lsh93\\Anaconda3\\lib\\site-packages\\ipykernel_launcher.py:2: FutureWarning: Method .as_matrix will be removed in a future version. Use .values instead.\n",
      "  \n",
      "C:\\Users\\lsh93\\Anaconda3\\lib\\site-packages\\ipykernel_launcher.py:3: FutureWarning: Method .as_matrix will be removed in a future version. Use .values instead.\n",
      "  This is separate from the ipykernel package so we can avoid doing imports until\n"
     ]
    }
   ],
   "source": [
    "#array 형태로 변환\n",
    "temp_train_mat = temp_train.as_matrix()\n",
    "temp_test_mat = temp_test.as_matrix()"
   ]
  },
  {
   "cell_type": "code",
   "execution_count": 40,
   "metadata": {},
   "outputs": [
    {
     "data": {
      "text/plain": [
       "(1000, 37)"
      ]
     },
     "execution_count": 40,
     "metadata": {},
     "output_type": "execute_result"
    }
   ],
   "source": [
    "temp_train_mat.shape"
   ]
  },
  {
   "cell_type": "code",
   "execution_count": 41,
   "metadata": {},
   "outputs": [
    {
     "data": {
      "text/plain": [
       "(330, 37)"
      ]
     },
     "execution_count": 41,
     "metadata": {},
     "output_type": "execute_result"
    }
   ],
   "source": [
    "temp_test_mat.shape"
   ]
  },
  {
   "cell_type": "markdown",
   "metadata": {},
   "source": [
    "####  Cosine Similarity 계산"
   ]
  },
  {
   "cell_type": "code",
   "execution_count": 42,
   "metadata": {},
   "outputs": [],
   "source": [
    "#코사인 유사도 계산 \n",
    "from sklearn.metrics import pairwise_distances\n",
    "from sklearn.metrics.pairwise import cosine_similarity\n",
    "from scipy.spatial.distance import cosine"
   ]
  },
  {
   "cell_type": "code",
   "execution_count": 43,
   "metadata": {},
   "outputs": [],
   "source": [
    "dist_out = 1 - pairwise_distances(temp_train_mat, metric=\"cosine\")"
   ]
  },
  {
   "cell_type": "code",
   "execution_count": 44,
   "metadata": {},
   "outputs": [
    {
     "data": {
      "text/plain": [
       "array([[1.        , 0.04358136, 0.38964803, ..., 0.26501546, 0.01544551,\n",
       "        0.74074074],\n",
       "       [0.04358136, 1.        , 0.02022783, ..., 0.14617634, 0.        ,\n",
       "        0.        ],\n",
       "       [0.38964803, 0.02022783, 1.        , ..., 0.1537552 , 0.55917211,\n",
       "        0.27504567],\n",
       "       ...,\n",
       "       [0.26501546, 0.14617634, 0.1537552 , ..., 1.        , 0.41444658,\n",
       "        0.2981424 ],\n",
       "       [0.01544551, 0.        , 0.55917211, ..., 0.41444658, 1.        ,\n",
       "        0.04633654],\n",
       "       [0.74074074, 0.        , 0.27504567, ..., 0.2981424 , 0.04633654,\n",
       "        1.        ]])"
      ]
     },
     "execution_count": 44,
     "metadata": {},
     "output_type": "execute_result"
    }
   ],
   "source": [
    "dist_out "
   ]
  },
  {
   "cell_type": "code",
   "execution_count": 45,
   "metadata": {},
   "outputs": [
    {
     "data": {
      "text/plain": [
       "(1000, 1000)"
      ]
     },
     "execution_count": 45,
     "metadata": {},
     "output_type": "execute_result"
    }
   ],
   "source": [
    "dist_out.shape"
   ]
  },
  {
   "cell_type": "code",
   "execution_count": 46,
   "metadata": {},
   "outputs": [],
   "source": [
    "#Client의 알려지지 않은 평가 예측 \n",
    "#거리행렬과 평가행렬의 내적을 구하고 평가수의 데이터를 정규화해 계산\n",
    "user_pred = dist_out.dot(temp_train_mat)/np.array([np.abs(dist_out).sum(axis = 1)]).T"
   ]
  },
  {
   "cell_type": "code",
   "execution_count": 47,
   "metadata": {},
   "outputs": [],
   "source": [
    "from sklearn.metrics import mean_squared_error\n",
    "def get_mse(pred,actual):\n",
    "    pred = pred[actual.nonzero()].flatten()\n",
    "    actual = actual[actual.nonzero()].flatten()\n",
    "    \n",
    "    return mean_squared_error(pred, actual)"
   ]
  },
  {
   "cell_type": "code",
   "execution_count": 48,
   "metadata": {},
   "outputs": [
    {
     "data": {
      "text/plain": [
       "14.42691745539262"
      ]
     },
     "execution_count": 48,
     "metadata": {},
     "output_type": "execute_result"
    }
   ],
   "source": [
    "#모델의 예측오차율\n",
    "get_mse(user_pred, temp_train_mat)"
   ]
  },
  {
   "cell_type": "code",
   "execution_count": 49,
   "metadata": {},
   "outputs": [
    {
     "data": {
      "text/plain": [
       "15.689135306586335"
      ]
     },
     "execution_count": 49,
     "metadata": {},
     "output_type": "execute_result"
    }
   ],
   "source": [
    "#테스트 데이터를 사용해 정확도를 확인해보기\n",
    "get_mse(user_pred, temp_test_mat)"
   ]
  },
  {
   "cell_type": "code",
   "execution_count": 50,
   "metadata": {},
   "outputs": [],
   "source": [
    "from sklearn.neighbors import NearestNeighbors"
   ]
  },
  {
   "cell_type": "code",
   "execution_count": 51,
   "metadata": {},
   "outputs": [],
   "source": [
    "k = 5\n",
    "neigh = NearestNeighbors(k, 'cosine')"
   ]
  },
  {
   "cell_type": "code",
   "execution_count": 52,
   "metadata": {},
   "outputs": [
    {
     "data": {
      "text/plain": [
       "NearestNeighbors(algorithm='auto', leaf_size=30, metric='minkowski',\n",
       "         metric_params=None, n_jobs=None, n_neighbors=5, p=2,\n",
       "         radius='cosine')"
      ]
     },
     "execution_count": 52,
     "metadata": {},
     "output_type": "execute_result"
    }
   ],
   "source": [
    "neigh.fit(temp_train_mat)"
   ]
  },
  {
   "cell_type": "code",
   "execution_count": 53,
   "metadata": {},
   "outputs": [],
   "source": [
    "#각 사용자별로 가장 유사한 5명의 사용자 찾고 유사도 계산\n",
    "top_k_distances, top_k_users = neigh.kneighbors(temp_train_mat, return_distance = True)"
   ]
  },
  {
   "cell_type": "code",
   "execution_count": 54,
   "metadata": {},
   "outputs": [
    {
     "data": {
      "text/plain": [
       "(1000, 5)"
      ]
     },
     "execution_count": 54,
     "metadata": {},
     "output_type": "execute_result"
    }
   ],
   "source": [
    "top_k_distances.shape"
   ]
  },
  {
   "cell_type": "code",
   "execution_count": 55,
   "metadata": {},
   "outputs": [
    {
     "data": {
      "text/plain": [
       "(1000, 5)"
      ]
     },
     "execution_count": 55,
     "metadata": {},
     "output_type": "execute_result"
    }
   ],
   "source": [
    "top_k_users.shape"
   ]
  },
  {
   "cell_type": "code",
   "execution_count": 56,
   "metadata": {},
   "outputs": [
    {
     "data": {
      "text/plain": [
       "array([  4, 598,  46, 934, 302], dtype=int64)"
      ]
     },
     "execution_count": 56,
     "metadata": {},
     "output_type": "execute_result"
    }
   ],
   "source": [
    "top_k_users[4]"
   ]
  },
  {
   "cell_type": "code",
   "execution_count": 57,
   "metadata": {},
   "outputs": [],
   "source": [
    "#훈련 데이터의 알려지지 않은 구매 예측\n",
    "user_pred_k = np.zeros(temp_train_mat.shape)"
   ]
  },
  {
   "cell_type": "code",
   "execution_count": 58,
   "metadata": {},
   "outputs": [
    {
     "name": "stderr",
     "output_type": "stream",
     "text": [
      "C:\\Users\\lsh93\\Anaconda3\\lib\\site-packages\\ipykernel_launcher.py:2: RuntimeWarning: invalid value encountered in true_divide\n",
      "  \n"
     ]
    }
   ],
   "source": [
    "for i in range(temp_train.shape[0]):\n",
    "    user_pred_k[i,:] = top_k_distances[i].T.dot(temp_train_mat[top_k_users][i]) / np.array([np.abs(top_k_distances[i].T).sum(axis = 0)]).T  "
   ]
  },
  {
   "cell_type": "code",
   "execution_count": 59,
   "metadata": {},
   "outputs": [
    {
     "data": {
      "text/plain": [
       "(1000, 37)"
      ]
     },
     "execution_count": 59,
     "metadata": {},
     "output_type": "execute_result"
    }
   ],
   "source": [
    "user_pred_k.shape"
   ]
  },
  {
   "cell_type": "code",
   "execution_count": 60,
   "metadata": {},
   "outputs": [
    {
     "data": {
      "text/plain": [
       "array([[6.46672054, 0.44546196, 0.26974061, ..., 0.        , 0.        ,\n",
       "        0.        ],\n",
       "       [0.73768794, 0.        , 0.        , ..., 0.        , 0.        ,\n",
       "        0.        ],\n",
       "       [2.29264123, 0.        , 2.71458165, ..., 0.        , 0.        ,\n",
       "        0.        ],\n",
       "       ...,\n",
       "       [0.27806715, 0.48532617, 0.        , ..., 0.        , 0.        ,\n",
       "        0.        ],\n",
       "       [0.        , 0.        , 2.22966307, ..., 0.        , 0.        ,\n",
       "        0.        ],\n",
       "       [1.46049571, 0.        , 0.        , ..., 0.        , 0.        ,\n",
       "        0.        ]])"
      ]
     },
     "execution_count": 60,
     "metadata": {},
     "output_type": "execute_result"
    }
   ],
   "source": [
    "user_pred_k"
   ]
  },
  {
   "cell_type": "code",
   "execution_count": 61,
   "metadata": {},
   "outputs": [
    {
     "data": {
      "text/html": [
       "<div>\n",
       "<style scoped>\n",
       "    .dataframe tbody tr th:only-of-type {\n",
       "        vertical-align: middle;\n",
       "    }\n",
       "\n",
       "    .dataframe tbody tr th {\n",
       "        vertical-align: top;\n",
       "    }\n",
       "\n",
       "    .dataframe thead th {\n",
       "        text-align: right;\n",
       "    }\n",
       "</style>\n",
       "<table border=\"1\" class=\"dataframe\">\n",
       "  <thead>\n",
       "    <tr style=\"text-align: right;\">\n",
       "      <th></th>\n",
       "      <th>0</th>\n",
       "      <th>1</th>\n",
       "      <th>2</th>\n",
       "      <th>3</th>\n",
       "      <th>4</th>\n",
       "      <th>5</th>\n",
       "      <th>6</th>\n",
       "      <th>7</th>\n",
       "      <th>8</th>\n",
       "      <th>9</th>\n",
       "      <th>...</th>\n",
       "      <th>27</th>\n",
       "      <th>28</th>\n",
       "      <th>29</th>\n",
       "      <th>30</th>\n",
       "      <th>31</th>\n",
       "      <th>32</th>\n",
       "      <th>33</th>\n",
       "      <th>34</th>\n",
       "      <th>35</th>\n",
       "      <th>36</th>\n",
       "    </tr>\n",
       "  </thead>\n",
       "  <tbody>\n",
       "    <tr>\n",
       "      <th>0</th>\n",
       "      <td>6.466721</td>\n",
       "      <td>0.445462</td>\n",
       "      <td>0.269741</td>\n",
       "      <td>0.0</td>\n",
       "      <td>0.0</td>\n",
       "      <td>0.000000</td>\n",
       "      <td>0.000000</td>\n",
       "      <td>0.890924</td>\n",
       "      <td>0.0</td>\n",
       "      <td>0.000000</td>\n",
       "      <td>...</td>\n",
       "      <td>0.445462</td>\n",
       "      <td>0.668193</td>\n",
       "      <td>0.0</td>\n",
       "      <td>0.000000</td>\n",
       "      <td>0.0</td>\n",
       "      <td>0.000000</td>\n",
       "      <td>0.0</td>\n",
       "      <td>0.0</td>\n",
       "      <td>0.0</td>\n",
       "      <td>0.000000</td>\n",
       "    </tr>\n",
       "    <tr>\n",
       "      <th>1</th>\n",
       "      <td>0.737688</td>\n",
       "      <td>0.000000</td>\n",
       "      <td>0.000000</td>\n",
       "      <td>0.0</td>\n",
       "      <td>0.0</td>\n",
       "      <td>0.000000</td>\n",
       "      <td>0.000000</td>\n",
       "      <td>0.000000</td>\n",
       "      <td>0.0</td>\n",
       "      <td>0.000000</td>\n",
       "      <td>...</td>\n",
       "      <td>0.000000</td>\n",
       "      <td>0.252130</td>\n",
       "      <td>0.0</td>\n",
       "      <td>0.000000</td>\n",
       "      <td>0.0</td>\n",
       "      <td>0.000000</td>\n",
       "      <td>0.0</td>\n",
       "      <td>0.0</td>\n",
       "      <td>0.0</td>\n",
       "      <td>0.000000</td>\n",
       "    </tr>\n",
       "    <tr>\n",
       "      <th>2</th>\n",
       "      <td>2.292641</td>\n",
       "      <td>0.000000</td>\n",
       "      <td>2.714582</td>\n",
       "      <td>0.0</td>\n",
       "      <td>0.0</td>\n",
       "      <td>0.745085</td>\n",
       "      <td>3.119941</td>\n",
       "      <td>0.289564</td>\n",
       "      <td>0.0</td>\n",
       "      <td>0.000000</td>\n",
       "      <td>...</td>\n",
       "      <td>0.000000</td>\n",
       "      <td>0.000000</td>\n",
       "      <td>0.0</td>\n",
       "      <td>0.000000</td>\n",
       "      <td>0.0</td>\n",
       "      <td>0.000000</td>\n",
       "      <td>0.0</td>\n",
       "      <td>0.0</td>\n",
       "      <td>0.0</td>\n",
       "      <td>0.000000</td>\n",
       "    </tr>\n",
       "    <tr>\n",
       "      <th>3</th>\n",
       "      <td>0.000000</td>\n",
       "      <td>0.000000</td>\n",
       "      <td>0.000000</td>\n",
       "      <td>0.0</td>\n",
       "      <td>0.0</td>\n",
       "      <td>0.000000</td>\n",
       "      <td>0.000000</td>\n",
       "      <td>0.000000</td>\n",
       "      <td>0.0</td>\n",
       "      <td>0.000000</td>\n",
       "      <td>...</td>\n",
       "      <td>0.521164</td>\n",
       "      <td>0.196982</td>\n",
       "      <td>0.0</td>\n",
       "      <td>0.000000</td>\n",
       "      <td>0.0</td>\n",
       "      <td>0.000000</td>\n",
       "      <td>0.0</td>\n",
       "      <td>0.0</td>\n",
       "      <td>0.0</td>\n",
       "      <td>0.000000</td>\n",
       "    </tr>\n",
       "    <tr>\n",
       "      <th>4</th>\n",
       "      <td>0.000000</td>\n",
       "      <td>0.000000</td>\n",
       "      <td>0.000000</td>\n",
       "      <td>0.0</td>\n",
       "      <td>0.0</td>\n",
       "      <td>0.000000</td>\n",
       "      <td>0.000000</td>\n",
       "      <td>0.000000</td>\n",
       "      <td>0.0</td>\n",
       "      <td>0.000000</td>\n",
       "      <td>...</td>\n",
       "      <td>0.000000</td>\n",
       "      <td>0.000000</td>\n",
       "      <td>0.0</td>\n",
       "      <td>0.000000</td>\n",
       "      <td>0.0</td>\n",
       "      <td>0.000000</td>\n",
       "      <td>0.0</td>\n",
       "      <td>0.0</td>\n",
       "      <td>0.0</td>\n",
       "      <td>0.000000</td>\n",
       "    </tr>\n",
       "    <tr>\n",
       "      <th>5</th>\n",
       "      <td>0.333333</td>\n",
       "      <td>0.000000</td>\n",
       "      <td>0.000000</td>\n",
       "      <td>0.0</td>\n",
       "      <td>0.0</td>\n",
       "      <td>0.333333</td>\n",
       "      <td>0.000000</td>\n",
       "      <td>0.000000</td>\n",
       "      <td>0.0</td>\n",
       "      <td>0.000000</td>\n",
       "      <td>...</td>\n",
       "      <td>0.000000</td>\n",
       "      <td>0.000000</td>\n",
       "      <td>0.0</td>\n",
       "      <td>0.000000</td>\n",
       "      <td>0.0</td>\n",
       "      <td>0.000000</td>\n",
       "      <td>0.0</td>\n",
       "      <td>0.0</td>\n",
       "      <td>0.0</td>\n",
       "      <td>0.000000</td>\n",
       "    </tr>\n",
       "    <tr>\n",
       "      <th>6</th>\n",
       "      <td>0.000000</td>\n",
       "      <td>0.000000</td>\n",
       "      <td>0.000000</td>\n",
       "      <td>0.0</td>\n",
       "      <td>0.0</td>\n",
       "      <td>0.000000</td>\n",
       "      <td>0.000000</td>\n",
       "      <td>0.000000</td>\n",
       "      <td>0.0</td>\n",
       "      <td>4.000000</td>\n",
       "      <td>...</td>\n",
       "      <td>0.000000</td>\n",
       "      <td>0.000000</td>\n",
       "      <td>0.0</td>\n",
       "      <td>0.000000</td>\n",
       "      <td>0.0</td>\n",
       "      <td>0.000000</td>\n",
       "      <td>0.0</td>\n",
       "      <td>0.0</td>\n",
       "      <td>0.0</td>\n",
       "      <td>0.000000</td>\n",
       "    </tr>\n",
       "    <tr>\n",
       "      <th>7</th>\n",
       "      <td>NaN</td>\n",
       "      <td>NaN</td>\n",
       "      <td>NaN</td>\n",
       "      <td>NaN</td>\n",
       "      <td>NaN</td>\n",
       "      <td>NaN</td>\n",
       "      <td>NaN</td>\n",
       "      <td>NaN</td>\n",
       "      <td>NaN</td>\n",
       "      <td>NaN</td>\n",
       "      <td>...</td>\n",
       "      <td>NaN</td>\n",
       "      <td>NaN</td>\n",
       "      <td>NaN</td>\n",
       "      <td>NaN</td>\n",
       "      <td>NaN</td>\n",
       "      <td>NaN</td>\n",
       "      <td>NaN</td>\n",
       "      <td>NaN</td>\n",
       "      <td>NaN</td>\n",
       "      <td>NaN</td>\n",
       "    </tr>\n",
       "    <tr>\n",
       "      <th>8</th>\n",
       "      <td>0.000000</td>\n",
       "      <td>0.000000</td>\n",
       "      <td>0.000000</td>\n",
       "      <td>0.0</td>\n",
       "      <td>0.0</td>\n",
       "      <td>0.225511</td>\n",
       "      <td>0.000000</td>\n",
       "      <td>0.000000</td>\n",
       "      <td>0.0</td>\n",
       "      <td>0.473035</td>\n",
       "      <td>...</td>\n",
       "      <td>0.000000</td>\n",
       "      <td>0.000000</td>\n",
       "      <td>0.0</td>\n",
       "      <td>7.220993</td>\n",
       "      <td>0.0</td>\n",
       "      <td>0.676532</td>\n",
       "      <td>0.0</td>\n",
       "      <td>0.0</td>\n",
       "      <td>0.0</td>\n",
       "      <td>0.316251</td>\n",
       "    </tr>\n",
       "    <tr>\n",
       "      <th>9</th>\n",
       "      <td>0.000000</td>\n",
       "      <td>0.000000</td>\n",
       "      <td>0.000000</td>\n",
       "      <td>0.0</td>\n",
       "      <td>0.0</td>\n",
       "      <td>0.000000</td>\n",
       "      <td>0.000000</td>\n",
       "      <td>1.750000</td>\n",
       "      <td>0.0</td>\n",
       "      <td>0.000000</td>\n",
       "      <td>...</td>\n",
       "      <td>0.000000</td>\n",
       "      <td>0.000000</td>\n",
       "      <td>0.0</td>\n",
       "      <td>0.000000</td>\n",
       "      <td>0.0</td>\n",
       "      <td>0.000000</td>\n",
       "      <td>0.0</td>\n",
       "      <td>0.0</td>\n",
       "      <td>0.0</td>\n",
       "      <td>0.000000</td>\n",
       "    </tr>\n",
       "  </tbody>\n",
       "</table>\n",
       "<p>10 rows × 37 columns</p>\n",
       "</div>"
      ],
      "text/plain": [
       "         0         1         2    3    4         5         6         7    8   \\\n",
       "0  6.466721  0.445462  0.269741  0.0  0.0  0.000000  0.000000  0.890924  0.0   \n",
       "1  0.737688  0.000000  0.000000  0.0  0.0  0.000000  0.000000  0.000000  0.0   \n",
       "2  2.292641  0.000000  2.714582  0.0  0.0  0.745085  3.119941  0.289564  0.0   \n",
       "3  0.000000  0.000000  0.000000  0.0  0.0  0.000000  0.000000  0.000000  0.0   \n",
       "4  0.000000  0.000000  0.000000  0.0  0.0  0.000000  0.000000  0.000000  0.0   \n",
       "5  0.333333  0.000000  0.000000  0.0  0.0  0.333333  0.000000  0.000000  0.0   \n",
       "6  0.000000  0.000000  0.000000  0.0  0.0  0.000000  0.000000  0.000000  0.0   \n",
       "7       NaN       NaN       NaN  NaN  NaN       NaN       NaN       NaN  NaN   \n",
       "8  0.000000  0.000000  0.000000  0.0  0.0  0.225511  0.000000  0.000000  0.0   \n",
       "9  0.000000  0.000000  0.000000  0.0  0.0  0.000000  0.000000  1.750000  0.0   \n",
       "\n",
       "         9     ...           27        28   29        30   31        32   33  \\\n",
       "0  0.000000    ...     0.445462  0.668193  0.0  0.000000  0.0  0.000000  0.0   \n",
       "1  0.000000    ...     0.000000  0.252130  0.0  0.000000  0.0  0.000000  0.0   \n",
       "2  0.000000    ...     0.000000  0.000000  0.0  0.000000  0.0  0.000000  0.0   \n",
       "3  0.000000    ...     0.521164  0.196982  0.0  0.000000  0.0  0.000000  0.0   \n",
       "4  0.000000    ...     0.000000  0.000000  0.0  0.000000  0.0  0.000000  0.0   \n",
       "5  0.000000    ...     0.000000  0.000000  0.0  0.000000  0.0  0.000000  0.0   \n",
       "6  4.000000    ...     0.000000  0.000000  0.0  0.000000  0.0  0.000000  0.0   \n",
       "7       NaN    ...          NaN       NaN  NaN       NaN  NaN       NaN  NaN   \n",
       "8  0.473035    ...     0.000000  0.000000  0.0  7.220993  0.0  0.676532  0.0   \n",
       "9  0.000000    ...     0.000000  0.000000  0.0  0.000000  0.0  0.000000  0.0   \n",
       "\n",
       "    34   35        36  \n",
       "0  0.0  0.0  0.000000  \n",
       "1  0.0  0.0  0.000000  \n",
       "2  0.0  0.0  0.000000  \n",
       "3  0.0  0.0  0.000000  \n",
       "4  0.0  0.0  0.000000  \n",
       "5  0.0  0.0  0.000000  \n",
       "6  0.0  0.0  0.000000  \n",
       "7  NaN  NaN       NaN  \n",
       "8  0.0  0.0  0.316251  \n",
       "9  0.0  0.0  0.000000  \n",
       "\n",
       "[10 rows x 37 columns]"
      ]
     },
     "execution_count": 61,
     "metadata": {},
     "output_type": "execute_result"
    }
   ],
   "source": [
    "#nan값 있어서 mse계산할 수 없음. \n",
    "#왜 nan값이 나올까,,\n",
    "online_pref = pd.DataFrame(user_pred_k)\n",
    "online_pref[0:10]"
   ]
  },
  {
   "cell_type": "markdown",
   "metadata": {},
   "source": [
    "- nan가 들어간 row 전체를 제거한다. 대체하는 건 근거가 없으므로"
   ]
  },
  {
   "cell_type": "code",
   "execution_count": 62,
   "metadata": {},
   "outputs": [
    {
     "data": {
      "text/plain": [
       "(array([  7,   7,   7, ..., 996, 996, 996], dtype=int64),\n",
       " array([ 0,  1,  2, ..., 34, 35, 36], dtype=int64))"
      ]
     },
     "execution_count": 62,
     "metadata": {},
     "output_type": "execute_result"
    }
   ],
   "source": [
    "#nan가 들어간 element의 row의 인덱스 반환\n",
    "na_element_index = np.where(np.isnan(online_pref))\n",
    "na_element_index"
   ]
  },
  {
   "cell_type": "code",
   "execution_count": 88,
   "metadata": {},
   "outputs": [
    {
     "data": {
      "text/plain": [
       "array([  7,  22,  25,  28,  29,  37,  41,  43,  44,  53,  56,  57,  75,\n",
       "        78,  80,  87,  90,  91, 105, 111, 112, 117, 123, 125, 137, 143,\n",
       "       149, 160, 164, 171, 175, 179, 192, 196, 205, 220, 228, 229, 232,\n",
       "       233, 236, 237, 238, 242, 243, 246, 258, 259, 266, 268, 273, 276,\n",
       "       282, 286, 287, 293, 306, 323, 333, 347, 354, 357, 358, 364, 367,\n",
       "       368, 371, 388, 392, 394, 405, 407, 409, 422, 424, 439, 454, 466,\n",
       "       468, 469, 472, 484, 502, 505, 511, 513, 514, 515, 516, 525, 526,\n",
       "       529, 535, 541, 543, 546, 547, 556, 559, 561, 562, 569, 570, 574,\n",
       "       575, 588, 601, 604, 607, 608, 612, 617, 623, 640, 644, 648, 650,\n",
       "       651, 656, 658, 663, 664, 665, 679, 690, 702, 703, 705, 717, 718,\n",
       "       732, 733, 742, 744, 756, 764, 775, 776, 778, 780, 785, 789, 793,\n",
       "       800, 804, 807, 810, 820, 830, 833, 842, 849, 857, 863, 868, 872,\n",
       "       889, 892, 902, 906, 911, 921, 923, 956, 958, 959, 962, 964, 967,\n",
       "       981, 983, 989, 996], dtype=int64)"
      ]
     },
     "execution_count": 88,
     "metadata": {},
     "output_type": "execute_result"
    }
   ],
   "source": [
    "#nan가 들어간 row의 인덱스 반환\n",
    "na_row_index = np.unique(na_element_index[0])\n",
    "na_row_index"
   ]
  },
  {
   "cell_type": "code",
   "execution_count": 64,
   "metadata": {},
   "outputs": [
    {
     "data": {
      "text/plain": [
       "array([2155053, 5311863, 1371482, 2312035, 1332223, 2735178, 1173536,\n",
       "       3683299,  505740, 6569904,  568937, 1058051, 2312101, 6345603,\n",
       "       6532328, 1508366, 2713949, 5675404,  106734, 4494904, 6434825,\n",
       "       2584803, 4026061, 6118473, 1750178, 2344413, 4989404,  155573,\n",
       "       3402137, 3464107,  964886, 1712329, 4744206, 4313519,  320684,\n",
       "       2457572, 5131019,  958213, 6471883,  359744, 5737406,  431106,\n",
       "       5227723, 3043938, 2535392, 2874954, 5910696, 1391773,  266685,\n",
       "       4243335, 5166447,   27688, 6419370, 1808260, 3760070, 3886405,\n",
       "       6438936, 1226700, 2976874, 4634106, 4056121, 4498332, 2900325,\n",
       "       1981334, 1071844, 4029836, 5192347, 6561377, 5873001, 1804018,\n",
       "       1398740, 2392853, 4935201, 5599436, 2143681, 2976316,   36701,\n",
       "       3682644, 2124156, 3636086, 3695526, 6569661, 4934309, 4439538,\n",
       "       4526521, 1176151, 4636041, 5522676, 6397479, 3394654, 5727435,\n",
       "       4881270, 3582620,  161741, 1494854, 4656469, 1723308, 3165394,\n",
       "       2648052, 4304470, 6018994, 5660203, 3799627, 4434683, 2855696,\n",
       "       2969155, 5749524,  551869, 4362490, 3057059,  763785, 2188231,\n",
       "       5599689, 2043107, 4752424, 1377960, 5755994, 1764298, 6285567,\n",
       "       2915707, 2435211,  157011, 1958637, 1281806, 4268659, 2991663,\n",
       "       1538626, 6402236, 5995993, 3250024, 5364560, 2948937, 3559047,\n",
       "       3435701, 5648804, 5120510,   53591, 5691572, 6165413,  179839,\n",
       "       5723261, 2944907, 2962900, 1209269, 2367734, 5774531, 4697878,\n",
       "       2283215, 5215921, 3752099, 1477766,  574006, 3463232,  605142,\n",
       "       1924533, 2517306, 5346639, 6084247, 3086568, 5079973, 1373721,\n",
       "       4178580, 4796308, 4597112,    3076, 5253940, 3842595, 6130133,\n",
       "       6316115, 2285728, 3887442, 1310045,  805628], dtype=int64)"
      ]
     },
     "execution_count": 64,
     "metadata": {},
     "output_type": "execute_result"
    }
   ],
   "source": [
    "#제거할 client id의 목록\n",
    "#temp_train 데이터프레임에서 반환\n",
    "removed_CLNT_ID = temp_train.index.values[na_row_index]\n",
    "removed_CLNT_ID"
   ]
  },
  {
   "cell_type": "code",
   "execution_count": 65,
   "metadata": {},
   "outputs": [
    {
     "data": {
      "text/plain": [
       "(827,)"
      ]
     },
     "execution_count": 65,
     "metadata": {},
     "output_type": "execute_result"
    }
   ],
   "source": [
    "#제거하지 않고 남는 Client id의 목록\n",
    "existed_CLNT_ID = np.delete(temp_train.index.values,na_row_index)\n",
    "existed_CLNT_ID.shape"
   ]
  },
  {
   "cell_type": "code",
   "execution_count": 82,
   "metadata": {},
   "outputs": [
    {
     "data": {
      "text/plain": [
       "(827, 37)"
      ]
     },
     "execution_count": 82,
     "metadata": {},
     "output_type": "execute_result"
    }
   ],
   "source": [
    "#이제 online_pref에서 nan가 들어간 row 제거\n",
    "online_pref2 = online_pref.dropna()\n",
    "online_pref2.shape"
   ]
  },
  {
   "cell_type": "code",
   "execution_count": 72,
   "metadata": {},
   "outputs": [
    {
     "name": "stderr",
     "output_type": "stream",
     "text": [
      "C:\\Users\\lsh93\\Anaconda3\\lib\\site-packages\\ipykernel_launcher.py:2: FutureWarning: Method .as_matrix will be removed in a future version. Use .values instead.\n",
      "  \n"
     ]
    },
    {
     "data": {
      "text/plain": [
       "(827, 37)"
      ]
     },
     "execution_count": 72,
     "metadata": {},
     "output_type": "execute_result"
    }
   ],
   "source": [
    "#결측치가 제거된 dataframe을 array로 바꾼다\n",
    "user_pred_k2 = online_pref2.as_matrix()\n",
    "user_pred_k2.shape"
   ]
  },
  {
   "cell_type": "code",
   "execution_count": 73,
   "metadata": {},
   "outputs": [
    {
     "data": {
      "text/plain": [
       "array([[6.46672054, 0.44546196, 0.26974061, ..., 0.        , 0.        ,\n",
       "        0.        ],\n",
       "       [0.73768794, 0.        , 0.        , ..., 0.        , 0.        ,\n",
       "        0.        ],\n",
       "       [2.29264123, 0.        , 2.71458165, ..., 0.        , 0.        ,\n",
       "        0.        ],\n",
       "       ...,\n",
       "       [0.27806715, 0.48532617, 0.        , ..., 0.        , 0.        ,\n",
       "        0.        ],\n",
       "       [0.        , 0.        , 2.22966307, ..., 0.        , 0.        ,\n",
       "        0.        ],\n",
       "       [1.46049571, 0.        , 0.        , ..., 0.        , 0.        ,\n",
       "        0.        ]])"
      ]
     },
     "execution_count": 73,
     "metadata": {},
     "output_type": "execute_result"
    }
   ],
   "source": [
    "#결측치 row제거된 선호지수행렬 \n",
    "user_pred_k2"
   ]
  },
  {
   "cell_type": "code",
   "execution_count": 84,
   "metadata": {},
   "outputs": [],
   "source": [
    "temp_train_mat2 = temp_train_mat"
   ]
  },
  {
   "cell_type": "code",
   "execution_count": 86,
   "metadata": {},
   "outputs": [
    {
     "data": {
      "text/plain": [
       "array([  7,  22,  25,  28,  29,  37,  41,  43,  44,  53,  56,  57,  75,\n",
       "        78,  80,  87,  90,  91, 105, 111, 112, 117, 123, 125, 137, 143,\n",
       "       149, 160, 164, 171, 175, 179, 192, 196, 205, 220, 228, 229, 232,\n",
       "       233, 236, 237, 238, 242, 243, 246, 258, 259, 266, 268, 273, 276,\n",
       "       282, 286, 287, 293, 306, 323, 333, 347, 354, 357, 358, 364, 367,\n",
       "       368, 371, 388, 392, 394, 405, 407, 409, 422, 424, 439, 454, 466,\n",
       "       468, 469, 472, 484, 502, 505, 511, 513, 514, 515, 516, 525, 526,\n",
       "       529, 535, 541, 543, 546, 547, 556, 559, 561, 562, 569, 570, 574,\n",
       "       575, 588, 601, 604, 607, 608, 612, 617, 623, 640, 644, 648, 650,\n",
       "       651, 656, 658, 663, 664, 665, 679, 690, 702, 703, 705, 717, 718,\n",
       "       732, 733, 742, 744, 756, 764, 775, 776, 778, 780, 785, 789, 793,\n",
       "       800, 804, 807, 810, 820, 830, 833, 842, 849, 857, 863, 868, 872,\n",
       "       889, 892, 902, 906, 911, 921, 923, 956, 958, 959, 962, 964, 967,\n",
       "       981, 983, 989, 996], dtype=int64)"
      ]
     },
     "execution_count": 86,
     "metadata": {},
     "output_type": "execute_result"
    }
   ],
   "source": [
    "na_row_index"
   ]
  },
  {
   "cell_type": "code",
   "execution_count": 92,
   "metadata": {},
   "outputs": [
    {
     "data": {
      "text/plain": [
       "array([[8., 0., 0., ..., 0., 0., 0.],\n",
       "       [0., 0., 0., ..., 0., 0., 0.],\n",
       "       [4., 1., 5., ..., 0., 0., 0.],\n",
       "       ...,\n",
       "       [0., 1., 0., ..., 0., 0., 0.],\n",
       "       [0., 1., 6., ..., 0., 0., 0.],\n",
       "       [2., 0., 0., ..., 0., 0., 0.]])"
      ]
     },
     "execution_count": 92,
     "metadata": {},
     "output_type": "execute_result"
    }
   ],
   "source": [
    "#본래 training data에서도 nan이 나온 index를 제외해준다\n",
    "exist_idx = np.delete([range(1000)],na_row_index)\n",
    "temp_train_mat2 = temp_train_mat2[exist_idx,:]\n",
    "temp_train_mat2"
   ]
  },
  {
   "cell_type": "code",
   "execution_count": 93,
   "metadata": {},
   "outputs": [
    {
     "data": {
      "text/plain": [
       "5.71507811114122"
      ]
     },
     "execution_count": 93,
     "metadata": {},
     "output_type": "execute_result"
    }
   ],
   "source": [
    "#모델의 개선 여부 확인 -> 개선됨! \n",
    "get_mse(user_pred_k2, temp_train_mat2)"
   ]
  },
  {
   "cell_type": "code",
   "execution_count": 94,
   "metadata": {},
   "outputs": [
    {
     "data": {
      "text/plain": [
       "18.862746442249264"
      ]
     },
     "execution_count": 94,
     "metadata": {},
     "output_type": "execute_result"
    }
   ],
   "source": [
    "get_mse(user_pred_k2, temp_test_mat)"
   ]
  },
  {
   "cell_type": "markdown",
   "metadata": {},
   "source": [
    "- 선호점수 matrix 생성 (index, column 모두 달아서)"
   ]
  },
  {
   "cell_type": "code",
   "execution_count": 95,
   "metadata": {},
   "outputs": [
    {
     "data": {
      "text/plain": [
       "array([[6.46672054, 0.44546196, 0.26974061, ..., 0.        , 0.        ,\n",
       "        0.        ],\n",
       "       [0.73768794, 0.        , 0.        , ..., 0.        , 0.        ,\n",
       "        0.        ],\n",
       "       [2.29264123, 0.        , 2.71458165, ..., 0.        , 0.        ,\n",
       "        0.        ],\n",
       "       ...,\n",
       "       [0.27806715, 0.48532617, 0.        , ..., 0.        , 0.        ,\n",
       "        0.        ],\n",
       "       [0.        , 0.        , 2.22966307, ..., 0.        , 0.        ,\n",
       "        0.        ],\n",
       "       [1.46049571, 0.        , 0.        , ..., 0.        , 0.        ,\n",
       "        0.        ]])"
      ]
     },
     "execution_count": 95,
     "metadata": {},
     "output_type": "execute_result"
    }
   ],
   "source": [
    "user_pred_k2 "
   ]
  },
  {
   "cell_type": "code",
   "execution_count": 251,
   "metadata": {},
   "outputs": [
    {
     "data": {
      "text/plain": [
       "array([ 501089, 6461629, 2794743,  619336,   96115, 4551115, 2705960,\n",
       "       1501046,    6001, 4878190, 4433077, 2318507, 5477642,  190156,\n",
       "       3918701, 5215589, 2663610,  757041, 1404401, 4019725, 1964806,\n",
       "       5864542, 3442990, 2516201, 6264193, 2119272, 6352888,  298521,\n",
       "       6521459,  313042,  358619, 3169768, 5500215, 2005300,  668749,\n",
       "       6022193, 3911435, 5997403, 5363818, 6043390, 2611936, 3444206,\n",
       "       2450155, 3633855, 6354661, 4032123,   29626, 4006183, 5107918,\n",
       "       2798238,  560109, 3599202,  570574, 4158386,   47058,  937344,\n",
       "       4867494, 4976377,  811650, 3588525, 1563614, 5253045, 6533222,\n",
       "       3225617,   83617, 2930297, 2094969, 2233347, 4002018, 6295576,\n",
       "       3011468, 3818126, 5853476, 1845000, 4675457,  871034, 5852553,\n",
       "       3911422, 3919219, 4782003, 4449151,  917618, 2936747,  939196,\n",
       "       6023403, 4249157, 2539268, 1087931, 3808803, 1127823, 5682069,\n",
       "       6214392, 5990691, 6211363, 3122712, 2600985, 6524914, 6167312,\n",
       "       2140836, 6068419,  243689, 1124448,   53951, 1011894, 1661848,\n",
       "       3679106, 2765291, 5985433, 2686627, 4506978,  140703, 6191721,\n",
       "       2691058, 4448014, 4755238, 2818192, 2913459, 4715876,  914161,\n",
       "        647857,   83398, 2143642, 5733471, 5442106, 3661334, 3952376,\n",
       "       5062845, 4463009, 6076502, 1132376, 5186700,  346636, 4335673,\n",
       "       5269692, 2637956, 5814260, 5051509, 1971568,  123028, 3077594,\n",
       "       4330446,  609548, 2778697, 6586622, 5698220, 6374424,  870431,\n",
       "       4189438, 5521394, 5047763, 2360537, 6124587, 1197947,  922945,\n",
       "        549500,  487168, 2753700, 6215842,  763109, 4555349, 5773695,\n",
       "        367775, 2058653, 5413262,   48794,  746039, 5411145,  792454,\n",
       "       6074073, 1075106, 6079215, 1060863, 2479293, 2559968, 5845302,\n",
       "       1162668, 2091177, 6179165,   65963, 1610278, 1316425, 3577681,\n",
       "       1161511, 2160927, 4285914, 4619458, 6173391, 6139869, 3514100,\n",
       "       2616963, 6215326, 1674282, 5063926, 5113193,  942133, 5166045,\n",
       "       3972570, 4650989, 3066381, 5948848, 4304092, 5421361,   60353,\n",
       "       6356732,  199415, 4923113,  385363, 3271645,  470538, 5929022,\n",
       "       1287274,  487185,    8287, 5872065, 3030567, 5676402, 4510005,\n",
       "       6308791, 1313545, 2941958, 1154209, 3927011,  326107, 2310828,\n",
       "       3256359, 4876410, 5787083,  254363, 2649862, 4653895, 2815078,\n",
       "       3817736, 4251937, 3242919, 3818860, 1337750, 6264642,  399986,\n",
       "       4777222,  625246,    2558, 5546439, 2372644, 3889223, 6385603,\n",
       "       6116615, 3791203, 2712556, 3517801, 5958403, 3725817, 3264006,\n",
       "       6050264, 6034934, 5578326, 6222103, 5118374, 1941611, 4473020,\n",
       "       5325083, 6576747, 5766688,   27391, 1556175, 3724178, 4517329,\n",
       "       6074176, 2953070,  963534,  710733, 4758307,   94211, 4846015,\n",
       "       3063038, 5178528, 1351889, 1875062,   94174, 1762447, 5847114,\n",
       "       2489719, 5977527, 6352319, 6025888, 6410807, 2733815, 4582790,\n",
       "       5387128, 5630719, 5243244, 3245633, 1507397, 4813235, 6035636,\n",
       "       5618186, 4575669, 6264859, 4817668, 4832126, 1682093, 5370817,\n",
       "       4460115,  581553,  750038, 1181616,  546192, 5062063, 5398269,\n",
       "        867909, 5824463, 5631147, 4683178, 2289496, 5694553, 5629184,\n",
       "        163124, 3344274, 1855746, 1623886, 2319539, 2381116, 5061261,\n",
       "       4901082, 5018994,  233737, 5120493, 5950061, 6318218, 6550848,\n",
       "       6440136, 6559534, 2011101, 3140073,  815871, 5450266, 2000320,\n",
       "        994054,  260929, 6556511, 2280823, 2247787, 3998452, 1525281,\n",
       "       6222842, 5277117, 5265799,  294098, 4383834, 1162729, 6430612,\n",
       "       6344979, 2334023, 5455914, 5853181,  664622, 5190513, 3466572,\n",
       "       2302992, 6357074,  751741, 1070109, 2925915, 6176786,  578961,\n",
       "       5872754, 3874841,   63651, 1993847, 1781300,  852950,  136634,\n",
       "       4394169, 2786330, 4669426,  344698, 5542944, 1329832, 2624771,\n",
       "       2525419, 2594346, 4528298, 5870467, 1695717, 5211013, 6435385,\n",
       "       1523078, 6143060, 5450549, 5085369, 3620786,  170034, 6001371,\n",
       "       1007634, 5772981, 1922573, 5580511, 6174560, 5223440, 1246019,\n",
       "       5539691, 2090155, 4864433, 4004666, 5455876, 2945281, 5281957,\n",
       "       3231557, 1917087, 5826324, 1028656, 4726612,   32950, 2875438,\n",
       "       4990557, 5343029, 1484074, 1744954, 6110362, 1375157, 1130941,\n",
       "       6077901,  413318, 6001372, 2890195, 4215812, 3254168, 6317624,\n",
       "       2059391, 2654579, 4177186,  164252, 1311470, 1901810, 6232729,\n",
       "       1204050, 2323518,  532088, 1479040, 4372797,  871255,  179475,\n",
       "       3324646, 2891756, 3581841,  617166,  754821,  503015, 4801910,\n",
       "       1510651, 2105993,  306973, 5884425, 3502132, 2534687, 4758718,\n",
       "       6324928, 6111695, 6428986, 4072484,  365335, 3710246, 5627607,\n",
       "       2368186, 2403582, 1193606, 2018657, 6423599, 6318103, 4919508,\n",
       "       4442560, 5283651,  670479, 4570946,  173452, 1668574, 6160408,\n",
       "       4691295, 4216166, 1896150, 4893672, 2793646, 6030435, 2339402,\n",
       "       1716746,  135876,   21888, 5633468, 2508552, 3496773, 3700826,\n",
       "       3315167,  845110,  421495, 4514029, 5965501, 3239507, 6479400,\n",
       "       5496156, 2240769, 1559798, 3826756, 2076799, 6295087, 5206758,\n",
       "       5504862, 3337699, 5167334, 4265100, 4436202, 3364796, 3191794,\n",
       "       4923087, 2678412, 4679046, 3275346,   32320, 3410454, 1405595,\n",
       "       5283645, 4747365, 2811497,  702033, 1252244, 5447108, 5330070,\n",
       "       5056037, 6003149, 5513852, 2496981, 5967698, 1337439, 2098842,\n",
       "       6046013, 6271194,  705488, 4932010,  286846, 4992514, 4946941,\n",
       "       3073856, 2186307, 4514207, 2024677, 6208298, 2281537, 5958502,\n",
       "       3861095, 5822219, 2086090,  622471, 6502228,  377390, 2333150,\n",
       "       1944152, 3071461,  705230, 5544688,  144013,  452881,  736802,\n",
       "       5620126, 5317919, 1842368, 5091639,  796662,  803950, 5788081,\n",
       "       6161844,  300763, 1645647, 1817238, 6022651, 1510488,   39087,\n",
       "       1478612, 5917874, 3421583, 5092527, 1799261, 3877044,  437028,\n",
       "       2762423, 3332451, 4735926, 5177664,  418529, 2010516, 1575033,\n",
       "       2503284, 5876968, 2224615,  246077, 4438823,  446775, 2875242,\n",
       "         58577, 2565631, 4869306,  742160, 5210054,   83504,  474704,\n",
       "       5627019, 2336328, 4290833, 2302685, 6109996, 6080399, 1869571,\n",
       "       5189304, 5134660, 1671490, 1786487, 5240256, 5295544, 2949095,\n",
       "        223403,  353239, 6243953, 2258195, 3875706, 2003443, 3475324,\n",
       "        841163, 5531900, 4854564, 5932583, 1992587, 1525624, 4901021,\n",
       "        259435, 1804500, 1014990, 6246980, 3290687, 1649799,  674610,\n",
       "       1691298, 2174059, 5026406, 5443042, 6587353, 2620741, 2829165,\n",
       "        362774, 3505266, 1607585, 6124185, 3118943, 3384090, 3550876,\n",
       "       1866359, 3146169, 3089454, 5662680, 5330204, 3021975, 3321810,\n",
       "       5840803, 1755631, 1739271, 5272507, 6214189,  243201, 1264362,\n",
       "        146656, 3291191, 5579947, 1983156, 3126182, 4316737,  162009,\n",
       "       4288471, 4007330, 6249957, 6433772, 3631597, 2768473,  947898,\n",
       "       5811150, 4605707, 6345188, 4240865, 1920561, 5804532, 5754288,\n",
       "       2050016, 4225343,   80283, 6054210, 5881203, 1274130, 6559792,\n",
       "       1379122, 1467705,  627769, 1600533, 6431397, 4470575, 1823285,\n",
       "       1750536, 1773802,   75972, 2514828, 3808755, 6104259, 5627899,\n",
       "       4722249, 5787128, 3110307, 3996085, 2103704, 6461522, 4245397,\n",
       "       1486051, 2700779, 3876764, 5967500, 2324766, 6477359,  526566,\n",
       "       3412699, 1437816,  965709, 2139023,  705726, 1522890, 6023103,\n",
       "       6130360, 5740712,  328950,  441778, 1171071, 6284910, 2013751,\n",
       "       1132957,  605295, 1537142, 2763038, 6205417, 4586182, 1093627,\n",
       "       3444155, 3170256, 1552542,  346392, 1401626, 2768073, 2483648,\n",
       "        777485, 5863828,  508604,  496668, 3297117, 4113564, 3093967,\n",
       "       3152351, 4549870, 3627827, 5671091, 3096073, 5818331, 2957415,\n",
       "       1481975, 5551658, 3993249, 3374677, 3322397, 6310282, 4674509,\n",
       "        151344, 1034810, 6390072, 2962317, 2991914, 4836098, 5964312,\n",
       "        891837, 3139656, 2017378, 2362356,   58186, 4543594, 3196133,\n",
       "        529006, 4535681, 6142341, 2793791, 2732418, 1602578,  938460,\n",
       "       5685293, 4845453,   59760, 1775172, 1776543, 4405065, 5212764,\n",
       "       5732673, 3326034, 2396547, 2621616, 3703967, 5363967, 2508442,\n",
       "       1284970, 6315030], dtype=int64)"
      ]
     },
     "execution_count": 251,
     "metadata": {},
     "output_type": "execute_result"
    }
   ],
   "source": [
    "#제거하지 않고 남은 index의 목록\n",
    "existed_CLNT_ID"
   ]
  },
  {
   "cell_type": "code",
   "execution_count": 96,
   "metadata": {},
   "outputs": [
    {
     "name": "stdout",
     "output_type": "stream",
     "text": [
      "(37,)\n",
      "(827,)\n",
      "(827, 37)\n"
     ]
    }
   ],
   "source": [
    "col_names = Purchase_Count.columns.values\n",
    "row_names = existed_CLNT_ID\n",
    "print(col_names.shape)\n",
    "print(row_names.shape)\n",
    "print(user_pred_k2.shape)"
   ]
  },
  {
   "cell_type": "code",
   "execution_count": 100,
   "metadata": {},
   "outputs": [],
   "source": [
    "Online_Preference_Count = pd.DataFrame(user_pred_k2, columns = col_names, index = row_names)"
   ]
  },
  {
   "cell_type": "code",
   "execution_count": 101,
   "metadata": {},
   "outputs": [
    {
     "data": {
      "text/html": [
       "<div>\n",
       "<style scoped>\n",
       "    .dataframe tbody tr th:only-of-type {\n",
       "        vertical-align: middle;\n",
       "    }\n",
       "\n",
       "    .dataframe tbody tr th {\n",
       "        vertical-align: top;\n",
       "    }\n",
       "\n",
       "    .dataframe thead th {\n",
       "        text-align: right;\n",
       "    }\n",
       "</style>\n",
       "<table border=\"1\" class=\"dataframe\">\n",
       "  <thead>\n",
       "    <tr style=\"text-align: right;\">\n",
       "      <th></th>\n",
       "      <th>스포츠패션</th>\n",
       "      <th>남성의류</th>\n",
       "      <th>유아동의류</th>\n",
       "      <th>청소/세탁/욕실용품</th>\n",
       "      <th>완구</th>\n",
       "      <th>패션잡화</th>\n",
       "      <th>시즌스포츠</th>\n",
       "      <th>여성의류</th>\n",
       "      <th>인테리어/조명</th>\n",
       "      <th>속옷/양말/홈웨어</th>\n",
       "      <th>...</th>\n",
       "      <th>음료</th>\n",
       "      <th>구기/필드스포츠</th>\n",
       "      <th>냉장/세탁가전</th>\n",
       "      <th>냉동식품</th>\n",
       "      <th>냉장식품</th>\n",
       "      <th>원예/애완</th>\n",
       "      <th>상품권</th>\n",
       "      <th>자동차용품</th>\n",
       "      <th>축산물</th>\n",
       "      <th>영상/음향가전</th>\n",
       "    </tr>\n",
       "  </thead>\n",
       "  <tbody>\n",
       "    <tr>\n",
       "      <th>598339</th>\n",
       "      <td>6.466721</td>\n",
       "      <td>0.445462</td>\n",
       "      <td>0.269741</td>\n",
       "      <td>0.0</td>\n",
       "      <td>0.0</td>\n",
       "      <td>0.000000</td>\n",
       "      <td>0.000000</td>\n",
       "      <td>0.890924</td>\n",
       "      <td>0.0</td>\n",
       "      <td>0.0</td>\n",
       "      <td>...</td>\n",
       "      <td>0.445462</td>\n",
       "      <td>0.668193</td>\n",
       "      <td>0.0</td>\n",
       "      <td>0.0</td>\n",
       "      <td>0.0</td>\n",
       "      <td>0.0</td>\n",
       "      <td>0.0</td>\n",
       "      <td>0.0</td>\n",
       "      <td>0.0</td>\n",
       "      <td>0.0</td>\n",
       "    </tr>\n",
       "    <tr>\n",
       "      <th>1000521</th>\n",
       "      <td>0.737688</td>\n",
       "      <td>0.000000</td>\n",
       "      <td>0.000000</td>\n",
       "      <td>0.0</td>\n",
       "      <td>0.0</td>\n",
       "      <td>0.000000</td>\n",
       "      <td>0.000000</td>\n",
       "      <td>0.000000</td>\n",
       "      <td>0.0</td>\n",
       "      <td>0.0</td>\n",
       "      <td>...</td>\n",
       "      <td>0.000000</td>\n",
       "      <td>0.252130</td>\n",
       "      <td>0.0</td>\n",
       "      <td>0.0</td>\n",
       "      <td>0.0</td>\n",
       "      <td>0.0</td>\n",
       "      <td>0.0</td>\n",
       "      <td>0.0</td>\n",
       "      <td>0.0</td>\n",
       "      <td>0.0</td>\n",
       "    </tr>\n",
       "    <tr>\n",
       "      <th>1386382</th>\n",
       "      <td>2.292641</td>\n",
       "      <td>0.000000</td>\n",
       "      <td>2.714582</td>\n",
       "      <td>0.0</td>\n",
       "      <td>0.0</td>\n",
       "      <td>0.745085</td>\n",
       "      <td>3.119941</td>\n",
       "      <td>0.289564</td>\n",
       "      <td>0.0</td>\n",
       "      <td>0.0</td>\n",
       "      <td>...</td>\n",
       "      <td>0.000000</td>\n",
       "      <td>0.000000</td>\n",
       "      <td>0.0</td>\n",
       "      <td>0.0</td>\n",
       "      <td>0.0</td>\n",
       "      <td>0.0</td>\n",
       "      <td>0.0</td>\n",
       "      <td>0.0</td>\n",
       "      <td>0.0</td>\n",
       "      <td>0.0</td>\n",
       "    </tr>\n",
       "    <tr>\n",
       "      <th>5853909</th>\n",
       "      <td>0.000000</td>\n",
       "      <td>0.000000</td>\n",
       "      <td>0.000000</td>\n",
       "      <td>0.0</td>\n",
       "      <td>0.0</td>\n",
       "      <td>0.000000</td>\n",
       "      <td>0.000000</td>\n",
       "      <td>0.000000</td>\n",
       "      <td>0.0</td>\n",
       "      <td>0.0</td>\n",
       "      <td>...</td>\n",
       "      <td>0.521164</td>\n",
       "      <td>0.196982</td>\n",
       "      <td>0.0</td>\n",
       "      <td>0.0</td>\n",
       "      <td>0.0</td>\n",
       "      <td>0.0</td>\n",
       "      <td>0.0</td>\n",
       "      <td>0.0</td>\n",
       "      <td>0.0</td>\n",
       "      <td>0.0</td>\n",
       "    </tr>\n",
       "    <tr>\n",
       "      <th>5256290</th>\n",
       "      <td>0.000000</td>\n",
       "      <td>0.000000</td>\n",
       "      <td>0.000000</td>\n",
       "      <td>0.0</td>\n",
       "      <td>0.0</td>\n",
       "      <td>0.000000</td>\n",
       "      <td>0.000000</td>\n",
       "      <td>0.000000</td>\n",
       "      <td>0.0</td>\n",
       "      <td>0.0</td>\n",
       "      <td>...</td>\n",
       "      <td>0.000000</td>\n",
       "      <td>0.000000</td>\n",
       "      <td>0.0</td>\n",
       "      <td>0.0</td>\n",
       "      <td>0.0</td>\n",
       "      <td>0.0</td>\n",
       "      <td>0.0</td>\n",
       "      <td>0.0</td>\n",
       "      <td>0.0</td>\n",
       "      <td>0.0</td>\n",
       "    </tr>\n",
       "  </tbody>\n",
       "</table>\n",
       "<p>5 rows × 37 columns</p>\n",
       "</div>"
      ],
      "text/plain": [
       "            스포츠패션      남성의류     유아동의류  청소/세탁/욕실용품   완구      패션잡화     시즌스포츠  \\\n",
       "598339   6.466721  0.445462  0.269741         0.0  0.0  0.000000  0.000000   \n",
       "1000521  0.737688  0.000000  0.000000         0.0  0.0  0.000000  0.000000   \n",
       "1386382  2.292641  0.000000  2.714582         0.0  0.0  0.745085  3.119941   \n",
       "5853909  0.000000  0.000000  0.000000         0.0  0.0  0.000000  0.000000   \n",
       "5256290  0.000000  0.000000  0.000000         0.0  0.0  0.000000  0.000000   \n",
       "\n",
       "             여성의류  인테리어/조명  속옷/양말/홈웨어   ...           음료  구기/필드스포츠  냉장/세탁가전  \\\n",
       "598339   0.890924      0.0        0.0   ...     0.445462  0.668193      0.0   \n",
       "1000521  0.000000      0.0        0.0   ...     0.000000  0.252130      0.0   \n",
       "1386382  0.289564      0.0        0.0   ...     0.000000  0.000000      0.0   \n",
       "5853909  0.000000      0.0        0.0   ...     0.521164  0.196982      0.0   \n",
       "5256290  0.000000      0.0        0.0   ...     0.000000  0.000000      0.0   \n",
       "\n",
       "         냉동식품  냉장식품  원예/애완  상품권  자동차용품  축산물  영상/음향가전  \n",
       "598339    0.0   0.0    0.0  0.0    0.0  0.0      0.0  \n",
       "1000521   0.0   0.0    0.0  0.0    0.0  0.0      0.0  \n",
       "1386382   0.0   0.0    0.0  0.0    0.0  0.0      0.0  \n",
       "5853909   0.0   0.0    0.0  0.0    0.0  0.0      0.0  \n",
       "5256290   0.0   0.0    0.0  0.0    0.0  0.0      0.0  \n",
       "\n",
       "[5 rows x 37 columns]"
      ]
     },
     "execution_count": 101,
     "metadata": {},
     "output_type": "execute_result"
    }
   ],
   "source": [
    "Online_Preference_Count.head()"
   ]
  },
  {
   "cell_type": "code",
   "execution_count": 115,
   "metadata": {},
   "outputs": [
    {
     "data": {
      "text/html": [
       "<div>\n",
       "<style scoped>\n",
       "    .dataframe tbody tr th:only-of-type {\n",
       "        vertical-align: middle;\n",
       "    }\n",
       "\n",
       "    .dataframe tbody tr th {\n",
       "        vertical-align: top;\n",
       "    }\n",
       "\n",
       "    .dataframe thead th {\n",
       "        text-align: right;\n",
       "    }\n",
       "</style>\n",
       "<table border=\"1\" class=\"dataframe\">\n",
       "  <thead>\n",
       "    <tr style=\"text-align: right;\">\n",
       "      <th></th>\n",
       "      <th>CLNT_ID</th>\n",
       "    </tr>\n",
       "  </thead>\n",
       "  <tbody>\n",
       "    <tr>\n",
       "      <th>0</th>\n",
       "      <td>598339</td>\n",
       "    </tr>\n",
       "    <tr>\n",
       "      <th>1</th>\n",
       "      <td>1000521</td>\n",
       "    </tr>\n",
       "    <tr>\n",
       "      <th>2</th>\n",
       "      <td>1386382</td>\n",
       "    </tr>\n",
       "    <tr>\n",
       "      <th>3</th>\n",
       "      <td>5853909</td>\n",
       "    </tr>\n",
       "    <tr>\n",
       "      <th>4</th>\n",
       "      <td>5256290</td>\n",
       "    </tr>\n",
       "  </tbody>\n",
       "</table>\n",
       "</div>"
      ],
      "text/plain": [
       "   CLNT_ID\n",
       "0   598339\n",
       "1  1000521\n",
       "2  1386382\n",
       "3  5853909\n",
       "4  5256290"
      ]
     },
     "execution_count": 115,
     "metadata": {},
     "output_type": "execute_result"
    }
   ],
   "source": [
    "Existed_Client1 = pd.DataFrame(Online_Preference_Count.index.values, columns = ['CLNT_ID'])\n",
    "Existed_Client1.head()"
   ]
  },
  {
   "cell_type": "code",
   "execution_count": 114,
   "metadata": {},
   "outputs": [],
   "source": [
    "#데이터 내보내기\n",
    "Online_Preference_Count.to_csv(\"C:/Users/lsh93/Desktop/data/UBCF2/Online_Preference_Count.csv\", encoding=\"UTF-8\")\n",
    "Existed_Client1.to_csv(\"C:/Users/lsh93/Desktop/data/UBCF2/Existed_Client1.csv\", encoding=\"UTF-8\")"
   ]
  },
  {
   "cell_type": "markdown",
   "metadata": {},
   "source": [
    "2) 검색 횟수를 이용한 온라인 선호지수 생성"
   ]
  },
  {
   "cell_type": "code",
   "execution_count": null,
   "metadata": {},
   "outputs": [],
   "source": []
  }
 ],
 "metadata": {
  "kernelspec": {
   "display_name": "Python 3",
   "language": "python",
   "name": "python3"
  },
  "language_info": {
   "codemirror_mode": {
    "name": "ipython",
    "version": 3
   },
   "file_extension": ".py",
   "mimetype": "text/x-python",
   "name": "python",
   "nbconvert_exporter": "python",
   "pygments_lexer": "ipython3",
   "version": "3.7.1"
  }
 },
 "nbformat": 4,
 "nbformat_minor": 2
}
