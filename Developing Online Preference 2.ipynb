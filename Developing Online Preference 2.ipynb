{
 "cells": [
  {
   "cell_type": "markdown",
   "metadata": {},
   "source": [
    "# 2. 온라인 선호지수 개발"
   ]
  },
  {
   "cell_type": "markdown",
   "metadata": {},
   "source": [
    "## 2.2 협업 필터링을 통한 선호도 점수 행렬 도출"
   ]
  },
  {
   "cell_type": "code",
   "execution_count": 2,
   "metadata": {},
   "outputs": [],
   "source": [
    "import numpy as np\n",
    "import pandas as pd\n",
    "import sklearn\n",
    "from pandas import Series, DataFrame\n",
    "import seaborn as sns\n",
    "import matplotlib.pyplot as plt\n",
    "from pathlib import Path\n",
    "import os"
   ]
  },
  {
   "cell_type": "markdown",
   "metadata": {},
   "source": [
    "### 1) 구매 count를 이용한 온라인 선호지수 생성"
   ]
  },
  {
   "cell_type": "code",
   "execution_count": 99,
   "metadata": {},
   "outputs": [
    {
     "data": {
      "text/html": [
       "<div>\n",
       "<style scoped>\n",
       "    .dataframe tbody tr th:only-of-type {\n",
       "        vertical-align: middle;\n",
       "    }\n",
       "\n",
       "    .dataframe tbody tr th {\n",
       "        vertical-align: top;\n",
       "    }\n",
       "\n",
       "    .dataframe thead th {\n",
       "        text-align: right;\n",
       "    }\n",
       "</style>\n",
       "<table border=\"1\" class=\"dataframe\">\n",
       "  <thead>\n",
       "    <tr style=\"text-align: right;\">\n",
       "      <th></th>\n",
       "      <th>CLNT_ID</th>\n",
       "      <th>스포츠패션</th>\n",
       "      <th>남성의류</th>\n",
       "      <th>유아동의류</th>\n",
       "      <th>청소/세탁/욕실용품</th>\n",
       "      <th>완구</th>\n",
       "      <th>패션잡화</th>\n",
       "      <th>시즌스포츠</th>\n",
       "      <th>여성의류</th>\n",
       "      <th>인테리어/조명</th>\n",
       "      <th>...</th>\n",
       "      <th>음료</th>\n",
       "      <th>구기/필드스포츠</th>\n",
       "      <th>냉장/세탁가전</th>\n",
       "      <th>냉동식품</th>\n",
       "      <th>냉장식품</th>\n",
       "      <th>원예/애완</th>\n",
       "      <th>상품권</th>\n",
       "      <th>자동차용품</th>\n",
       "      <th>축산물</th>\n",
       "      <th>영상/음향가전</th>\n",
       "    </tr>\n",
       "  </thead>\n",
       "  <tbody>\n",
       "    <tr>\n",
       "      <th>0</th>\n",
       "      <td>4140076</td>\n",
       "      <td>23.0</td>\n",
       "      <td>52.0</td>\n",
       "      <td>17.0</td>\n",
       "      <td>5.0</td>\n",
       "      <td>5.0</td>\n",
       "      <td>24.0</td>\n",
       "      <td>8.0</td>\n",
       "      <td>8.0</td>\n",
       "      <td>7.0</td>\n",
       "      <td>...</td>\n",
       "      <td>0.0</td>\n",
       "      <td>0.0</td>\n",
       "      <td>0.0</td>\n",
       "      <td>0.0</td>\n",
       "      <td>0.0</td>\n",
       "      <td>0.0</td>\n",
       "      <td>0.0</td>\n",
       "      <td>0.0</td>\n",
       "      <td>0.0</td>\n",
       "      <td>0.0</td>\n",
       "    </tr>\n",
       "    <tr>\n",
       "      <th>1</th>\n",
       "      <td>4148106</td>\n",
       "      <td>3.0</td>\n",
       "      <td>3.0</td>\n",
       "      <td>0.0</td>\n",
       "      <td>0.0</td>\n",
       "      <td>0.0</td>\n",
       "      <td>9.0</td>\n",
       "      <td>7.0</td>\n",
       "      <td>0.0</td>\n",
       "      <td>0.0</td>\n",
       "      <td>...</td>\n",
       "      <td>0.0</td>\n",
       "      <td>0.0</td>\n",
       "      <td>0.0</td>\n",
       "      <td>0.0</td>\n",
       "      <td>0.0</td>\n",
       "      <td>0.0</td>\n",
       "      <td>0.0</td>\n",
       "      <td>0.0</td>\n",
       "      <td>0.0</td>\n",
       "      <td>0.0</td>\n",
       "    </tr>\n",
       "    <tr>\n",
       "      <th>2</th>\n",
       "      <td>5298612</td>\n",
       "      <td>1.0</td>\n",
       "      <td>4.0</td>\n",
       "      <td>2.0</td>\n",
       "      <td>0.0</td>\n",
       "      <td>0.0</td>\n",
       "      <td>0.0</td>\n",
       "      <td>0.0</td>\n",
       "      <td>0.0</td>\n",
       "      <td>0.0</td>\n",
       "      <td>...</td>\n",
       "      <td>0.0</td>\n",
       "      <td>0.0</td>\n",
       "      <td>0.0</td>\n",
       "      <td>0.0</td>\n",
       "      <td>0.0</td>\n",
       "      <td>0.0</td>\n",
       "      <td>0.0</td>\n",
       "      <td>0.0</td>\n",
       "      <td>0.0</td>\n",
       "      <td>0.0</td>\n",
       "    </tr>\n",
       "    <tr>\n",
       "      <th>3</th>\n",
       "      <td>5553084</td>\n",
       "      <td>7.0</td>\n",
       "      <td>13.0</td>\n",
       "      <td>21.0</td>\n",
       "      <td>0.0</td>\n",
       "      <td>3.0</td>\n",
       "      <td>10.0</td>\n",
       "      <td>11.0</td>\n",
       "      <td>19.0</td>\n",
       "      <td>0.0</td>\n",
       "      <td>...</td>\n",
       "      <td>0.0</td>\n",
       "      <td>3.0</td>\n",
       "      <td>0.0</td>\n",
       "      <td>0.0</td>\n",
       "      <td>0.0</td>\n",
       "      <td>0.0</td>\n",
       "      <td>0.0</td>\n",
       "      <td>0.0</td>\n",
       "      <td>0.0</td>\n",
       "      <td>0.0</td>\n",
       "    </tr>\n",
       "    <tr>\n",
       "      <th>4</th>\n",
       "      <td>5639922</td>\n",
       "      <td>11.0</td>\n",
       "      <td>16.0</td>\n",
       "      <td>9.0</td>\n",
       "      <td>0.0</td>\n",
       "      <td>0.0</td>\n",
       "      <td>17.0</td>\n",
       "      <td>4.0</td>\n",
       "      <td>55.0</td>\n",
       "      <td>0.0</td>\n",
       "      <td>...</td>\n",
       "      <td>0.0</td>\n",
       "      <td>0.0</td>\n",
       "      <td>0.0</td>\n",
       "      <td>0.0</td>\n",
       "      <td>0.0</td>\n",
       "      <td>16.0</td>\n",
       "      <td>0.0</td>\n",
       "      <td>0.0</td>\n",
       "      <td>0.0</td>\n",
       "      <td>0.0</td>\n",
       "    </tr>\n",
       "  </tbody>\n",
       "</table>\n",
       "<p>5 rows × 38 columns</p>\n",
       "</div>"
      ],
      "text/plain": [
       "   CLNT_ID  스포츠패션  남성의류  유아동의류  청소/세탁/욕실용품   완구  패션잡화  시즌스포츠  여성의류  인테리어/조명  \\\n",
       "0  4140076   23.0  52.0   17.0         5.0  5.0  24.0    8.0   8.0      7.0   \n",
       "1  4148106    3.0   3.0    0.0         0.0  0.0   9.0    7.0   0.0      0.0   \n",
       "2  5298612    1.0   4.0    2.0         0.0  0.0   0.0    0.0   0.0      0.0   \n",
       "3  5553084    7.0  13.0   21.0         0.0  3.0  10.0   11.0  19.0      0.0   \n",
       "4  5639922   11.0  16.0    9.0         0.0  0.0  17.0    4.0  55.0      0.0   \n",
       "\n",
       "    ...      음료  구기/필드스포츠  냉장/세탁가전  냉동식품  냉장식품  원예/애완  상품권  자동차용품  축산물  \\\n",
       "0   ...     0.0       0.0      0.0   0.0   0.0    0.0  0.0    0.0  0.0   \n",
       "1   ...     0.0       0.0      0.0   0.0   0.0    0.0  0.0    0.0  0.0   \n",
       "2   ...     0.0       0.0      0.0   0.0   0.0    0.0  0.0    0.0  0.0   \n",
       "3   ...     0.0       3.0      0.0   0.0   0.0    0.0  0.0    0.0  0.0   \n",
       "4   ...     0.0       0.0      0.0   0.0   0.0   16.0  0.0    0.0  0.0   \n",
       "\n",
       "   영상/음향가전  \n",
       "0      0.0  \n",
       "1      0.0  \n",
       "2      0.0  \n",
       "3      0.0  \n",
       "4      0.0  \n",
       "\n",
       "[5 rows x 38 columns]"
      ]
     },
     "execution_count": 99,
     "metadata": {},
     "output_type": "execute_result"
    }
   ],
   "source": [
    "#Purchase_Count : Developing Online Preference 2에서 생성한 client 대 상품군 구매 수랑 matrix \n",
    "#데이터 불러오기\n",
    "Purchase_Count = pd.read_csv(\"C:/Users/lsh93/Desktop/data output/Purchase_Count.csv\")\n",
    "Purchase_Count = Purchase_Count.rename(columns = {'Unnamed: 0':'CLNT_ID'})\n",
    "Purchase_Count.head()"
   ]
  },
  {
   "cell_type": "code",
   "execution_count": 97,
   "metadata": {},
   "outputs": [
    {
     "data": {
      "text/plain": [
       "8542"
      ]
     },
     "execution_count": 97,
     "metadata": {},
     "output_type": "execute_result"
    }
   ],
   "source": [
    "#Customer Segmentation에서 샘플링해 온 client 목록 가져오기\n",
    "op_clients = pd.read_csv(\"C:/Users/lsh93/Desktop/data output/op_clients.csv\") \n",
    "len(op_clients)"
   ]
  },
  {
   "cell_type": "code",
   "execution_count": 100,
   "metadata": {},
   "outputs": [
    {
     "data": {
      "text/plain": [
       "6450"
      ]
     },
     "execution_count": 100,
     "metadata": {},
     "output_type": "execute_result"
    }
   ],
   "source": [
    "#Purchase_Count에서 뽑아오기\n",
    "Purchase_Count = pd.merge(Purchase_Count, op_clients, how = 'inner', on ='CLNT_ID')\n",
    "len(Purchase_Count['CLNT_ID'].unique())"
   ]
  },
  {
   "cell_type": "code",
   "execution_count": 29,
   "metadata": {},
   "outputs": [
    {
     "name": "stderr",
     "output_type": "stream",
     "text": [
      "C:\\Users\\lsh93\\Anaconda3\\lib\\site-packages\\ipykernel_launcher.py:1: FutureWarning: Method .as_matrix will be removed in a future version. Use .values instead.\n",
      "  \"\"\"Entry point for launching an IPython kernel.\n"
     ]
    },
    {
     "data": {
      "text/plain": [
       "array([4140076, 4148106, 5298612, ..., 3652718,  718983, 2909364],\n",
       "      dtype=int64)"
      ]
     },
     "execution_count": 29,
     "metadata": {},
     "output_type": "execute_result"
    }
   ],
   "source": [
    "row_names = Purchase_Count['CLNT_ID'].as_matrix()\n",
    "row_names"
   ]
  },
  {
   "cell_type": "code",
   "execution_count": 31,
   "metadata": {},
   "outputs": [
    {
     "data": {
      "text/plain": [
       "array(['스포츠패션', '남성의류', '유아동의류', '청소/세탁/욕실용품', '완구', '패션잡화', '시즌스포츠',\n",
       "       '여성의류', '인테리어/조명', '속옷/양말/홈웨어', '과일', '화장품/뷰티케어', '건강식품',\n",
       "       '문구/사무용품', '주방잡화', '생활/주방가전', '침구/수예', '컴퓨터', '계절가전', '가구',\n",
       "       '식기/조리기구', '모바일', '헬스/피트니스', '아웃도어/레저', '퍼스널케어', '세제/위생',\n",
       "       '출산/육아용품', '음료', '구기/필드스포츠', '냉장/세탁가전', '냉동식품', '냉장식품', '원예/애완',\n",
       "       '상품권', '자동차용품', '축산물', '영상/음향가전'], dtype=object)"
      ]
     },
     "execution_count": 31,
     "metadata": {},
     "output_type": "execute_result"
    }
   ],
   "source": [
    "col_names = Purchase_Count.columns.values\n",
    "col_names = col_names[1:]\n",
    "col_names"
   ]
  },
  {
   "cell_type": "code",
   "execution_count": 33,
   "metadata": {},
   "outputs": [
    {
     "name": "stderr",
     "output_type": "stream",
     "text": [
      "C:\\Users\\lsh93\\Anaconda3\\lib\\site-packages\\ipykernel_launcher.py:1: FutureWarning: Method .as_matrix will be removed in a future version. Use .values instead.\n",
      "  \"\"\"Entry point for launching an IPython kernel.\n"
     ]
    },
    {
     "data": {
      "text/plain": [
       "array([[4.140076e+06, 2.300000e+01, 5.200000e+01, ..., 0.000000e+00,\n",
       "        0.000000e+00, 0.000000e+00],\n",
       "       [4.148106e+06, 3.000000e+00, 3.000000e+00, ..., 0.000000e+00,\n",
       "        0.000000e+00, 0.000000e+00],\n",
       "       [5.298612e+06, 1.000000e+00, 4.000000e+00, ..., 0.000000e+00,\n",
       "        0.000000e+00, 0.000000e+00],\n",
       "       ...,\n",
       "       [3.652718e+06, 0.000000e+00, 0.000000e+00, ..., 0.000000e+00,\n",
       "        0.000000e+00, 0.000000e+00],\n",
       "       [7.189830e+05, 0.000000e+00, 0.000000e+00, ..., 0.000000e+00,\n",
       "        0.000000e+00, 0.000000e+00],\n",
       "       [2.909364e+06, 0.000000e+00, 0.000000e+00, ..., 0.000000e+00,\n",
       "        0.000000e+00, 0.000000e+00]])"
      ]
     },
     "execution_count": 33,
     "metadata": {},
     "output_type": "execute_result"
    }
   ],
   "source": [
    "PC = Purchase_Count.as_matrix()\n",
    "PC"
   ]
  },
  {
   "cell_type": "code",
   "execution_count": 34,
   "metadata": {},
   "outputs": [],
   "source": [
    "PC = PC[:,1:]"
   ]
  },
  {
   "cell_type": "code",
   "execution_count": 35,
   "metadata": {},
   "outputs": [
    {
     "data": {
      "text/plain": [
       "(6450, 37)"
      ]
     },
     "execution_count": 35,
     "metadata": {},
     "output_type": "execute_result"
    }
   ],
   "source": [
    "PC.shape"
   ]
  },
  {
   "cell_type": "code",
   "execution_count": 36,
   "metadata": {},
   "outputs": [],
   "source": [
    "temp = pd.DataFrame(PC, columns = col_names, index = row_names)"
   ]
  },
  {
   "cell_type": "code",
   "execution_count": 37,
   "metadata": {},
   "outputs": [
    {
     "data": {
      "text/html": [
       "<div>\n",
       "<style scoped>\n",
       "    .dataframe tbody tr th:only-of-type {\n",
       "        vertical-align: middle;\n",
       "    }\n",
       "\n",
       "    .dataframe tbody tr th {\n",
       "        vertical-align: top;\n",
       "    }\n",
       "\n",
       "    .dataframe thead th {\n",
       "        text-align: right;\n",
       "    }\n",
       "</style>\n",
       "<table border=\"1\" class=\"dataframe\">\n",
       "  <thead>\n",
       "    <tr style=\"text-align: right;\">\n",
       "      <th></th>\n",
       "      <th>스포츠패션</th>\n",
       "      <th>남성의류</th>\n",
       "      <th>유아동의류</th>\n",
       "      <th>청소/세탁/욕실용품</th>\n",
       "      <th>완구</th>\n",
       "      <th>패션잡화</th>\n",
       "      <th>시즌스포츠</th>\n",
       "      <th>여성의류</th>\n",
       "      <th>인테리어/조명</th>\n",
       "      <th>속옷/양말/홈웨어</th>\n",
       "      <th>...</th>\n",
       "      <th>음료</th>\n",
       "      <th>구기/필드스포츠</th>\n",
       "      <th>냉장/세탁가전</th>\n",
       "      <th>냉동식품</th>\n",
       "      <th>냉장식품</th>\n",
       "      <th>원예/애완</th>\n",
       "      <th>상품권</th>\n",
       "      <th>자동차용품</th>\n",
       "      <th>축산물</th>\n",
       "      <th>영상/음향가전</th>\n",
       "    </tr>\n",
       "  </thead>\n",
       "  <tbody>\n",
       "    <tr>\n",
       "      <th>4140076</th>\n",
       "      <td>23.0</td>\n",
       "      <td>52.0</td>\n",
       "      <td>17.0</td>\n",
       "      <td>5.0</td>\n",
       "      <td>5.0</td>\n",
       "      <td>24.0</td>\n",
       "      <td>8.0</td>\n",
       "      <td>8.0</td>\n",
       "      <td>7.0</td>\n",
       "      <td>4.0</td>\n",
       "      <td>...</td>\n",
       "      <td>0.0</td>\n",
       "      <td>0.0</td>\n",
       "      <td>0.0</td>\n",
       "      <td>0.0</td>\n",
       "      <td>0.0</td>\n",
       "      <td>0.0</td>\n",
       "      <td>0.0</td>\n",
       "      <td>0.0</td>\n",
       "      <td>0.0</td>\n",
       "      <td>0.0</td>\n",
       "    </tr>\n",
       "    <tr>\n",
       "      <th>4148106</th>\n",
       "      <td>3.0</td>\n",
       "      <td>3.0</td>\n",
       "      <td>0.0</td>\n",
       "      <td>0.0</td>\n",
       "      <td>0.0</td>\n",
       "      <td>9.0</td>\n",
       "      <td>7.0</td>\n",
       "      <td>0.0</td>\n",
       "      <td>0.0</td>\n",
       "      <td>0.0</td>\n",
       "      <td>...</td>\n",
       "      <td>0.0</td>\n",
       "      <td>0.0</td>\n",
       "      <td>0.0</td>\n",
       "      <td>0.0</td>\n",
       "      <td>0.0</td>\n",
       "      <td>0.0</td>\n",
       "      <td>0.0</td>\n",
       "      <td>0.0</td>\n",
       "      <td>0.0</td>\n",
       "      <td>0.0</td>\n",
       "    </tr>\n",
       "    <tr>\n",
       "      <th>5298612</th>\n",
       "      <td>1.0</td>\n",
       "      <td>4.0</td>\n",
       "      <td>2.0</td>\n",
       "      <td>0.0</td>\n",
       "      <td>0.0</td>\n",
       "      <td>0.0</td>\n",
       "      <td>0.0</td>\n",
       "      <td>0.0</td>\n",
       "      <td>0.0</td>\n",
       "      <td>0.0</td>\n",
       "      <td>...</td>\n",
       "      <td>0.0</td>\n",
       "      <td>0.0</td>\n",
       "      <td>0.0</td>\n",
       "      <td>0.0</td>\n",
       "      <td>0.0</td>\n",
       "      <td>0.0</td>\n",
       "      <td>0.0</td>\n",
       "      <td>0.0</td>\n",
       "      <td>0.0</td>\n",
       "      <td>0.0</td>\n",
       "    </tr>\n",
       "    <tr>\n",
       "      <th>5553084</th>\n",
       "      <td>7.0</td>\n",
       "      <td>13.0</td>\n",
       "      <td>21.0</td>\n",
       "      <td>0.0</td>\n",
       "      <td>3.0</td>\n",
       "      <td>10.0</td>\n",
       "      <td>11.0</td>\n",
       "      <td>19.0</td>\n",
       "      <td>0.0</td>\n",
       "      <td>6.0</td>\n",
       "      <td>...</td>\n",
       "      <td>0.0</td>\n",
       "      <td>3.0</td>\n",
       "      <td>0.0</td>\n",
       "      <td>0.0</td>\n",
       "      <td>0.0</td>\n",
       "      <td>0.0</td>\n",
       "      <td>0.0</td>\n",
       "      <td>0.0</td>\n",
       "      <td>0.0</td>\n",
       "      <td>0.0</td>\n",
       "    </tr>\n",
       "    <tr>\n",
       "      <th>5639922</th>\n",
       "      <td>11.0</td>\n",
       "      <td>16.0</td>\n",
       "      <td>9.0</td>\n",
       "      <td>0.0</td>\n",
       "      <td>0.0</td>\n",
       "      <td>17.0</td>\n",
       "      <td>4.0</td>\n",
       "      <td>55.0</td>\n",
       "      <td>0.0</td>\n",
       "      <td>12.0</td>\n",
       "      <td>...</td>\n",
       "      <td>0.0</td>\n",
       "      <td>0.0</td>\n",
       "      <td>0.0</td>\n",
       "      <td>0.0</td>\n",
       "      <td>0.0</td>\n",
       "      <td>16.0</td>\n",
       "      <td>0.0</td>\n",
       "      <td>0.0</td>\n",
       "      <td>0.0</td>\n",
       "      <td>0.0</td>\n",
       "    </tr>\n",
       "    <tr>\n",
       "      <th>5650295</th>\n",
       "      <td>2.0</td>\n",
       "      <td>0.0</td>\n",
       "      <td>0.0</td>\n",
       "      <td>0.0</td>\n",
       "      <td>0.0</td>\n",
       "      <td>1.0</td>\n",
       "      <td>1.0</td>\n",
       "      <td>0.0</td>\n",
       "      <td>0.0</td>\n",
       "      <td>0.0</td>\n",
       "      <td>...</td>\n",
       "      <td>0.0</td>\n",
       "      <td>0.0</td>\n",
       "      <td>0.0</td>\n",
       "      <td>0.0</td>\n",
       "      <td>0.0</td>\n",
       "      <td>0.0</td>\n",
       "      <td>0.0</td>\n",
       "      <td>0.0</td>\n",
       "      <td>0.0</td>\n",
       "      <td>0.0</td>\n",
       "    </tr>\n",
       "    <tr>\n",
       "      <th>5851368</th>\n",
       "      <td>8.0</td>\n",
       "      <td>0.0</td>\n",
       "      <td>0.0</td>\n",
       "      <td>0.0</td>\n",
       "      <td>0.0</td>\n",
       "      <td>0.0</td>\n",
       "      <td>0.0</td>\n",
       "      <td>0.0</td>\n",
       "      <td>0.0</td>\n",
       "      <td>0.0</td>\n",
       "      <td>...</td>\n",
       "      <td>0.0</td>\n",
       "      <td>0.0</td>\n",
       "      <td>0.0</td>\n",
       "      <td>0.0</td>\n",
       "      <td>0.0</td>\n",
       "      <td>0.0</td>\n",
       "      <td>0.0</td>\n",
       "      <td>0.0</td>\n",
       "      <td>0.0</td>\n",
       "      <td>0.0</td>\n",
       "    </tr>\n",
       "    <tr>\n",
       "      <th>4128075</th>\n",
       "      <td>10.0</td>\n",
       "      <td>0.0</td>\n",
       "      <td>0.0</td>\n",
       "      <td>0.0</td>\n",
       "      <td>0.0</td>\n",
       "      <td>1.0</td>\n",
       "      <td>8.0</td>\n",
       "      <td>8.0</td>\n",
       "      <td>0.0</td>\n",
       "      <td>0.0</td>\n",
       "      <td>...</td>\n",
       "      <td>0.0</td>\n",
       "      <td>0.0</td>\n",
       "      <td>0.0</td>\n",
       "      <td>0.0</td>\n",
       "      <td>0.0</td>\n",
       "      <td>0.0</td>\n",
       "      <td>0.0</td>\n",
       "      <td>0.0</td>\n",
       "      <td>0.0</td>\n",
       "      <td>0.0</td>\n",
       "    </tr>\n",
       "    <tr>\n",
       "      <th>4207528</th>\n",
       "      <td>3.0</td>\n",
       "      <td>2.0</td>\n",
       "      <td>1.0</td>\n",
       "      <td>2.0</td>\n",
       "      <td>0.0</td>\n",
       "      <td>7.0</td>\n",
       "      <td>0.0</td>\n",
       "      <td>5.0</td>\n",
       "      <td>2.0</td>\n",
       "      <td>9.0</td>\n",
       "      <td>...</td>\n",
       "      <td>0.0</td>\n",
       "      <td>0.0</td>\n",
       "      <td>0.0</td>\n",
       "      <td>0.0</td>\n",
       "      <td>0.0</td>\n",
       "      <td>0.0</td>\n",
       "      <td>0.0</td>\n",
       "      <td>0.0</td>\n",
       "      <td>0.0</td>\n",
       "      <td>0.0</td>\n",
       "    </tr>\n",
       "    <tr>\n",
       "      <th>4219875</th>\n",
       "      <td>5.0</td>\n",
       "      <td>0.0</td>\n",
       "      <td>0.0</td>\n",
       "      <td>6.0</td>\n",
       "      <td>0.0</td>\n",
       "      <td>2.0</td>\n",
       "      <td>0.0</td>\n",
       "      <td>2.0</td>\n",
       "      <td>0.0</td>\n",
       "      <td>0.0</td>\n",
       "      <td>...</td>\n",
       "      <td>0.0</td>\n",
       "      <td>0.0</td>\n",
       "      <td>0.0</td>\n",
       "      <td>0.0</td>\n",
       "      <td>0.0</td>\n",
       "      <td>0.0</td>\n",
       "      <td>0.0</td>\n",
       "      <td>0.0</td>\n",
       "      <td>0.0</td>\n",
       "      <td>0.0</td>\n",
       "    </tr>\n",
       "    <tr>\n",
       "      <th>5856603</th>\n",
       "      <td>5.0</td>\n",
       "      <td>1.0</td>\n",
       "      <td>0.0</td>\n",
       "      <td>0.0</td>\n",
       "      <td>0.0</td>\n",
       "      <td>2.0</td>\n",
       "      <td>0.0</td>\n",
       "      <td>4.0</td>\n",
       "      <td>0.0</td>\n",
       "      <td>0.0</td>\n",
       "      <td>...</td>\n",
       "      <td>0.0</td>\n",
       "      <td>0.0</td>\n",
       "      <td>0.0</td>\n",
       "      <td>0.0</td>\n",
       "      <td>0.0</td>\n",
       "      <td>0.0</td>\n",
       "      <td>0.0</td>\n",
       "      <td>0.0</td>\n",
       "      <td>0.0</td>\n",
       "      <td>0.0</td>\n",
       "    </tr>\n",
       "    <tr>\n",
       "      <th>5887954</th>\n",
       "      <td>7.0</td>\n",
       "      <td>7.0</td>\n",
       "      <td>0.0</td>\n",
       "      <td>0.0</td>\n",
       "      <td>0.0</td>\n",
       "      <td>2.0</td>\n",
       "      <td>0.0</td>\n",
       "      <td>8.0</td>\n",
       "      <td>0.0</td>\n",
       "      <td>3.0</td>\n",
       "      <td>...</td>\n",
       "      <td>0.0</td>\n",
       "      <td>0.0</td>\n",
       "      <td>0.0</td>\n",
       "      <td>0.0</td>\n",
       "      <td>0.0</td>\n",
       "      <td>0.0</td>\n",
       "      <td>0.0</td>\n",
       "      <td>0.0</td>\n",
       "      <td>0.0</td>\n",
       "      <td>0.0</td>\n",
       "    </tr>\n",
       "    <tr>\n",
       "      <th>4629455</th>\n",
       "      <td>19.0</td>\n",
       "      <td>0.0</td>\n",
       "      <td>0.0</td>\n",
       "      <td>0.0</td>\n",
       "      <td>0.0</td>\n",
       "      <td>0.0</td>\n",
       "      <td>0.0</td>\n",
       "      <td>0.0</td>\n",
       "      <td>0.0</td>\n",
       "      <td>0.0</td>\n",
       "      <td>...</td>\n",
       "      <td>0.0</td>\n",
       "      <td>2.0</td>\n",
       "      <td>0.0</td>\n",
       "      <td>0.0</td>\n",
       "      <td>0.0</td>\n",
       "      <td>0.0</td>\n",
       "      <td>0.0</td>\n",
       "      <td>0.0</td>\n",
       "      <td>0.0</td>\n",
       "      <td>0.0</td>\n",
       "    </tr>\n",
       "    <tr>\n",
       "      <th>4716267</th>\n",
       "      <td>1.0</td>\n",
       "      <td>1.0</td>\n",
       "      <td>2.0</td>\n",
       "      <td>0.0</td>\n",
       "      <td>0.0</td>\n",
       "      <td>0.0</td>\n",
       "      <td>0.0</td>\n",
       "      <td>6.0</td>\n",
       "      <td>0.0</td>\n",
       "      <td>0.0</td>\n",
       "      <td>...</td>\n",
       "      <td>0.0</td>\n",
       "      <td>0.0</td>\n",
       "      <td>0.0</td>\n",
       "      <td>0.0</td>\n",
       "      <td>0.0</td>\n",
       "      <td>0.0</td>\n",
       "      <td>0.0</td>\n",
       "      <td>0.0</td>\n",
       "      <td>0.0</td>\n",
       "      <td>0.0</td>\n",
       "    </tr>\n",
       "    <tr>\n",
       "      <th>4160027</th>\n",
       "      <td>24.0</td>\n",
       "      <td>2.0</td>\n",
       "      <td>0.0</td>\n",
       "      <td>0.0</td>\n",
       "      <td>0.0</td>\n",
       "      <td>3.0</td>\n",
       "      <td>1.0</td>\n",
       "      <td>3.0</td>\n",
       "      <td>0.0</td>\n",
       "      <td>0.0</td>\n",
       "      <td>...</td>\n",
       "      <td>0.0</td>\n",
       "      <td>0.0</td>\n",
       "      <td>0.0</td>\n",
       "      <td>0.0</td>\n",
       "      <td>0.0</td>\n",
       "      <td>0.0</td>\n",
       "      <td>0.0</td>\n",
       "      <td>0.0</td>\n",
       "      <td>0.0</td>\n",
       "      <td>0.0</td>\n",
       "    </tr>\n",
       "  </tbody>\n",
       "</table>\n",
       "<p>15 rows × 37 columns</p>\n",
       "</div>"
      ],
      "text/plain": [
       "         스포츠패션  남성의류  유아동의류  청소/세탁/욕실용품   완구  패션잡화  시즌스포츠  여성의류  인테리어/조명  \\\n",
       "4140076   23.0  52.0   17.0         5.0  5.0  24.0    8.0   8.0      7.0   \n",
       "4148106    3.0   3.0    0.0         0.0  0.0   9.0    7.0   0.0      0.0   \n",
       "5298612    1.0   4.0    2.0         0.0  0.0   0.0    0.0   0.0      0.0   \n",
       "5553084    7.0  13.0   21.0         0.0  3.0  10.0   11.0  19.0      0.0   \n",
       "5639922   11.0  16.0    9.0         0.0  0.0  17.0    4.0  55.0      0.0   \n",
       "5650295    2.0   0.0    0.0         0.0  0.0   1.0    1.0   0.0      0.0   \n",
       "5851368    8.0   0.0    0.0         0.0  0.0   0.0    0.0   0.0      0.0   \n",
       "4128075   10.0   0.0    0.0         0.0  0.0   1.0    8.0   8.0      0.0   \n",
       "4207528    3.0   2.0    1.0         2.0  0.0   7.0    0.0   5.0      2.0   \n",
       "4219875    5.0   0.0    0.0         6.0  0.0   2.0    0.0   2.0      0.0   \n",
       "5856603    5.0   1.0    0.0         0.0  0.0   2.0    0.0   4.0      0.0   \n",
       "5887954    7.0   7.0    0.0         0.0  0.0   2.0    0.0   8.0      0.0   \n",
       "4629455   19.0   0.0    0.0         0.0  0.0   0.0    0.0   0.0      0.0   \n",
       "4716267    1.0   1.0    2.0         0.0  0.0   0.0    0.0   6.0      0.0   \n",
       "4160027   24.0   2.0    0.0         0.0  0.0   3.0    1.0   3.0      0.0   \n",
       "\n",
       "         속옷/양말/홈웨어   ...      음료  구기/필드스포츠  냉장/세탁가전  냉동식품  냉장식품  원예/애완  상품권  \\\n",
       "4140076        4.0   ...     0.0       0.0      0.0   0.0   0.0    0.0  0.0   \n",
       "4148106        0.0   ...     0.0       0.0      0.0   0.0   0.0    0.0  0.0   \n",
       "5298612        0.0   ...     0.0       0.0      0.0   0.0   0.0    0.0  0.0   \n",
       "5553084        6.0   ...     0.0       3.0      0.0   0.0   0.0    0.0  0.0   \n",
       "5639922       12.0   ...     0.0       0.0      0.0   0.0   0.0   16.0  0.0   \n",
       "5650295        0.0   ...     0.0       0.0      0.0   0.0   0.0    0.0  0.0   \n",
       "5851368        0.0   ...     0.0       0.0      0.0   0.0   0.0    0.0  0.0   \n",
       "4128075        0.0   ...     0.0       0.0      0.0   0.0   0.0    0.0  0.0   \n",
       "4207528        9.0   ...     0.0       0.0      0.0   0.0   0.0    0.0  0.0   \n",
       "4219875        0.0   ...     0.0       0.0      0.0   0.0   0.0    0.0  0.0   \n",
       "5856603        0.0   ...     0.0       0.0      0.0   0.0   0.0    0.0  0.0   \n",
       "5887954        3.0   ...     0.0       0.0      0.0   0.0   0.0    0.0  0.0   \n",
       "4629455        0.0   ...     0.0       2.0      0.0   0.0   0.0    0.0  0.0   \n",
       "4716267        0.0   ...     0.0       0.0      0.0   0.0   0.0    0.0  0.0   \n",
       "4160027        0.0   ...     0.0       0.0      0.0   0.0   0.0    0.0  0.0   \n",
       "\n",
       "         자동차용품  축산물  영상/음향가전  \n",
       "4140076    0.0  0.0      0.0  \n",
       "4148106    0.0  0.0      0.0  \n",
       "5298612    0.0  0.0      0.0  \n",
       "5553084    0.0  0.0      0.0  \n",
       "5639922    0.0  0.0      0.0  \n",
       "5650295    0.0  0.0      0.0  \n",
       "5851368    0.0  0.0      0.0  \n",
       "4128075    0.0  0.0      0.0  \n",
       "4207528    0.0  0.0      0.0  \n",
       "4219875    0.0  0.0      0.0  \n",
       "5856603    0.0  0.0      0.0  \n",
       "5887954    0.0  0.0      0.0  \n",
       "4629455    0.0  0.0      0.0  \n",
       "4716267    0.0  0.0      0.0  \n",
       "4160027    0.0  0.0      0.0  \n",
       "\n",
       "[15 rows x 37 columns]"
      ]
     },
     "execution_count": 37,
     "metadata": {},
     "output_type": "execute_result"
    }
   ],
   "source": [
    "#일부 row만 출력\n",
    "temp[0:15] #0번째 row부터 14번째 row까지 출력됨 "
   ]
  },
  {
   "cell_type": "code",
   "execution_count": 38,
   "metadata": {},
   "outputs": [
    {
     "name": "stdout",
     "output_type": "stream",
     "text": [
      "         스포츠패션  남성의류  유아동의류  청소/세탁/욕실용품   완구  패션잡화  시즌스포츠  여성의류  인테리어/조명  \\\n",
      "4140076   23.0  52.0   17.0         5.0  5.0  24.0    8.0   8.0      7.0   \n",
      "4148106    3.0   3.0    0.0         0.0  0.0   9.0    7.0   0.0      0.0   \n",
      "5298612    1.0   4.0    2.0         0.0  0.0   0.0    0.0   0.0      0.0   \n",
      "5553084    7.0  13.0   21.0         0.0  3.0  10.0   11.0  19.0      0.0   \n",
      "5639922   11.0  16.0    9.0         0.0  0.0  17.0    4.0  55.0      0.0   \n",
      "\n",
      "         속옷/양말/홈웨어   ...      음료  구기/필드스포츠  냉장/세탁가전  냉동식품  냉장식품  원예/애완  상품권  \\\n",
      "4140076        4.0   ...     0.0       0.0      0.0   0.0   0.0    0.0  0.0   \n",
      "4148106        0.0   ...     0.0       0.0      0.0   0.0   0.0    0.0  0.0   \n",
      "5298612        0.0   ...     0.0       0.0      0.0   0.0   0.0    0.0  0.0   \n",
      "5553084        6.0   ...     0.0       3.0      0.0   0.0   0.0    0.0  0.0   \n",
      "5639922       12.0   ...     0.0       0.0      0.0   0.0   0.0   16.0  0.0   \n",
      "\n",
      "         자동차용품  축산물  영상/음향가전  \n",
      "4140076    0.0  0.0      0.0  \n",
      "4148106    0.0  0.0      0.0  \n",
      "5298612    0.0  0.0      0.0  \n",
      "5553084    0.0  0.0      0.0  \n",
      "5639922    0.0  0.0      0.0  \n",
      "\n",
      "[5 rows x 37 columns]\n",
      "(6450, 37)\n"
     ]
    }
   ],
   "source": [
    "#이제 이 Purchase_Count를 이용할 것임\n",
    "Purchase_Count = temp\n",
    "print(Purchase_Count.head())\n",
    "print(Purchase_Count.shape)"
   ]
  },
  {
   "cell_type": "code",
   "execution_count": 39,
   "metadata": {},
   "outputs": [
    {
     "name": "stdout",
     "output_type": "stream",
     "text": [
      "[[23. 52. 17. ...  0.  0.  0.]\n",
      " [ 3.  3.  0. ...  0.  0.  0.]\n",
      " [ 1.  4.  2. ...  0.  0.  0.]\n",
      " ...\n",
      " [ 0.  0.  0. ...  0.  0.  0.]\n",
      " [ 0.  0.  0. ...  0.  0.  0.]\n",
      " [ 0.  0.  0. ...  0.  0.  0.]]\n",
      "(6450, 37)\n"
     ]
    }
   ],
   "source": [
    "#안에 있는 element값만 가져온 것\n",
    "print(PC)\n",
    "print(PC.shape)"
   ]
  },
  {
   "cell_type": "code",
   "execution_count": 40,
   "metadata": {},
   "outputs": [
    {
     "name": "stdout",
     "output_type": "stream",
     "text": [
      "Sparsity: {:4.2f}% 14.197779174523362\n"
     ]
    }
   ],
   "source": [
    "sparsity = float(len(PC.nonzero()[0]))\n",
    "sparsity /= (PC.shape[0] * PC.shape[1])\n",
    "sparsity *= 100\n",
    "print('Sparsity: {:4.2f}%',format(sparsity))"
   ]
  },
  {
   "cell_type": "code",
   "execution_count": 41,
   "metadata": {},
   "outputs": [],
   "source": [
    "from sklearn.model_selection import train_test_split"
   ]
  },
  {
   "cell_type": "code",
   "execution_count": 42,
   "metadata": {},
   "outputs": [],
   "source": [
    "#test set과 training set으로 나누기\n",
    "PC_train, PC_test = train_test_split(Purchase_Count, test_size = 0.33, random_state = 50)"
   ]
  },
  {
   "cell_type": "code",
   "execution_count": 43,
   "metadata": {},
   "outputs": [
    {
     "name": "stdout",
     "output_type": "stream",
     "text": [
      "(4321, 37)\n",
      "(2129, 37)\n"
     ]
    }
   ],
   "source": [
    "#print(PC_train)\n",
    "print(PC_train.shape)\n",
    "#print(PC_test)\n",
    "print(PC_test.shape)"
   ]
  },
  {
   "cell_type": "code",
   "execution_count": 44,
   "metadata": {},
   "outputs": [
    {
     "data": {
      "text/html": [
       "<div>\n",
       "<style scoped>\n",
       "    .dataframe tbody tr th:only-of-type {\n",
       "        vertical-align: middle;\n",
       "    }\n",
       "\n",
       "    .dataframe tbody tr th {\n",
       "        vertical-align: top;\n",
       "    }\n",
       "\n",
       "    .dataframe thead th {\n",
       "        text-align: right;\n",
       "    }\n",
       "</style>\n",
       "<table border=\"1\" class=\"dataframe\">\n",
       "  <thead>\n",
       "    <tr style=\"text-align: right;\">\n",
       "      <th></th>\n",
       "      <th>스포츠패션</th>\n",
       "      <th>남성의류</th>\n",
       "      <th>유아동의류</th>\n",
       "      <th>청소/세탁/욕실용품</th>\n",
       "      <th>완구</th>\n",
       "      <th>패션잡화</th>\n",
       "      <th>시즌스포츠</th>\n",
       "      <th>여성의류</th>\n",
       "      <th>인테리어/조명</th>\n",
       "      <th>속옷/양말/홈웨어</th>\n",
       "      <th>...</th>\n",
       "      <th>음료</th>\n",
       "      <th>구기/필드스포츠</th>\n",
       "      <th>냉장/세탁가전</th>\n",
       "      <th>냉동식품</th>\n",
       "      <th>냉장식품</th>\n",
       "      <th>원예/애완</th>\n",
       "      <th>상품권</th>\n",
       "      <th>자동차용품</th>\n",
       "      <th>축산물</th>\n",
       "      <th>영상/음향가전</th>\n",
       "    </tr>\n",
       "  </thead>\n",
       "  <tbody>\n",
       "    <tr>\n",
       "      <th>5174505</th>\n",
       "      <td>1.0</td>\n",
       "      <td>0.0</td>\n",
       "      <td>0.0</td>\n",
       "      <td>0.0</td>\n",
       "      <td>0.0</td>\n",
       "      <td>0.0</td>\n",
       "      <td>0.0</td>\n",
       "      <td>1.0</td>\n",
       "      <td>0.0</td>\n",
       "      <td>0.0</td>\n",
       "      <td>...</td>\n",
       "      <td>0.0</td>\n",
       "      <td>0.0</td>\n",
       "      <td>0.0</td>\n",
       "      <td>0.0</td>\n",
       "      <td>0.0</td>\n",
       "      <td>0.0</td>\n",
       "      <td>0.0</td>\n",
       "      <td>0.0</td>\n",
       "      <td>0.0</td>\n",
       "      <td>0.0</td>\n",
       "    </tr>\n",
       "    <tr>\n",
       "      <th>502099</th>\n",
       "      <td>0.0</td>\n",
       "      <td>0.0</td>\n",
       "      <td>0.0</td>\n",
       "      <td>0.0</td>\n",
       "      <td>0.0</td>\n",
       "      <td>1.0</td>\n",
       "      <td>0.0</td>\n",
       "      <td>0.0</td>\n",
       "      <td>0.0</td>\n",
       "      <td>0.0</td>\n",
       "      <td>...</td>\n",
       "      <td>0.0</td>\n",
       "      <td>0.0</td>\n",
       "      <td>0.0</td>\n",
       "      <td>0.0</td>\n",
       "      <td>0.0</td>\n",
       "      <td>0.0</td>\n",
       "      <td>0.0</td>\n",
       "      <td>0.0</td>\n",
       "      <td>0.0</td>\n",
       "      <td>0.0</td>\n",
       "    </tr>\n",
       "    <tr>\n",
       "      <th>6139346</th>\n",
       "      <td>0.0</td>\n",
       "      <td>0.0</td>\n",
       "      <td>0.0</td>\n",
       "      <td>0.0</td>\n",
       "      <td>0.0</td>\n",
       "      <td>1.0</td>\n",
       "      <td>0.0</td>\n",
       "      <td>0.0</td>\n",
       "      <td>0.0</td>\n",
       "      <td>0.0</td>\n",
       "      <td>...</td>\n",
       "      <td>0.0</td>\n",
       "      <td>0.0</td>\n",
       "      <td>0.0</td>\n",
       "      <td>0.0</td>\n",
       "      <td>0.0</td>\n",
       "      <td>0.0</td>\n",
       "      <td>0.0</td>\n",
       "      <td>0.0</td>\n",
       "      <td>0.0</td>\n",
       "      <td>0.0</td>\n",
       "    </tr>\n",
       "    <tr>\n",
       "      <th>853755</th>\n",
       "      <td>1.0</td>\n",
       "      <td>0.0</td>\n",
       "      <td>0.0</td>\n",
       "      <td>0.0</td>\n",
       "      <td>0.0</td>\n",
       "      <td>0.0</td>\n",
       "      <td>15.0</td>\n",
       "      <td>0.0</td>\n",
       "      <td>0.0</td>\n",
       "      <td>0.0</td>\n",
       "      <td>...</td>\n",
       "      <td>0.0</td>\n",
       "      <td>0.0</td>\n",
       "      <td>0.0</td>\n",
       "      <td>0.0</td>\n",
       "      <td>0.0</td>\n",
       "      <td>0.0</td>\n",
       "      <td>0.0</td>\n",
       "      <td>0.0</td>\n",
       "      <td>0.0</td>\n",
       "      <td>0.0</td>\n",
       "    </tr>\n",
       "    <tr>\n",
       "      <th>1304095</th>\n",
       "      <td>2.0</td>\n",
       "      <td>0.0</td>\n",
       "      <td>0.0</td>\n",
       "      <td>0.0</td>\n",
       "      <td>0.0</td>\n",
       "      <td>0.0</td>\n",
       "      <td>0.0</td>\n",
       "      <td>0.0</td>\n",
       "      <td>0.0</td>\n",
       "      <td>0.0</td>\n",
       "      <td>...</td>\n",
       "      <td>0.0</td>\n",
       "      <td>0.0</td>\n",
       "      <td>0.0</td>\n",
       "      <td>0.0</td>\n",
       "      <td>0.0</td>\n",
       "      <td>0.0</td>\n",
       "      <td>0.0</td>\n",
       "      <td>0.0</td>\n",
       "      <td>0.0</td>\n",
       "      <td>0.0</td>\n",
       "    </tr>\n",
       "  </tbody>\n",
       "</table>\n",
       "<p>5 rows × 37 columns</p>\n",
       "</div>"
      ],
      "text/plain": [
       "         스포츠패션  남성의류  유아동의류  청소/세탁/욕실용품   완구  패션잡화  시즌스포츠  여성의류  인테리어/조명  \\\n",
       "5174505    1.0   0.0    0.0         0.0  0.0   0.0    0.0   1.0      0.0   \n",
       "502099     0.0   0.0    0.0         0.0  0.0   1.0    0.0   0.0      0.0   \n",
       "6139346    0.0   0.0    0.0         0.0  0.0   1.0    0.0   0.0      0.0   \n",
       "853755     1.0   0.0    0.0         0.0  0.0   0.0   15.0   0.0      0.0   \n",
       "1304095    2.0   0.0    0.0         0.0  0.0   0.0    0.0   0.0      0.0   \n",
       "\n",
       "         속옷/양말/홈웨어   ...      음료  구기/필드스포츠  냉장/세탁가전  냉동식품  냉장식품  원예/애완  상품권  \\\n",
       "5174505        0.0   ...     0.0       0.0      0.0   0.0   0.0    0.0  0.0   \n",
       "502099         0.0   ...     0.0       0.0      0.0   0.0   0.0    0.0  0.0   \n",
       "6139346        0.0   ...     0.0       0.0      0.0   0.0   0.0    0.0  0.0   \n",
       "853755         0.0   ...     0.0       0.0      0.0   0.0   0.0    0.0  0.0   \n",
       "1304095        0.0   ...     0.0       0.0      0.0   0.0   0.0    0.0  0.0   \n",
       "\n",
       "         자동차용품  축산물  영상/음향가전  \n",
       "5174505    0.0  0.0      0.0  \n",
       "502099     0.0  0.0      0.0  \n",
       "6139346    0.0  0.0      0.0  \n",
       "853755     0.0  0.0      0.0  \n",
       "1304095    0.0  0.0      0.0  \n",
       "\n",
       "[5 rows x 37 columns]"
      ]
     },
     "execution_count": 44,
     "metadata": {},
     "output_type": "execute_result"
    }
   ],
   "source": [
    "PC_train = pd.DataFrame(PC_train)\n",
    "PC_train.head()"
   ]
  },
  {
   "cell_type": "code",
   "execution_count": 45,
   "metadata": {},
   "outputs": [
    {
     "data": {
      "text/html": [
       "<div>\n",
       "<style scoped>\n",
       "    .dataframe tbody tr th:only-of-type {\n",
       "        vertical-align: middle;\n",
       "    }\n",
       "\n",
       "    .dataframe tbody tr th {\n",
       "        vertical-align: top;\n",
       "    }\n",
       "\n",
       "    .dataframe thead th {\n",
       "        text-align: right;\n",
       "    }\n",
       "</style>\n",
       "<table border=\"1\" class=\"dataframe\">\n",
       "  <thead>\n",
       "    <tr style=\"text-align: right;\">\n",
       "      <th></th>\n",
       "      <th>스포츠패션</th>\n",
       "      <th>남성의류</th>\n",
       "      <th>유아동의류</th>\n",
       "      <th>청소/세탁/욕실용품</th>\n",
       "      <th>완구</th>\n",
       "      <th>패션잡화</th>\n",
       "      <th>시즌스포츠</th>\n",
       "      <th>여성의류</th>\n",
       "      <th>인테리어/조명</th>\n",
       "      <th>속옷/양말/홈웨어</th>\n",
       "      <th>...</th>\n",
       "      <th>음료</th>\n",
       "      <th>구기/필드스포츠</th>\n",
       "      <th>냉장/세탁가전</th>\n",
       "      <th>냉동식품</th>\n",
       "      <th>냉장식품</th>\n",
       "      <th>원예/애완</th>\n",
       "      <th>상품권</th>\n",
       "      <th>자동차용품</th>\n",
       "      <th>축산물</th>\n",
       "      <th>영상/음향가전</th>\n",
       "    </tr>\n",
       "  </thead>\n",
       "  <tbody>\n",
       "    <tr>\n",
       "      <th>5174505</th>\n",
       "      <td>1.0</td>\n",
       "      <td>0.0</td>\n",
       "      <td>0.0</td>\n",
       "      <td>0.0</td>\n",
       "      <td>0.0</td>\n",
       "      <td>0.0</td>\n",
       "      <td>0.0</td>\n",
       "      <td>1.0</td>\n",
       "      <td>0.0</td>\n",
       "      <td>0.0</td>\n",
       "      <td>...</td>\n",
       "      <td>0.0</td>\n",
       "      <td>0.0</td>\n",
       "      <td>0.0</td>\n",
       "      <td>0.0</td>\n",
       "      <td>0.0</td>\n",
       "      <td>0.0</td>\n",
       "      <td>0.0</td>\n",
       "      <td>0.0</td>\n",
       "      <td>0.0</td>\n",
       "      <td>0.0</td>\n",
       "    </tr>\n",
       "    <tr>\n",
       "      <th>502099</th>\n",
       "      <td>0.0</td>\n",
       "      <td>0.0</td>\n",
       "      <td>0.0</td>\n",
       "      <td>0.0</td>\n",
       "      <td>0.0</td>\n",
       "      <td>1.0</td>\n",
       "      <td>0.0</td>\n",
       "      <td>0.0</td>\n",
       "      <td>0.0</td>\n",
       "      <td>0.0</td>\n",
       "      <td>...</td>\n",
       "      <td>0.0</td>\n",
       "      <td>0.0</td>\n",
       "      <td>0.0</td>\n",
       "      <td>0.0</td>\n",
       "      <td>0.0</td>\n",
       "      <td>0.0</td>\n",
       "      <td>0.0</td>\n",
       "      <td>0.0</td>\n",
       "      <td>0.0</td>\n",
       "      <td>0.0</td>\n",
       "    </tr>\n",
       "    <tr>\n",
       "      <th>6139346</th>\n",
       "      <td>0.0</td>\n",
       "      <td>0.0</td>\n",
       "      <td>0.0</td>\n",
       "      <td>0.0</td>\n",
       "      <td>0.0</td>\n",
       "      <td>1.0</td>\n",
       "      <td>0.0</td>\n",
       "      <td>0.0</td>\n",
       "      <td>0.0</td>\n",
       "      <td>0.0</td>\n",
       "      <td>...</td>\n",
       "      <td>0.0</td>\n",
       "      <td>0.0</td>\n",
       "      <td>0.0</td>\n",
       "      <td>0.0</td>\n",
       "      <td>0.0</td>\n",
       "      <td>0.0</td>\n",
       "      <td>0.0</td>\n",
       "      <td>0.0</td>\n",
       "      <td>0.0</td>\n",
       "      <td>0.0</td>\n",
       "    </tr>\n",
       "    <tr>\n",
       "      <th>853755</th>\n",
       "      <td>1.0</td>\n",
       "      <td>0.0</td>\n",
       "      <td>0.0</td>\n",
       "      <td>0.0</td>\n",
       "      <td>0.0</td>\n",
       "      <td>0.0</td>\n",
       "      <td>15.0</td>\n",
       "      <td>0.0</td>\n",
       "      <td>0.0</td>\n",
       "      <td>0.0</td>\n",
       "      <td>...</td>\n",
       "      <td>0.0</td>\n",
       "      <td>0.0</td>\n",
       "      <td>0.0</td>\n",
       "      <td>0.0</td>\n",
       "      <td>0.0</td>\n",
       "      <td>0.0</td>\n",
       "      <td>0.0</td>\n",
       "      <td>0.0</td>\n",
       "      <td>0.0</td>\n",
       "      <td>0.0</td>\n",
       "    </tr>\n",
       "    <tr>\n",
       "      <th>1304095</th>\n",
       "      <td>2.0</td>\n",
       "      <td>0.0</td>\n",
       "      <td>0.0</td>\n",
       "      <td>0.0</td>\n",
       "      <td>0.0</td>\n",
       "      <td>0.0</td>\n",
       "      <td>0.0</td>\n",
       "      <td>0.0</td>\n",
       "      <td>0.0</td>\n",
       "      <td>0.0</td>\n",
       "      <td>...</td>\n",
       "      <td>0.0</td>\n",
       "      <td>0.0</td>\n",
       "      <td>0.0</td>\n",
       "      <td>0.0</td>\n",
       "      <td>0.0</td>\n",
       "      <td>0.0</td>\n",
       "      <td>0.0</td>\n",
       "      <td>0.0</td>\n",
       "      <td>0.0</td>\n",
       "      <td>0.0</td>\n",
       "    </tr>\n",
       "  </tbody>\n",
       "</table>\n",
       "<p>5 rows × 37 columns</p>\n",
       "</div>"
      ],
      "text/plain": [
       "         스포츠패션  남성의류  유아동의류  청소/세탁/욕실용품   완구  패션잡화  시즌스포츠  여성의류  인테리어/조명  \\\n",
       "5174505    1.0   0.0    0.0         0.0  0.0   0.0    0.0   1.0      0.0   \n",
       "502099     0.0   0.0    0.0         0.0  0.0   1.0    0.0   0.0      0.0   \n",
       "6139346    0.0   0.0    0.0         0.0  0.0   1.0    0.0   0.0      0.0   \n",
       "853755     1.0   0.0    0.0         0.0  0.0   0.0   15.0   0.0      0.0   \n",
       "1304095    2.0   0.0    0.0         0.0  0.0   0.0    0.0   0.0      0.0   \n",
       "\n",
       "         속옷/양말/홈웨어   ...      음료  구기/필드스포츠  냉장/세탁가전  냉동식품  냉장식품  원예/애완  상품권  \\\n",
       "5174505        0.0   ...     0.0       0.0      0.0   0.0   0.0    0.0  0.0   \n",
       "502099         0.0   ...     0.0       0.0      0.0   0.0   0.0    0.0  0.0   \n",
       "6139346        0.0   ...     0.0       0.0      0.0   0.0   0.0    0.0  0.0   \n",
       "853755         0.0   ...     0.0       0.0      0.0   0.0   0.0    0.0  0.0   \n",
       "1304095        0.0   ...     0.0       0.0      0.0   0.0   0.0    0.0  0.0   \n",
       "\n",
       "         자동차용품  축산물  영상/음향가전  \n",
       "5174505    0.0  0.0      0.0  \n",
       "502099     0.0  0.0      0.0  \n",
       "6139346    0.0  0.0      0.0  \n",
       "853755     0.0  0.0      0.0  \n",
       "1304095    0.0  0.0      0.0  \n",
       "\n",
       "[5 rows x 37 columns]"
      ]
     },
     "execution_count": 45,
     "metadata": {},
     "output_type": "execute_result"
    }
   ],
   "source": [
    "PC_test = pd.DataFrame(PC_test)\n",
    "PC_train.head()"
   ]
  },
  {
   "cell_type": "markdown",
   "metadata": {},
   "source": [
    "### Cosine Distance를 이용한 선호점수 계산"
   ]
  },
  {
   "cell_type": "code",
   "execution_count": 36,
   "metadata": {},
   "outputs": [
    {
     "data": {
      "text/html": [
       "<div>\n",
       "<style scoped>\n",
       "    .dataframe tbody tr th:only-of-type {\n",
       "        vertical-align: middle;\n",
       "    }\n",
       "\n",
       "    .dataframe tbody tr th {\n",
       "        vertical-align: top;\n",
       "    }\n",
       "\n",
       "    .dataframe thead th {\n",
       "        text-align: right;\n",
       "    }\n",
       "</style>\n",
       "<table border=\"1\" class=\"dataframe\">\n",
       "  <thead>\n",
       "    <tr style=\"text-align: right;\">\n",
       "      <th></th>\n",
       "      <th>스포츠패션</th>\n",
       "      <th>남성의류</th>\n",
       "      <th>유아동의류</th>\n",
       "      <th>청소/세탁/욕실용품</th>\n",
       "      <th>완구</th>\n",
       "      <th>패션잡화</th>\n",
       "      <th>시즌스포츠</th>\n",
       "      <th>여성의류</th>\n",
       "      <th>인테리어/조명</th>\n",
       "      <th>속옷/양말/홈웨어</th>\n",
       "      <th>...</th>\n",
       "      <th>음료</th>\n",
       "      <th>구기/필드스포츠</th>\n",
       "      <th>냉장/세탁가전</th>\n",
       "      <th>냉동식품</th>\n",
       "      <th>냉장식품</th>\n",
       "      <th>원예/애완</th>\n",
       "      <th>상품권</th>\n",
       "      <th>자동차용품</th>\n",
       "      <th>축산물</th>\n",
       "      <th>영상/음향가전</th>\n",
       "    </tr>\n",
       "  </thead>\n",
       "  <tbody>\n",
       "    <tr>\n",
       "      <th>598339</th>\n",
       "      <td>8.0</td>\n",
       "      <td>0.0</td>\n",
       "      <td>0.0</td>\n",
       "      <td>0.0</td>\n",
       "      <td>0.0</td>\n",
       "      <td>0.0</td>\n",
       "      <td>0.0</td>\n",
       "      <td>2.0</td>\n",
       "      <td>0.0</td>\n",
       "      <td>0.0</td>\n",
       "      <td>...</td>\n",
       "      <td>0.0</td>\n",
       "      <td>3.0</td>\n",
       "      <td>0.0</td>\n",
       "      <td>0.0</td>\n",
       "      <td>0.0</td>\n",
       "      <td>0.0</td>\n",
       "      <td>0.0</td>\n",
       "      <td>0.0</td>\n",
       "      <td>0.0</td>\n",
       "      <td>0.0</td>\n",
       "    </tr>\n",
       "    <tr>\n",
       "      <th>1000521</th>\n",
       "      <td>0.0</td>\n",
       "      <td>0.0</td>\n",
       "      <td>0.0</td>\n",
       "      <td>0.0</td>\n",
       "      <td>0.0</td>\n",
       "      <td>0.0</td>\n",
       "      <td>0.0</td>\n",
       "      <td>1.0</td>\n",
       "      <td>0.0</td>\n",
       "      <td>0.0</td>\n",
       "      <td>...</td>\n",
       "      <td>0.0</td>\n",
       "      <td>0.0</td>\n",
       "      <td>0.0</td>\n",
       "      <td>0.0</td>\n",
       "      <td>0.0</td>\n",
       "      <td>0.0</td>\n",
       "      <td>0.0</td>\n",
       "      <td>0.0</td>\n",
       "      <td>0.0</td>\n",
       "      <td>0.0</td>\n",
       "    </tr>\n",
       "    <tr>\n",
       "      <th>1386382</th>\n",
       "      <td>4.0</td>\n",
       "      <td>1.0</td>\n",
       "      <td>5.0</td>\n",
       "      <td>0.0</td>\n",
       "      <td>0.0</td>\n",
       "      <td>1.0</td>\n",
       "      <td>7.0</td>\n",
       "      <td>1.0</td>\n",
       "      <td>0.0</td>\n",
       "      <td>1.0</td>\n",
       "      <td>...</td>\n",
       "      <td>0.0</td>\n",
       "      <td>0.0</td>\n",
       "      <td>0.0</td>\n",
       "      <td>0.0</td>\n",
       "      <td>0.0</td>\n",
       "      <td>0.0</td>\n",
       "      <td>0.0</td>\n",
       "      <td>0.0</td>\n",
       "      <td>0.0</td>\n",
       "      <td>0.0</td>\n",
       "    </tr>\n",
       "    <tr>\n",
       "      <th>5853909</th>\n",
       "      <td>0.0</td>\n",
       "      <td>0.0</td>\n",
       "      <td>0.0</td>\n",
       "      <td>0.0</td>\n",
       "      <td>1.0</td>\n",
       "      <td>0.0</td>\n",
       "      <td>0.0</td>\n",
       "      <td>0.0</td>\n",
       "      <td>0.0</td>\n",
       "      <td>0.0</td>\n",
       "      <td>...</td>\n",
       "      <td>0.0</td>\n",
       "      <td>0.0</td>\n",
       "      <td>0.0</td>\n",
       "      <td>0.0</td>\n",
       "      <td>0.0</td>\n",
       "      <td>0.0</td>\n",
       "      <td>0.0</td>\n",
       "      <td>0.0</td>\n",
       "      <td>0.0</td>\n",
       "      <td>0.0</td>\n",
       "    </tr>\n",
       "    <tr>\n",
       "      <th>5256290</th>\n",
       "      <td>0.0</td>\n",
       "      <td>0.0</td>\n",
       "      <td>0.0</td>\n",
       "      <td>0.0</td>\n",
       "      <td>0.0</td>\n",
       "      <td>1.0</td>\n",
       "      <td>0.0</td>\n",
       "      <td>0.0</td>\n",
       "      <td>0.0</td>\n",
       "      <td>0.0</td>\n",
       "      <td>...</td>\n",
       "      <td>0.0</td>\n",
       "      <td>0.0</td>\n",
       "      <td>0.0</td>\n",
       "      <td>0.0</td>\n",
       "      <td>0.0</td>\n",
       "      <td>0.0</td>\n",
       "      <td>0.0</td>\n",
       "      <td>0.0</td>\n",
       "      <td>0.0</td>\n",
       "      <td>0.0</td>\n",
       "    </tr>\n",
       "  </tbody>\n",
       "</table>\n",
       "<p>5 rows × 37 columns</p>\n",
       "</div>"
      ],
      "text/plain": [
       "         스포츠패션  남성의류  유아동의류  청소/세탁/욕실용품   완구  패션잡화  시즌스포츠  여성의류  인테리어/조명  \\\n",
       "598339     8.0   0.0    0.0         0.0  0.0   0.0    0.0   2.0      0.0   \n",
       "1000521    0.0   0.0    0.0         0.0  0.0   0.0    0.0   1.0      0.0   \n",
       "1386382    4.0   1.0    5.0         0.0  0.0   1.0    7.0   1.0      0.0   \n",
       "5853909    0.0   0.0    0.0         0.0  1.0   0.0    0.0   0.0      0.0   \n",
       "5256290    0.0   0.0    0.0         0.0  0.0   1.0    0.0   0.0      0.0   \n",
       "\n",
       "         속옷/양말/홈웨어   ...      음료  구기/필드스포츠  냉장/세탁가전  냉동식품  냉장식품  원예/애완  상품권  \\\n",
       "598339         0.0   ...     0.0       3.0      0.0   0.0   0.0    0.0  0.0   \n",
       "1000521        0.0   ...     0.0       0.0      0.0   0.0   0.0    0.0  0.0   \n",
       "1386382        1.0   ...     0.0       0.0      0.0   0.0   0.0    0.0  0.0   \n",
       "5853909        0.0   ...     0.0       0.0      0.0   0.0   0.0    0.0  0.0   \n",
       "5256290        0.0   ...     0.0       0.0      0.0   0.0   0.0    0.0  0.0   \n",
       "\n",
       "         자동차용품  축산물  영상/음향가전  \n",
       "598339     0.0  0.0      0.0  \n",
       "1000521    0.0  0.0      0.0  \n",
       "1386382    0.0  0.0      0.0  \n",
       "5853909    0.0  0.0      0.0  \n",
       "5256290    0.0  0.0      0.0  \n",
       "\n",
       "[5 rows x 37 columns]"
      ]
     },
     "execution_count": 36,
     "metadata": {},
     "output_type": "execute_result"
    }
   ],
   "source": [
    "#PC_train과 PC_test를 이용"
   ]
  },
  {
   "cell_type": "code",
   "execution_count": 46,
   "metadata": {},
   "outputs": [
    {
     "name": "stderr",
     "output_type": "stream",
     "text": [
      "C:\\Users\\lsh93\\Anaconda3\\lib\\site-packages\\ipykernel_launcher.py:2: FutureWarning: Method .as_matrix will be removed in a future version. Use .values instead.\n",
      "  \n",
      "C:\\Users\\lsh93\\Anaconda3\\lib\\site-packages\\ipykernel_launcher.py:3: FutureWarning: Method .as_matrix will be removed in a future version. Use .values instead.\n",
      "  This is separate from the ipykernel package so we can avoid doing imports until\n"
     ]
    }
   ],
   "source": [
    "#array 형태로 변환\n",
    "train_mat = PC_train.as_matrix()\n",
    "test_mat = PC_test.as_matrix()"
   ]
  },
  {
   "cell_type": "code",
   "execution_count": 47,
   "metadata": {},
   "outputs": [
    {
     "data": {
      "text/plain": [
       "(4321, 37)"
      ]
     },
     "execution_count": 47,
     "metadata": {},
     "output_type": "execute_result"
    }
   ],
   "source": [
    "train_mat.shape"
   ]
  },
  {
   "cell_type": "code",
   "execution_count": 48,
   "metadata": {},
   "outputs": [
    {
     "data": {
      "text/plain": [
       "(2129, 37)"
      ]
     },
     "execution_count": 48,
     "metadata": {},
     "output_type": "execute_result"
    }
   ],
   "source": [
    "test_mat.shape"
   ]
  },
  {
   "cell_type": "markdown",
   "metadata": {},
   "source": [
    "####  Cosine Similarity 계산"
   ]
  },
  {
   "cell_type": "code",
   "execution_count": 49,
   "metadata": {},
   "outputs": [],
   "source": [
    "#코사인 유사도 계산 \n",
    "from sklearn.metrics import pairwise_distances\n",
    "from sklearn.metrics.pairwise import cosine_similarity\n",
    "from scipy.spatial.distance import cosine"
   ]
  },
  {
   "cell_type": "code",
   "execution_count": 50,
   "metadata": {},
   "outputs": [],
   "source": [
    "dist_out = 1 - pairwise_distances(train_mat, metric=\"cosine\")"
   ]
  },
  {
   "cell_type": "code",
   "execution_count": 51,
   "metadata": {},
   "outputs": [
    {
     "data": {
      "text/plain": [
       "array([[1.        , 0.58554004, 0.37796447, ..., 0.06900656, 0.1076244 ,\n",
       "        0.        ],\n",
       "       [0.58554004, 1.        , 0.77459667, ..., 0.42426407, 0.03676073,\n",
       "        0.        ],\n",
       "       [0.37796447, 0.77459667, 1.        , ..., 0.54772256, 0.0474579 ,\n",
       "        0.        ],\n",
       "       ...,\n",
       "       [0.06900656, 0.42426407, 0.54772256, ..., 1.        , 0.10397505,\n",
       "        0.        ],\n",
       "       [0.1076244 , 0.03676073, 0.0474579 , ..., 0.10397505, 1.        ,\n",
       "        0.        ],\n",
       "       [0.        , 0.        , 0.        , ..., 0.        , 0.        ,\n",
       "        1.        ]])"
      ]
     },
     "execution_count": 51,
     "metadata": {},
     "output_type": "execute_result"
    }
   ],
   "source": [
    "dist_out "
   ]
  },
  {
   "cell_type": "code",
   "execution_count": 52,
   "metadata": {},
   "outputs": [
    {
     "data": {
      "text/plain": [
       "(4321, 4321)"
      ]
     },
     "execution_count": 52,
     "metadata": {},
     "output_type": "execute_result"
    }
   ],
   "source": [
    "dist_out.shape"
   ]
  },
  {
   "cell_type": "code",
   "execution_count": 53,
   "metadata": {},
   "outputs": [],
   "source": [
    "#Client의 알려지지 않은 평가 예측 \n",
    "#거리행렬과 평가행렬의 내적을 구하고 평가수의 데이터를 정규화해 계산\n",
    "user_pred = dist_out.dot(train_mat)/np.array([np.abs(dist_out).sum(axis = 1)]).T"
   ]
  },
  {
   "cell_type": "code",
   "execution_count": 54,
   "metadata": {},
   "outputs": [],
   "source": [
    "from sklearn.metrics import mean_squared_error\n",
    "def get_mse(pred,actual):\n",
    "    pred = pred[actual.nonzero()].flatten()\n",
    "    actual = actual[actual.nonzero()].flatten()\n",
    "    \n",
    "    return mean_squared_error(pred, actual)"
   ]
  },
  {
   "cell_type": "code",
   "execution_count": 55,
   "metadata": {},
   "outputs": [
    {
     "data": {
      "text/plain": [
       "158.61687892338207"
      ]
     },
     "execution_count": 55,
     "metadata": {},
     "output_type": "execute_result"
    }
   ],
   "source": [
    "#모델의 예측오차율\n",
    "get_mse(user_pred, train_mat)"
   ]
  },
  {
   "cell_type": "code",
   "execution_count": 56,
   "metadata": {},
   "outputs": [
    {
     "data": {
      "text/plain": [
       "274.7326421622518"
      ]
     },
     "execution_count": 56,
     "metadata": {},
     "output_type": "execute_result"
    }
   ],
   "source": [
    "#테스트 데이터를 사용해 정확도를 확인해보기\n",
    "get_mse(user_pred, test_mat)"
   ]
  },
  {
   "cell_type": "code",
   "execution_count": 57,
   "metadata": {},
   "outputs": [],
   "source": [
    "from sklearn.neighbors import NearestNeighbors"
   ]
  },
  {
   "cell_type": "code",
   "execution_count": 58,
   "metadata": {},
   "outputs": [],
   "source": [
    "k = 5\n",
    "neigh = NearestNeighbors(k, 'cosine')"
   ]
  },
  {
   "cell_type": "code",
   "execution_count": 60,
   "metadata": {},
   "outputs": [
    {
     "data": {
      "text/plain": [
       "NearestNeighbors(algorithm='auto', leaf_size=30, metric='minkowski',\n",
       "         metric_params=None, n_jobs=None, n_neighbors=5, p=2,\n",
       "         radius='cosine')"
      ]
     },
     "execution_count": 60,
     "metadata": {},
     "output_type": "execute_result"
    }
   ],
   "source": [
    "neigh.fit(train_mat)"
   ]
  },
  {
   "cell_type": "code",
   "execution_count": 61,
   "metadata": {},
   "outputs": [],
   "source": [
    "#각 사용자별로 가장 유사한 5명의 사용자 찾고 유사도 계산\n",
    "top_k_distances, top_k_users = neigh.kneighbors(train_mat, return_distance = True)"
   ]
  },
  {
   "cell_type": "code",
   "execution_count": 62,
   "metadata": {},
   "outputs": [
    {
     "data": {
      "text/plain": [
       "(4321, 5)"
      ]
     },
     "execution_count": 62,
     "metadata": {},
     "output_type": "execute_result"
    }
   ],
   "source": [
    "top_k_distances.shape"
   ]
  },
  {
   "cell_type": "code",
   "execution_count": 63,
   "metadata": {},
   "outputs": [
    {
     "data": {
      "text/plain": [
       "(4321, 5)"
      ]
     },
     "execution_count": 63,
     "metadata": {},
     "output_type": "execute_result"
    }
   ],
   "source": [
    "top_k_users.shape"
   ]
  },
  {
   "cell_type": "code",
   "execution_count": 64,
   "metadata": {},
   "outputs": [
    {
     "data": {
      "text/plain": [
       "array([  4, 541, 463, 295, 416], dtype=int64)"
      ]
     },
     "execution_count": 64,
     "metadata": {},
     "output_type": "execute_result"
    }
   ],
   "source": [
    "top_k_users[4]"
   ]
  },
  {
   "cell_type": "code",
   "execution_count": 65,
   "metadata": {},
   "outputs": [],
   "source": [
    "#훈련 데이터의 알려지지 않은 구매 예측\n",
    "user_pred_k = np.zeros(train_mat.shape)"
   ]
  },
  {
   "cell_type": "code",
   "execution_count": 66,
   "metadata": {},
   "outputs": [
    {
     "name": "stderr",
     "output_type": "stream",
     "text": [
      "C:\\Users\\lsh93\\Anaconda3\\lib\\site-packages\\ipykernel_launcher.py:2: RuntimeWarning: invalid value encountered in true_divide\n",
      "  \n"
     ]
    }
   ],
   "source": [
    "for i in range(PC_train.shape[0]):\n",
    "    user_pred_k[i,:] = top_k_distances[i].T.dot(train_mat[top_k_users][i]) / np.array([np.abs(top_k_distances[i].T).sum(axis = 0)]).T  "
   ]
  },
  {
   "cell_type": "code",
   "execution_count": 67,
   "metadata": {},
   "outputs": [
    {
     "data": {
      "text/plain": [
       "(4321, 37)"
      ]
     },
     "execution_count": 67,
     "metadata": {},
     "output_type": "execute_result"
    }
   ],
   "source": [
    "user_pred_k.shape"
   ]
  },
  {
   "cell_type": "code",
   "execution_count": 68,
   "metadata": {},
   "outputs": [
    {
     "data": {
      "text/plain": [
       "array([[0.25294283, 0.        , 0.        , ..., 0.        , 0.        ,\n",
       "        0.        ],\n",
       "       [0.        , 0.        , 0.        , ..., 0.        , 0.        ,\n",
       "        0.        ],\n",
       "       [0.        , 0.        , 0.        , ..., 0.        , 0.        ,\n",
       "        0.        ],\n",
       "       ...,\n",
       "       [       nan,        nan,        nan, ...,        nan,        nan,\n",
       "               nan],\n",
       "       [1.51522887, 8.19397379, 5.26311942, ..., 0.        , 0.        ,\n",
       "        0.        ],\n",
       "       [0.29228571, 0.        , 0.        , ..., 0.        , 0.        ,\n",
       "        0.        ]])"
      ]
     },
     "execution_count": 68,
     "metadata": {},
     "output_type": "execute_result"
    }
   ],
   "source": [
    "user_pred_k"
   ]
  },
  {
   "cell_type": "code",
   "execution_count": 69,
   "metadata": {},
   "outputs": [
    {
     "data": {
      "text/html": [
       "<div>\n",
       "<style scoped>\n",
       "    .dataframe tbody tr th:only-of-type {\n",
       "        vertical-align: middle;\n",
       "    }\n",
       "\n",
       "    .dataframe tbody tr th {\n",
       "        vertical-align: top;\n",
       "    }\n",
       "\n",
       "    .dataframe thead th {\n",
       "        text-align: right;\n",
       "    }\n",
       "</style>\n",
       "<table border=\"1\" class=\"dataframe\">\n",
       "  <thead>\n",
       "    <tr style=\"text-align: right;\">\n",
       "      <th></th>\n",
       "      <th>0</th>\n",
       "      <th>1</th>\n",
       "      <th>2</th>\n",
       "      <th>3</th>\n",
       "      <th>4</th>\n",
       "      <th>5</th>\n",
       "      <th>6</th>\n",
       "      <th>7</th>\n",
       "      <th>8</th>\n",
       "      <th>9</th>\n",
       "      <th>...</th>\n",
       "      <th>27</th>\n",
       "      <th>28</th>\n",
       "      <th>29</th>\n",
       "      <th>30</th>\n",
       "      <th>31</th>\n",
       "      <th>32</th>\n",
       "      <th>33</th>\n",
       "      <th>34</th>\n",
       "      <th>35</th>\n",
       "      <th>36</th>\n",
       "    </tr>\n",
       "  </thead>\n",
       "  <tbody>\n",
       "    <tr>\n",
       "      <th>0</th>\n",
       "      <td>0.252943</td>\n",
       "      <td>0.000000</td>\n",
       "      <td>0.000000</td>\n",
       "      <td>0.000000</td>\n",
       "      <td>0.0</td>\n",
       "      <td>0.000000</td>\n",
       "      <td>0.000000</td>\n",
       "      <td>0.505886</td>\n",
       "      <td>0.0</td>\n",
       "      <td>0.000000</td>\n",
       "      <td>...</td>\n",
       "      <td>0.0</td>\n",
       "      <td>0.000000</td>\n",
       "      <td>0.0</td>\n",
       "      <td>0.0</td>\n",
       "      <td>0.0</td>\n",
       "      <td>0.0</td>\n",
       "      <td>0.241172</td>\n",
       "      <td>0.0</td>\n",
       "      <td>0.0</td>\n",
       "      <td>0.0</td>\n",
       "    </tr>\n",
       "    <tr>\n",
       "      <th>1</th>\n",
       "      <td>0.000000</td>\n",
       "      <td>0.000000</td>\n",
       "      <td>0.000000</td>\n",
       "      <td>0.000000</td>\n",
       "      <td>0.0</td>\n",
       "      <td>0.000000</td>\n",
       "      <td>0.000000</td>\n",
       "      <td>0.000000</td>\n",
       "      <td>0.0</td>\n",
       "      <td>0.000000</td>\n",
       "      <td>...</td>\n",
       "      <td>0.0</td>\n",
       "      <td>0.000000</td>\n",
       "      <td>0.0</td>\n",
       "      <td>0.0</td>\n",
       "      <td>0.0</td>\n",
       "      <td>0.0</td>\n",
       "      <td>0.000000</td>\n",
       "      <td>0.0</td>\n",
       "      <td>0.0</td>\n",
       "      <td>0.0</td>\n",
       "    </tr>\n",
       "    <tr>\n",
       "      <th>2</th>\n",
       "      <td>0.000000</td>\n",
       "      <td>0.000000</td>\n",
       "      <td>0.000000</td>\n",
       "      <td>0.000000</td>\n",
       "      <td>0.0</td>\n",
       "      <td>1.000000</td>\n",
       "      <td>0.000000</td>\n",
       "      <td>0.000000</td>\n",
       "      <td>0.0</td>\n",
       "      <td>0.000000</td>\n",
       "      <td>...</td>\n",
       "      <td>0.0</td>\n",
       "      <td>0.000000</td>\n",
       "      <td>0.0</td>\n",
       "      <td>0.0</td>\n",
       "      <td>0.0</td>\n",
       "      <td>0.0</td>\n",
       "      <td>0.000000</td>\n",
       "      <td>0.0</td>\n",
       "      <td>0.0</td>\n",
       "      <td>0.0</td>\n",
       "    </tr>\n",
       "    <tr>\n",
       "      <th>3</th>\n",
       "      <td>0.768688</td>\n",
       "      <td>0.219835</td>\n",
       "      <td>0.711893</td>\n",
       "      <td>0.599168</td>\n",
       "      <td>0.0</td>\n",
       "      <td>1.729233</td>\n",
       "      <td>10.982043</td>\n",
       "      <td>0.000000</td>\n",
       "      <td>0.0</td>\n",
       "      <td>0.231312</td>\n",
       "      <td>...</td>\n",
       "      <td>0.0</td>\n",
       "      <td>0.000000</td>\n",
       "      <td>0.0</td>\n",
       "      <td>0.0</td>\n",
       "      <td>0.0</td>\n",
       "      <td>0.0</td>\n",
       "      <td>0.000000</td>\n",
       "      <td>0.0</td>\n",
       "      <td>0.0</td>\n",
       "      <td>0.0</td>\n",
       "    </tr>\n",
       "    <tr>\n",
       "      <th>4</th>\n",
       "      <td>NaN</td>\n",
       "      <td>NaN</td>\n",
       "      <td>NaN</td>\n",
       "      <td>NaN</td>\n",
       "      <td>NaN</td>\n",
       "      <td>NaN</td>\n",
       "      <td>NaN</td>\n",
       "      <td>NaN</td>\n",
       "      <td>NaN</td>\n",
       "      <td>NaN</td>\n",
       "      <td>...</td>\n",
       "      <td>NaN</td>\n",
       "      <td>NaN</td>\n",
       "      <td>NaN</td>\n",
       "      <td>NaN</td>\n",
       "      <td>NaN</td>\n",
       "      <td>NaN</td>\n",
       "      <td>NaN</td>\n",
       "      <td>NaN</td>\n",
       "      <td>NaN</td>\n",
       "      <td>NaN</td>\n",
       "    </tr>\n",
       "    <tr>\n",
       "      <th>5</th>\n",
       "      <td>2.445469</td>\n",
       "      <td>2.174760</td>\n",
       "      <td>0.000000</td>\n",
       "      <td>0.000000</td>\n",
       "      <td>0.0</td>\n",
       "      <td>0.564832</td>\n",
       "      <td>3.196442</td>\n",
       "      <td>0.000000</td>\n",
       "      <td>0.0</td>\n",
       "      <td>0.000000</td>\n",
       "      <td>...</td>\n",
       "      <td>0.0</td>\n",
       "      <td>0.000000</td>\n",
       "      <td>0.0</td>\n",
       "      <td>0.0</td>\n",
       "      <td>0.0</td>\n",
       "      <td>0.0</td>\n",
       "      <td>0.000000</td>\n",
       "      <td>0.0</td>\n",
       "      <td>0.0</td>\n",
       "      <td>0.0</td>\n",
       "    </tr>\n",
       "    <tr>\n",
       "      <th>6</th>\n",
       "      <td>0.000000</td>\n",
       "      <td>0.000000</td>\n",
       "      <td>0.500000</td>\n",
       "      <td>0.000000</td>\n",
       "      <td>0.0</td>\n",
       "      <td>1.500000</td>\n",
       "      <td>0.000000</td>\n",
       "      <td>0.000000</td>\n",
       "      <td>0.0</td>\n",
       "      <td>0.000000</td>\n",
       "      <td>...</td>\n",
       "      <td>0.0</td>\n",
       "      <td>0.000000</td>\n",
       "      <td>0.0</td>\n",
       "      <td>0.0</td>\n",
       "      <td>0.0</td>\n",
       "      <td>0.0</td>\n",
       "      <td>0.000000</td>\n",
       "      <td>0.0</td>\n",
       "      <td>0.0</td>\n",
       "      <td>0.0</td>\n",
       "    </tr>\n",
       "    <tr>\n",
       "      <th>7</th>\n",
       "      <td>3.253723</td>\n",
       "      <td>1.794683</td>\n",
       "      <td>6.267690</td>\n",
       "      <td>0.000000</td>\n",
       "      <td>0.0</td>\n",
       "      <td>2.536305</td>\n",
       "      <td>1.497210</td>\n",
       "      <td>3.790028</td>\n",
       "      <td>0.0</td>\n",
       "      <td>0.512102</td>\n",
       "      <td>...</td>\n",
       "      <td>0.0</td>\n",
       "      <td>0.253723</td>\n",
       "      <td>0.0</td>\n",
       "      <td>0.0</td>\n",
       "      <td>0.0</td>\n",
       "      <td>0.0</td>\n",
       "      <td>0.000000</td>\n",
       "      <td>0.0</td>\n",
       "      <td>0.0</td>\n",
       "      <td>0.0</td>\n",
       "    </tr>\n",
       "    <tr>\n",
       "      <th>8</th>\n",
       "      <td>0.505421</td>\n",
       "      <td>2.225206</td>\n",
       "      <td>1.502075</td>\n",
       "      <td>0.000000</td>\n",
       "      <td>0.0</td>\n",
       "      <td>3.748963</td>\n",
       "      <td>0.767299</td>\n",
       "      <td>6.214365</td>\n",
       "      <td>0.0</td>\n",
       "      <td>2.255187</td>\n",
       "      <td>...</td>\n",
       "      <td>0.0</td>\n",
       "      <td>0.000000</td>\n",
       "      <td>0.0</td>\n",
       "      <td>0.0</td>\n",
       "      <td>0.0</td>\n",
       "      <td>0.0</td>\n",
       "      <td>0.000000</td>\n",
       "      <td>0.0</td>\n",
       "      <td>0.0</td>\n",
       "      <td>0.0</td>\n",
       "    </tr>\n",
       "    <tr>\n",
       "      <th>9</th>\n",
       "      <td>0.000000</td>\n",
       "      <td>0.000000</td>\n",
       "      <td>0.000000</td>\n",
       "      <td>0.000000</td>\n",
       "      <td>0.0</td>\n",
       "      <td>0.000000</td>\n",
       "      <td>0.000000</td>\n",
       "      <td>2.000000</td>\n",
       "      <td>0.0</td>\n",
       "      <td>0.000000</td>\n",
       "      <td>...</td>\n",
       "      <td>0.0</td>\n",
       "      <td>0.000000</td>\n",
       "      <td>0.0</td>\n",
       "      <td>0.0</td>\n",
       "      <td>0.0</td>\n",
       "      <td>0.0</td>\n",
       "      <td>0.000000</td>\n",
       "      <td>0.0</td>\n",
       "      <td>0.0</td>\n",
       "      <td>0.0</td>\n",
       "    </tr>\n",
       "  </tbody>\n",
       "</table>\n",
       "<p>10 rows × 37 columns</p>\n",
       "</div>"
      ],
      "text/plain": [
       "         0         1         2         3    4         5          6         7   \\\n",
       "0  0.252943  0.000000  0.000000  0.000000  0.0  0.000000   0.000000  0.505886   \n",
       "1  0.000000  0.000000  0.000000  0.000000  0.0  0.000000   0.000000  0.000000   \n",
       "2  0.000000  0.000000  0.000000  0.000000  0.0  1.000000   0.000000  0.000000   \n",
       "3  0.768688  0.219835  0.711893  0.599168  0.0  1.729233  10.982043  0.000000   \n",
       "4       NaN       NaN       NaN       NaN  NaN       NaN        NaN       NaN   \n",
       "5  2.445469  2.174760  0.000000  0.000000  0.0  0.564832   3.196442  0.000000   \n",
       "6  0.000000  0.000000  0.500000  0.000000  0.0  1.500000   0.000000  0.000000   \n",
       "7  3.253723  1.794683  6.267690  0.000000  0.0  2.536305   1.497210  3.790028   \n",
       "8  0.505421  2.225206  1.502075  0.000000  0.0  3.748963   0.767299  6.214365   \n",
       "9  0.000000  0.000000  0.000000  0.000000  0.0  0.000000   0.000000  2.000000   \n",
       "\n",
       "    8         9  ...    27        28   29   30   31   32        33   34   35  \\\n",
       "0  0.0  0.000000 ...   0.0  0.000000  0.0  0.0  0.0  0.0  0.241172  0.0  0.0   \n",
       "1  0.0  0.000000 ...   0.0  0.000000  0.0  0.0  0.0  0.0  0.000000  0.0  0.0   \n",
       "2  0.0  0.000000 ...   0.0  0.000000  0.0  0.0  0.0  0.0  0.000000  0.0  0.0   \n",
       "3  0.0  0.231312 ...   0.0  0.000000  0.0  0.0  0.0  0.0  0.000000  0.0  0.0   \n",
       "4  NaN       NaN ...   NaN       NaN  NaN  NaN  NaN  NaN       NaN  NaN  NaN   \n",
       "5  0.0  0.000000 ...   0.0  0.000000  0.0  0.0  0.0  0.0  0.000000  0.0  0.0   \n",
       "6  0.0  0.000000 ...   0.0  0.000000  0.0  0.0  0.0  0.0  0.000000  0.0  0.0   \n",
       "7  0.0  0.512102 ...   0.0  0.253723  0.0  0.0  0.0  0.0  0.000000  0.0  0.0   \n",
       "8  0.0  2.255187 ...   0.0  0.000000  0.0  0.0  0.0  0.0  0.000000  0.0  0.0   \n",
       "9  0.0  0.000000 ...   0.0  0.000000  0.0  0.0  0.0  0.0  0.000000  0.0  0.0   \n",
       "\n",
       "    36  \n",
       "0  0.0  \n",
       "1  0.0  \n",
       "2  0.0  \n",
       "3  0.0  \n",
       "4  NaN  \n",
       "5  0.0  \n",
       "6  0.0  \n",
       "7  0.0  \n",
       "8  0.0  \n",
       "9  0.0  \n",
       "\n",
       "[10 rows x 37 columns]"
      ]
     },
     "execution_count": 69,
     "metadata": {},
     "output_type": "execute_result"
    }
   ],
   "source": [
    "#nan값 있어서 mse계산할 수 없음. \n",
    "#왜 nan값이 나올까,,\n",
    "online_pref = pd.DataFrame(user_pred_k)\n",
    "online_pref[0:10]"
   ]
  },
  {
   "cell_type": "markdown",
   "metadata": {},
   "source": [
    "- nan가 들어간 row 전체를 제거한다. 대체하는 건 근거가 없으므로"
   ]
  },
  {
   "cell_type": "code",
   "execution_count": 70,
   "metadata": {},
   "outputs": [
    {
     "data": {
      "text/plain": [
       "(array([   4,    4,    4, ..., 4318, 4318, 4318], dtype=int64),\n",
       " array([ 0,  1,  2, ..., 34, 35, 36], dtype=int64))"
      ]
     },
     "execution_count": 70,
     "metadata": {},
     "output_type": "execute_result"
    }
   ],
   "source": [
    "#nan가 들어간 element의 row의 인덱스 반환\n",
    "na_element_index = np.where(np.isnan(online_pref))\n",
    "na_element_index"
   ]
  },
  {
   "cell_type": "code",
   "execution_count": 71,
   "metadata": {},
   "outputs": [
    {
     "data": {
      "text/plain": [
       "array([   4,   13,   19,   24,   31,   32,   33,   37,   38,   39,   42,\n",
       "         46,   54,   57,   62,   64,   73,   76,   77,   87,  110,  129,\n",
       "        134,  149,  153,  158,  160,  161,  165,  171,  172,  176,  186,\n",
       "        201,  210,  222,  229,  233,  237,  239,  240,  250,  251,  259,\n",
       "        262,  269,  273,  274,  295,  297,  309,  311,  312,  313,  321,\n",
       "        334,  337,  339,  353,  358,  359,  363,  376,  377,  384,  390,\n",
       "        394,  395,  416,  419,  442,  443,  444,  446,  448,  456,  458,\n",
       "        463,  464,  472,  474,  480,  485,  495,  502,  503,  504,  508,\n",
       "        516,  528,  534,  541,  542,  545,  561,  569,  577,  578,  582,\n",
       "        599,  603,  604,  609,  615,  627,  629,  634,  644,  652,  663,\n",
       "        680,  684,  692,  696,  698,  704,  713,  715,  727,  729,  739,\n",
       "        754,  769,  770,  771,  785,  786,  787,  791,  800,  804,  809,\n",
       "        819,  825,  828,  833,  834,  839,  845,  851,  853,  862,  865,\n",
       "        875,  877,  879,  896,  898,  905,  912,  915,  919,  922,  924,\n",
       "        926,  929,  934,  952,  979,  982,  992,  993,  994, 1004, 1015,\n",
       "       1041, 1052, 1059, 1070, 1078, 1082, 1083, 1089, 1091, 1092, 1096,\n",
       "       1099, 1103, 1117, 1119, 1130, 1131, 1134, 1163, 1178, 1181, 1187,\n",
       "       1190, 1191, 1196, 1205, 1206, 1211, 1220, 1231, 1232, 1235, 1256,\n",
       "       1260, 1271, 1273, 1277, 1279, 1283, 1285, 1294, 1309, 1312, 1314,\n",
       "       1316, 1321, 1329, 1330, 1343, 1345, 1348, 1352, 1356, 1358, 1371,\n",
       "       1375, 1379, 1386, 1404, 1412, 1413, 1423, 1450, 1453, 1457, 1460,\n",
       "       1462, 1465, 1477, 1481, 1484, 1501, 1528, 1544, 1546, 1548, 1549,\n",
       "       1552, 1578, 1579, 1593, 1594, 1599, 1611, 1612, 1616, 1626, 1630,\n",
       "       1635, 1639, 1640, 1644, 1652, 1661, 1664, 1673, 1677, 1679, 1683,\n",
       "       1695, 1697, 1715, 1718, 1725, 1732, 1747, 1748, 1751, 1769, 1770,\n",
       "       1783, 1792, 1794, 1796, 1800, 1807, 1815, 1818, 1819, 1829, 1832,\n",
       "       1839, 1841, 1844, 1847, 1850, 1852, 1856, 1868, 1870, 1871, 1883,\n",
       "       1885, 1891, 1892, 1898, 1900, 1908, 1932, 1934, 1943, 1946, 1957,\n",
       "       1964, 1971, 1975, 1984, 1990, 1993, 2000, 2001, 2012, 2033, 2039,\n",
       "       2041, 2055, 2058, 2059, 2072, 2098, 2118, 2119, 2121, 2129, 2138,\n",
       "       2139, 2153, 2154, 2156, 2158, 2165, 2173, 2177, 2194, 2220, 2221,\n",
       "       2226, 2238, 2242, 2257, 2258, 2270, 2275, 2297, 2299, 2301, 2309,\n",
       "       2323, 2325, 2334, 2342, 2345, 2360, 2365, 2375, 2381, 2382, 2411,\n",
       "       2415, 2417, 2435, 2438, 2440, 2442, 2448, 2455, 2462, 2463, 2464,\n",
       "       2466, 2478, 2480, 2492, 2494, 2499, 2510, 2516, 2534, 2535, 2559,\n",
       "       2560, 2566, 2570, 2572, 2575, 2577, 2595, 2596, 2597, 2602, 2604,\n",
       "       2609, 2614, 2628, 2631, 2632, 2633, 2634, 2636, 2640, 2649, 2661,\n",
       "       2666, 2678, 2694, 2700, 2707, 2708, 2720, 2732, 2740, 2745, 2755,\n",
       "       2813, 2818, 2827, 2832, 2859, 2862, 2864, 2872, 2887, 2890, 2894,\n",
       "       2911, 2914, 2915, 2917, 2920, 2926, 2932, 2938, 2942, 2943, 2947,\n",
       "       2957, 2965, 2971, 2975, 2986, 2990, 2995, 2996, 3017, 3036, 3039,\n",
       "       3044, 3045, 3048, 3055, 3056, 3057, 3061, 3064, 3081, 3084, 3085,\n",
       "       3090, 3094, 3095, 3100, 3105, 3106, 3114, 3117, 3122, 3123, 3135,\n",
       "       3136, 3138, 3142, 3144, 3163, 3165, 3169, 3170, 3176, 3179, 3184,\n",
       "       3188, 3197, 3208, 3222, 3224, 3226, 3242, 3246, 3269, 3274, 3279,\n",
       "       3286, 3293, 3295, 3301, 3305, 3313, 3319, 3322, 3324, 3332, 3345,\n",
       "       3353, 3357, 3363, 3368, 3373, 3374, 3381, 3399, 3409, 3424, 3429,\n",
       "       3431, 3445, 3448, 3452, 3461, 3467, 3468, 3474, 3484, 3485, 3504,\n",
       "       3506, 3509, 3517, 3519, 3521, 3522, 3525, 3528, 3532, 3548, 3560,\n",
       "       3562, 3574, 3580, 3581, 3590, 3592, 3595, 3596, 3608, 3617, 3621,\n",
       "       3622, 3642, 3647, 3659, 3667, 3668, 3670, 3681, 3683, 3689, 3690,\n",
       "       3697, 3703, 3716, 3718, 3727, 3730, 3732, 3737, 3745, 3749, 3764,\n",
       "       3773, 3777, 3780, 3784, 3793, 3797, 3798, 3803, 3810, 3811, 3813,\n",
       "       3817, 3819, 3850, 3852, 3865, 3870, 3871, 3879, 3880, 3888, 3892,\n",
       "       3894, 3895, 3897, 3900, 3901, 3912, 3914, 3929, 3942, 3949, 3958,\n",
       "       3966, 3972, 3978, 3983, 3997, 4006, 4023, 4024, 4030, 4041, 4042,\n",
       "       4045, 4058, 4068, 4070, 4072, 4073, 4085, 4087, 4091, 4100, 4108,\n",
       "       4120, 4121, 4130, 4138, 4144, 4147, 4172, 4176, 4183, 4197, 4199,\n",
       "       4203, 4211, 4221, 4231, 4232, 4235, 4237, 4247, 4248, 4255, 4260,\n",
       "       4272, 4280, 4282, 4283, 4287, 4289, 4290, 4292, 4297, 4301, 4302,\n",
       "       4314, 4318], dtype=int64)"
      ]
     },
     "execution_count": 71,
     "metadata": {},
     "output_type": "execute_result"
    }
   ],
   "source": [
    "#nan가 들어간 row의 인덱스 반환\n",
    "na_row_index = np.unique(na_element_index[0])\n",
    "na_row_index"
   ]
  },
  {
   "cell_type": "code",
   "execution_count": 74,
   "metadata": {},
   "outputs": [
    {
     "data": {
      "text/plain": [
       "(662,)"
      ]
     },
     "execution_count": 74,
     "metadata": {},
     "output_type": "execute_result"
    }
   ],
   "source": [
    "#제거할 client id의 목록\n",
    "#temp_train 데이터프레임에서 반환\n",
    "removed_CLNT_ID = PC_train.index.values[na_row_index]\n",
    "removed_CLNT_ID.shape"
   ]
  },
  {
   "cell_type": "code",
   "execution_count": 76,
   "metadata": {},
   "outputs": [
    {
     "data": {
      "text/plain": [
       "(3659,)"
      ]
     },
     "execution_count": 76,
     "metadata": {},
     "output_type": "execute_result"
    }
   ],
   "source": [
    "#제거하지 않고 남는 Client id의 목록\n",
    "existed_CLNT_ID = np.delete(PC_train.index.values,na_row_index)\n",
    "existed_CLNT_ID.shape"
   ]
  },
  {
   "cell_type": "code",
   "execution_count": 77,
   "metadata": {},
   "outputs": [
    {
     "data": {
      "text/plain": [
       "(3659, 37)"
      ]
     },
     "execution_count": 77,
     "metadata": {},
     "output_type": "execute_result"
    }
   ],
   "source": [
    "#이제 online_pref에서 nan가 들어간 row 제거\n",
    "online_pref2 = online_pref.dropna()\n",
    "online_pref2.shape"
   ]
  },
  {
   "cell_type": "code",
   "execution_count": 78,
   "metadata": {},
   "outputs": [
    {
     "name": "stderr",
     "output_type": "stream",
     "text": [
      "C:\\Users\\lsh93\\Anaconda3\\lib\\site-packages\\ipykernel_launcher.py:2: FutureWarning: Method .as_matrix will be removed in a future version. Use .values instead.\n",
      "  \n"
     ]
    },
    {
     "data": {
      "text/plain": [
       "(3659, 37)"
      ]
     },
     "execution_count": 78,
     "metadata": {},
     "output_type": "execute_result"
    }
   ],
   "source": [
    "#결측치가 제거된 dataframe을 array로 바꾼다\n",
    "user_pred_k2 = online_pref2.as_matrix()\n",
    "user_pred_k2.shape"
   ]
  },
  {
   "cell_type": "code",
   "execution_count": 79,
   "metadata": {},
   "outputs": [
    {
     "data": {
      "text/plain": [
       "array([[0.25294283, 0.        , 0.        , ..., 0.        , 0.        ,\n",
       "        0.        ],\n",
       "       [0.        , 0.        , 0.        , ..., 0.        , 0.        ,\n",
       "        0.        ],\n",
       "       [0.        , 0.        , 0.        , ..., 0.        , 0.        ,\n",
       "        0.        ],\n",
       "       ...,\n",
       "       [1.        , 0.        , 0.        , ..., 0.        , 0.        ,\n",
       "        0.        ],\n",
       "       [1.51522887, 8.19397379, 5.26311942, ..., 0.        , 0.        ,\n",
       "        0.        ],\n",
       "       [0.29228571, 0.        , 0.        , ..., 0.        , 0.        ,\n",
       "        0.        ]])"
      ]
     },
     "execution_count": 79,
     "metadata": {},
     "output_type": "execute_result"
    }
   ],
   "source": [
    "#결측치 row제거된 선호지수행렬 \n",
    "user_pred_k2"
   ]
  },
  {
   "cell_type": "code",
   "execution_count": 94,
   "metadata": {},
   "outputs": [
    {
     "data": {
      "text/plain": [
       "(662,)"
      ]
     },
     "execution_count": 94,
     "metadata": {},
     "output_type": "execute_result"
    }
   ],
   "source": [
    "na_row_index.shape"
   ]
  },
  {
   "cell_type": "code",
   "execution_count": 110,
   "metadata": {},
   "outputs": [
    {
     "data": {
      "text/plain": [
       "(3659, 37)"
      ]
     },
     "execution_count": 110,
     "metadata": {},
     "output_type": "execute_result"
    }
   ],
   "source": [
    "#본래 training data에서도 nan이 나온 index를 제외해준다\n",
    "train_mat2 = train_mat\n",
    "exist_idx = np.delete([range(online_pref.shape[0])],na_row_index)\n",
    "train_mat2 = train_mat2[exist_idx,:]\n",
    "train_mat2.shape"
   ]
  },
  {
   "cell_type": "code",
   "execution_count": 105,
   "metadata": {},
   "outputs": [
    {
     "data": {
      "text/plain": [
       "75.7763597902311"
      ]
     },
     "execution_count": 105,
     "metadata": {},
     "output_type": "execute_result"
    }
   ],
   "source": [
    "#모델의 개선 여부 확인 -> 개선됨! \n",
    "get_mse(user_pred_k2, train_mat2)"
   ]
  },
  {
   "cell_type": "code",
   "execution_count": 106,
   "metadata": {},
   "outputs": [
    {
     "data": {
      "text/plain": [
       "299.4609724630707"
      ]
     },
     "execution_count": 106,
     "metadata": {},
     "output_type": "execute_result"
    }
   ],
   "source": [
    "get_mse(user_pred_k2, test_mat)"
   ]
  },
  {
   "cell_type": "markdown",
   "metadata": {},
   "source": [
    "- 선호점수 matrix 생성 (index, column 모두 달아서)"
   ]
  },
  {
   "cell_type": "code",
   "execution_count": 107,
   "metadata": {},
   "outputs": [
    {
     "data": {
      "text/plain": [
       "array([[0.25294283, 0.        , 0.        , ..., 0.        , 0.        ,\n",
       "        0.        ],\n",
       "       [0.        , 0.        , 0.        , ..., 0.        , 0.        ,\n",
       "        0.        ],\n",
       "       [0.        , 0.        , 0.        , ..., 0.        , 0.        ,\n",
       "        0.        ],\n",
       "       ...,\n",
       "       [1.        , 0.        , 0.        , ..., 0.        , 0.        ,\n",
       "        0.        ],\n",
       "       [1.51522887, 8.19397379, 5.26311942, ..., 0.        , 0.        ,\n",
       "        0.        ],\n",
       "       [0.29228571, 0.        , 0.        , ..., 0.        , 0.        ,\n",
       "        0.        ]])"
      ]
     },
     "execution_count": 107,
     "metadata": {},
     "output_type": "execute_result"
    }
   ],
   "source": [
    "user_pred_k2 "
   ]
  },
  {
   "cell_type": "code",
   "execution_count": 86,
   "metadata": {},
   "outputs": [
    {
     "data": {
      "text/plain": [
       "array([5174505,  502099, 6139346, ..., 5148951, 1844977, 3195953],\n",
       "      dtype=int64)"
      ]
     },
     "execution_count": 86,
     "metadata": {},
     "output_type": "execute_result"
    }
   ],
   "source": [
    "#제거하지 않고 남은 index의 목록\n",
    "existed_CLNT_ID"
   ]
  },
  {
   "cell_type": "code",
   "execution_count": 87,
   "metadata": {},
   "outputs": [
    {
     "name": "stdout",
     "output_type": "stream",
     "text": [
      "(37,)\n",
      "(3659,)\n",
      "(3659, 37)\n"
     ]
    }
   ],
   "source": [
    "col_names = Purchase_Count.columns.values\n",
    "row_names = existed_CLNT_ID\n",
    "print(col_names.shape)\n",
    "print(row_names.shape)\n",
    "print(user_pred_k2.shape)"
   ]
  },
  {
   "cell_type": "code",
   "execution_count": 88,
   "metadata": {},
   "outputs": [],
   "source": [
    "#사용할 수 있는 구매 count 기반 온라인 선호지수\n",
    "Online_Preference_Count = pd.DataFrame(user_pred_k2, columns = col_names, index = row_names)"
   ]
  },
  {
   "cell_type": "code",
   "execution_count": 111,
   "metadata": {},
   "outputs": [
    {
     "data": {
      "text/plain": [
       "(3659, 37)"
      ]
     },
     "execution_count": 111,
     "metadata": {},
     "output_type": "execute_result"
    }
   ],
   "source": [
    "Online_Preference_Count.head()\n",
    "Online_Preference_Count.shape"
   ]
  },
  {
   "cell_type": "code",
   "execution_count": 93,
   "metadata": {},
   "outputs": [
    {
     "data": {
      "text/plain": [
       "3659"
      ]
     },
     "execution_count": 93,
     "metadata": {},
     "output_type": "execute_result"
    }
   ],
   "source": [
    "Existed_Client1 = pd.DataFrame(Online_Preference_Count.index.values, columns = ['CLNT_ID'])\n",
    "len(Existed_Client1['CLNT_ID'].unique())"
   ]
  },
  {
   "cell_type": "code",
   "execution_count": 91,
   "metadata": {},
   "outputs": [],
   "source": [
    "#데이터 내보내기\n",
    "Online_Preference_Count.to_csv(\"C:/Users/lsh93/Desktop/data/UBCF2/Online_Preference_Count.csv\", encoding=\"UTF-8\")\n",
    "#Existed_Client1.to_csv(\"C:/Users/lsh93/Desktop/data/UBCF2/Existed_Client1.csv\", encoding=\"UTF-8\")"
   ]
  }
 ],
 "metadata": {
  "kernelspec": {
   "display_name": "Python 3",
   "language": "python",
   "name": "python3"
  },
  "language_info": {
   "codemirror_mode": {
    "name": "ipython",
    "version": 3
   },
   "file_extension": ".py",
   "mimetype": "text/x-python",
   "name": "python",
   "nbconvert_exporter": "python",
   "pygments_lexer": "ipython3",
   "version": "3.7.1"
  }
 },
 "nbformat": 4,
 "nbformat_minor": 2
}
