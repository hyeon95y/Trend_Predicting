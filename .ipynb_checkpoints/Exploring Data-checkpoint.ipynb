{
 "cells": [
  {
   "cell_type": "markdown",
   "metadata": {},
   "source": [
    "# Trend Predicting\n",
    "\n",
    "* **Problem**: Trend Predicting based on user behaviors\n",
    "* **Descript\n",
    "ion**: \n",
    "  * Create online preference index for each major product group\n",
    "  * Predict demand trends and draw insights by product group\n",
    "  * Suggest new service from 1), 2)\n",
    "* **Dataset**: ? non-numeric column, and ? numeric columns\n",
    "  * ? : ?\n",
    "  * Non-numeric columns:\n",
    "    * 16 non-numeric columns : ?\n",
    "  * Numeric columns: \n",
    "    * 104 numeric columns : ?\n",
    " \n"
   ]
  },
  {
   "cell_type": "code",
   "execution_count": 1,
   "metadata": {},
   "outputs": [],
   "source": [
    "%matplotlib inline\n",
    "%load_ext autoreload\n",
    "%autoreload 2"
   ]
  },
  {
   "cell_type": "code",
   "execution_count": 2,
   "metadata": {},
   "outputs": [],
   "source": [
    "import pandas as pd\n",
    "import numpy as np\n",
    "import matplotlib.pyplot as plt\n",
    "\n",
    "from pathlib import Path\n",
    "import os"
   ]
  },
  {
   "cell_type": "markdown",
   "metadata": {},
   "source": [
    "# Load Data\n",
    "\n",
    "* 'custom.csv'\n",
    "* 'search1.csv'\n",
    "* 'search2.csv'\n",
    "* 'master.csv'\n",
    "* 'session.csv'\n",
    "* 'product.csv'\n"
   ]
  },
  {
   "cell_type": "code",
   "execution_count": 32,
   "metadata": {},
   "outputs": [],
   "source": [
    "path = Path().resolve().parents[0]\n",
    "product = pd.read_csv(os.path.join(path, 'Dataset', 'Product.csv'))\n",
    "search1 = pd.read_csv(os.path.join(path, 'Dataset', 'Search1.csv'))\n",
    "search2 = pd.read_csv(os.path.join(path, 'Dataset', 'Search2.csv'))\n",
    "custom = pd.read_csv(os.path.join(path, 'Dataset', 'Custom.csv'))\n",
    "session = pd.read_csv(os.path.join(path, 'Dataset', 'Session.csv'))\n",
    "master = pd.read_csv(os.path.join(path, 'Dataset', 'Master.csv'))"
   ]
  },
  {
   "cell_type": "code",
   "execution_count": 33,
   "metadata": {},
   "outputs": [
    {
     "name": "stdout",
     "output_type": "stream",
     "text": [
      "product shape :  (5024906, 8)\n",
      "search1 shape :  (2884943, 4)\n",
      "search2 shape :  (8051172, 3)\n",
      "custom shape :  (671679, 3)\n",
      "session shape :  (2712907, 9)\n",
      "master shape :  (847652, 5)\n"
     ]
    }
   ],
   "source": [
    "print('product shape : ', product.shape)\n",
    "print('search1 shape : ', search1.shape)\n",
    "print('search2 shape : ', search2.shape)\n",
    "print('custom shape : ', custom.shape)\n",
    "print('session shape : ', session.shape)\n",
    "print('master shape : ', master.shape)"
   ]
  },
  {
   "cell_type": "code",
   "execution_count": 34,
   "metadata": {},
   "outputs": [
    {
     "data": {
      "text/html": [
       "<div>\n",
       "<style scoped>\n",
       "    .dataframe tbody tr th:only-of-type {\n",
       "        vertical-align: middle;\n",
       "    }\n",
       "\n",
       "    .dataframe tbody tr th {\n",
       "        vertical-align: top;\n",
       "    }\n",
       "\n",
       "    .dataframe thead th {\n",
       "        text-align: right;\n",
       "    }\n",
       "</style>\n",
       "<table border=\"1\" class=\"dataframe\">\n",
       "  <thead>\n",
       "    <tr style=\"text-align: right;\">\n",
       "      <th></th>\n",
       "      <th>CLNT_ID</th>\n",
       "      <th>SESS_ID</th>\n",
       "      <th>HITS_SEQ</th>\n",
       "      <th>PD_C</th>\n",
       "      <th>PD_ADD_NM</th>\n",
       "      <th>PD_BRA_NM</th>\n",
       "      <th>PD_BUY_AM</th>\n",
       "      <th>PD_BUY_CT</th>\n",
       "    </tr>\n",
       "  </thead>\n",
       "  <tbody>\n",
       "    <tr>\n",
       "      <th>0</th>\n",
       "      <td>4139680</td>\n",
       "      <td>7605037</td>\n",
       "      <td>12</td>\n",
       "      <td>642112</td>\n",
       "      <td>색상:워터멜론</td>\n",
       "      <td>[바비브라운]</td>\n",
       "      <td>39,000</td>\n",
       "      <td>1</td>\n",
       "    </tr>\n",
       "    <tr>\n",
       "      <th>1</th>\n",
       "      <td>4140076</td>\n",
       "      <td>10189797</td>\n",
       "      <td>13</td>\n",
       "      <td>570603</td>\n",
       "      <td>색상:BLK0_(BLK0)BLACK|사이즈:120 / 2개</td>\n",
       "      <td>데상트</td>\n",
       "      <td>39,000</td>\n",
       "      <td>2</td>\n",
       "    </tr>\n",
       "    <tr>\n",
       "      <th>2</th>\n",
       "      <td>4142395</td>\n",
       "      <td>6158159</td>\n",
       "      <td>85</td>\n",
       "      <td>179538</td>\n",
       "      <td>(not set)</td>\n",
       "      <td>[아베다]</td>\n",
       "      <td>39,000</td>\n",
       "      <td>1</td>\n",
       "    </tr>\n",
       "    <tr>\n",
       "      <th>3</th>\n",
       "      <td>4144914</td>\n",
       "      <td>7935714</td>\n",
       "      <td>12</td>\n",
       "      <td>554336</td>\n",
       "      <td>색상:블랙|사이즈:160cm(12~13세) / 1개</td>\n",
       "      <td>아디다스 키즈</td>\n",
       "      <td>39,000</td>\n",
       "      <td>1</td>\n",
       "    </tr>\n",
       "    <tr>\n",
       "      <th>4</th>\n",
       "      <td>4144917</td>\n",
       "      <td>6406509</td>\n",
       "      <td>78</td>\n",
       "      <td>190306</td>\n",
       "      <td>5개</td>\n",
       "      <td>데코르테</td>\n",
       "      <td>39,000</td>\n",
       "      <td>5</td>\n",
       "    </tr>\n",
       "  </tbody>\n",
       "</table>\n",
       "</div>"
      ],
      "text/plain": [
       "   CLNT_ID   SESS_ID  HITS_SEQ    PD_C                         PD_ADD_NM  \\\n",
       "0  4139680   7605037        12  642112                           색상:워터멜론   \n",
       "1  4140076  10189797        13  570603  색상:BLK0_(BLK0)BLACK|사이즈:120 / 2개   \n",
       "2  4142395   6158159        85  179538                         (not set)   \n",
       "3  4144914   7935714        12  554336      색상:블랙|사이즈:160cm(12~13세) / 1개   \n",
       "4  4144917   6406509        78  190306                                5개   \n",
       "\n",
       "  PD_BRA_NM PD_BUY_AM PD_BUY_CT  \n",
       "0   [바비브라운]    39,000         1  \n",
       "1       데상트    39,000         2  \n",
       "2     [아베다]    39,000         1  \n",
       "3   아디다스 키즈    39,000         1  \n",
       "4      데코르테    39,000         5  "
      ]
     },
     "execution_count": 34,
     "metadata": {},
     "output_type": "execute_result"
    }
   ],
   "source": [
    "product.head()"
   ]
  },
  {
   "cell_type": "code",
   "execution_count": 35,
   "metadata": {},
   "outputs": [
    {
     "data": {
      "text/html": [
       "<div>\n",
       "<style scoped>\n",
       "    .dataframe tbody tr th:only-of-type {\n",
       "        vertical-align: middle;\n",
       "    }\n",
       "\n",
       "    .dataframe tbody tr th {\n",
       "        vertical-align: top;\n",
       "    }\n",
       "\n",
       "    .dataframe thead th {\n",
       "        text-align: right;\n",
       "    }\n",
       "</style>\n",
       "<table border=\"1\" class=\"dataframe\">\n",
       "  <thead>\n",
       "    <tr style=\"text-align: right;\">\n",
       "      <th></th>\n",
       "      <th>CLNT_ID</th>\n",
       "      <th>SESS_ID</th>\n",
       "      <th>KWD_NM</th>\n",
       "      <th>SEARCH_CNT</th>\n",
       "    </tr>\n",
       "  </thead>\n",
       "  <tbody>\n",
       "    <tr>\n",
       "      <th>0</th>\n",
       "      <td>5607714</td>\n",
       "      <td>7112876</td>\n",
       "      <td>빌리프 아이크림</td>\n",
       "      <td>6</td>\n",
       "    </tr>\n",
       "    <tr>\n",
       "      <th>1</th>\n",
       "      <td>5607714</td>\n",
       "      <td>4090791</td>\n",
       "      <td>프리메라 마스크팩</td>\n",
       "      <td>3</td>\n",
       "    </tr>\n",
       "    <tr>\n",
       "      <th>2</th>\n",
       "      <td>5607714</td>\n",
       "      <td>4090791</td>\n",
       "      <td>여성청결제</td>\n",
       "      <td>1</td>\n",
       "    </tr>\n",
       "    <tr>\n",
       "      <th>3</th>\n",
       "      <td>5612428</td>\n",
       "      <td>1876482</td>\n",
       "      <td>명품가방</td>\n",
       "      <td>1</td>\n",
       "    </tr>\n",
       "    <tr>\n",
       "      <th>4</th>\n",
       "      <td>5612428</td>\n",
       "      <td>658123</td>\n",
       "      <td>콩순이 아이스크림</td>\n",
       "      <td>1</td>\n",
       "    </tr>\n",
       "  </tbody>\n",
       "</table>\n",
       "</div>"
      ],
      "text/plain": [
       "   CLNT_ID  SESS_ID     KWD_NM  SEARCH_CNT\n",
       "0  5607714  7112876   빌리프 아이크림           6\n",
       "1  5607714  4090791  프리메라 마스크팩           3\n",
       "2  5607714  4090791      여성청결제           1\n",
       "3  5612428  1876482       명품가방           1\n",
       "4  5612428   658123  콩순이 아이스크림           1"
      ]
     },
     "execution_count": 35,
     "metadata": {},
     "output_type": "execute_result"
    }
   ],
   "source": [
    "search1.head()"
   ]
  },
  {
   "cell_type": "code",
   "execution_count": 17,
   "metadata": {},
   "outputs": [
    {
     "data": {
      "text/html": [
       "<div>\n",
       "<style scoped>\n",
       "    .dataframe tbody tr th:only-of-type {\n",
       "        vertical-align: middle;\n",
       "    }\n",
       "\n",
       "    .dataframe tbody tr th {\n",
       "        vertical-align: top;\n",
       "    }\n",
       "\n",
       "    .dataframe thead th {\n",
       "        text-align: right;\n",
       "    }\n",
       "</style>\n",
       "<table border=\"1\" class=\"dataframe\">\n",
       "  <thead>\n",
       "    <tr style=\"text-align: right;\">\n",
       "      <th></th>\n",
       "      <th>SESS_DT</th>\n",
       "      <th>KWD_NM</th>\n",
       "      <th>SEARCH_CNT</th>\n",
       "    </tr>\n",
       "  </thead>\n",
       "  <tbody>\n",
       "    <tr>\n",
       "      <th>0</th>\n",
       "      <td>20180407</td>\n",
       "      <td>닥스원피스</td>\n",
       "      <td>8</td>\n",
       "    </tr>\n",
       "    <tr>\n",
       "      <th>1</th>\n",
       "      <td>20180407</td>\n",
       "      <td>닥터지 브라이트닝</td>\n",
       "      <td>1</td>\n",
       "    </tr>\n",
       "    <tr>\n",
       "      <th>2</th>\n",
       "      <td>20180407</td>\n",
       "      <td>달팡 인트랄</td>\n",
       "      <td>2</td>\n",
       "    </tr>\n",
       "    <tr>\n",
       "      <th>3</th>\n",
       "      <td>20180407</td>\n",
       "      <td>대상트</td>\n",
       "      <td>1</td>\n",
       "    </tr>\n",
       "    <tr>\n",
       "      <th>4</th>\n",
       "      <td>20180407</td>\n",
       "      <td>더블유닷</td>\n",
       "      <td>6</td>\n",
       "    </tr>\n",
       "  </tbody>\n",
       "</table>\n",
       "</div>"
      ],
      "text/plain": [
       "    SESS_DT     KWD_NM SEARCH_CNT\n",
       "0  20180407      닥스원피스          8\n",
       "1  20180407  닥터지 브라이트닝          1\n",
       "2  20180407     달팡 인트랄          2\n",
       "3  20180407        대상트          1\n",
       "4  20180407       더블유닷          6"
      ]
     },
     "execution_count": 17,
     "metadata": {},
     "output_type": "execute_result"
    }
   ],
   "source": [
    "search2.head()"
   ]
  },
  {
   "cell_type": "code",
   "execution_count": 38,
   "metadata": {},
   "outputs": [
    {
     "data": {
      "text/html": [
       "<div>\n",
       "<style scoped>\n",
       "    .dataframe tbody tr th:only-of-type {\n",
       "        vertical-align: middle;\n",
       "    }\n",
       "\n",
       "    .dataframe tbody tr th {\n",
       "        vertical-align: top;\n",
       "    }\n",
       "\n",
       "    .dataframe thead th {\n",
       "        text-align: right;\n",
       "    }\n",
       "</style>\n",
       "<table border=\"1\" class=\"dataframe\">\n",
       "  <thead>\n",
       "    <tr style=\"text-align: right;\">\n",
       "      <th></th>\n",
       "      <th>CLNT_ID</th>\n",
       "      <th>CLNT_GENDER</th>\n",
       "      <th>CLNT_AGE</th>\n",
       "    </tr>\n",
       "  </thead>\n",
       "  <tbody>\n",
       "    <tr>\n",
       "      <th>0</th>\n",
       "      <td>4830726</td>\n",
       "      <td>F</td>\n",
       "      <td>30</td>\n",
       "    </tr>\n",
       "    <tr>\n",
       "      <th>1</th>\n",
       "      <td>4830874</td>\n",
       "      <td>F</td>\n",
       "      <td>40</td>\n",
       "    </tr>\n",
       "    <tr>\n",
       "      <th>2</th>\n",
       "      <td>4830975</td>\n",
       "      <td>F</td>\n",
       "      <td>30</td>\n",
       "    </tr>\n",
       "    <tr>\n",
       "      <th>3</th>\n",
       "      <td>4831275</td>\n",
       "      <td>F</td>\n",
       "      <td>30</td>\n",
       "    </tr>\n",
       "    <tr>\n",
       "      <th>4</th>\n",
       "      <td>4825325</td>\n",
       "      <td>F</td>\n",
       "      <td>30</td>\n",
       "    </tr>\n",
       "  </tbody>\n",
       "</table>\n",
       "</div>"
      ],
      "text/plain": [
       "   CLNT_ID CLNT_GENDER  CLNT_AGE\n",
       "0  4830726           F        30\n",
       "1  4830874           F        40\n",
       "2  4830975           F        30\n",
       "3  4831275           F        30\n",
       "4  4825325           F        30"
      ]
     },
     "execution_count": 38,
     "metadata": {},
     "output_type": "execute_result"
    }
   ],
   "source": [
    "custom.head()"
   ]
  },
  {
   "cell_type": "code",
   "execution_count": 39,
   "metadata": {},
   "outputs": [
    {
     "data": {
      "text/html": [
       "<div>\n",
       "<style scoped>\n",
       "    .dataframe tbody tr th:only-of-type {\n",
       "        vertical-align: middle;\n",
       "    }\n",
       "\n",
       "    .dataframe tbody tr th {\n",
       "        vertical-align: top;\n",
       "    }\n",
       "\n",
       "    .dataframe thead th {\n",
       "        text-align: right;\n",
       "    }\n",
       "</style>\n",
       "<table border=\"1\" class=\"dataframe\">\n",
       "  <thead>\n",
       "    <tr style=\"text-align: right;\">\n",
       "      <th></th>\n",
       "      <th>CLNT_ID</th>\n",
       "      <th>SESS_ID</th>\n",
       "      <th>SESS_SEQ</th>\n",
       "      <th>SESS_DT</th>\n",
       "      <th>TOT_PAG_VIEW_CT</th>\n",
       "      <th>TOT_SESS_HR_V</th>\n",
       "      <th>DVC_CTG_NM</th>\n",
       "      <th>ZON_NM</th>\n",
       "      <th>CITY_NM</th>\n",
       "    </tr>\n",
       "  </thead>\n",
       "  <tbody>\n",
       "    <tr>\n",
       "      <th>0</th>\n",
       "      <td>5873599</td>\n",
       "      <td>8641867</td>\n",
       "      <td>9</td>\n",
       "      <td>20180509</td>\n",
       "      <td>82.0</td>\n",
       "      <td>1,890</td>\n",
       "      <td>mobile</td>\n",
       "      <td>Daejeon</td>\n",
       "      <td>Daejeon</td>\n",
       "    </tr>\n",
       "    <tr>\n",
       "      <th>1</th>\n",
       "      <td>5873599</td>\n",
       "      <td>6616320</td>\n",
       "      <td>21</td>\n",
       "      <td>20180611</td>\n",
       "      <td>105.0</td>\n",
       "      <td>1,604</td>\n",
       "      <td>mobile</td>\n",
       "      <td>Busan</td>\n",
       "      <td>Busan</td>\n",
       "    </tr>\n",
       "    <tr>\n",
       "      <th>2</th>\n",
       "      <td>5873599</td>\n",
       "      <td>5886172</td>\n",
       "      <td>40</td>\n",
       "      <td>20180624</td>\n",
       "      <td>41.0</td>\n",
       "      <td>632</td>\n",
       "      <td>mobile</td>\n",
       "      <td>Daejeon</td>\n",
       "      <td>Daejeon</td>\n",
       "    </tr>\n",
       "    <tr>\n",
       "      <th>3</th>\n",
       "      <td>5873884</td>\n",
       "      <td>1050889</td>\n",
       "      <td>15</td>\n",
       "      <td>20180913</td>\n",
       "      <td>160.0</td>\n",
       "      <td>1,035</td>\n",
       "      <td>mobile</td>\n",
       "      <td>Gyeonggi-do</td>\n",
       "      <td>Anyang</td>\n",
       "    </tr>\n",
       "    <tr>\n",
       "      <th>4</th>\n",
       "      <td>5874461</td>\n",
       "      <td>10298270</td>\n",
       "      <td>5</td>\n",
       "      <td>20180412</td>\n",
       "      <td>13.0</td>\n",
       "      <td>298</td>\n",
       "      <td>mobile</td>\n",
       "      <td>Seoul</td>\n",
       "      <td>Seoul</td>\n",
       "    </tr>\n",
       "  </tbody>\n",
       "</table>\n",
       "</div>"
      ],
      "text/plain": [
       "   CLNT_ID   SESS_ID  SESS_SEQ   SESS_DT  TOT_PAG_VIEW_CT TOT_SESS_HR_V  \\\n",
       "0  5873599   8641867         9  20180509             82.0         1,890   \n",
       "1  5873599   6616320        21  20180611            105.0         1,604   \n",
       "2  5873599   5886172        40  20180624             41.0           632   \n",
       "3  5873884   1050889        15  20180913            160.0         1,035   \n",
       "4  5874461  10298270         5  20180412             13.0           298   \n",
       "\n",
       "  DVC_CTG_NM       ZON_NM  CITY_NM  \n",
       "0     mobile      Daejeon  Daejeon  \n",
       "1     mobile        Busan    Busan  \n",
       "2     mobile      Daejeon  Daejeon  \n",
       "3     mobile  Gyeonggi-do   Anyang  \n",
       "4     mobile        Seoul    Seoul  "
      ]
     },
     "execution_count": 39,
     "metadata": {},
     "output_type": "execute_result"
    }
   ],
   "source": [
    "session.head()"
   ]
  },
  {
   "cell_type": "code",
   "execution_count": 40,
   "metadata": {},
   "outputs": [
    {
     "data": {
      "text/html": [
       "<div>\n",
       "<style scoped>\n",
       "    .dataframe tbody tr th:only-of-type {\n",
       "        vertical-align: middle;\n",
       "    }\n",
       "\n",
       "    .dataframe tbody tr th {\n",
       "        vertical-align: top;\n",
       "    }\n",
       "\n",
       "    .dataframe thead th {\n",
       "        text-align: right;\n",
       "    }\n",
       "</style>\n",
       "<table border=\"1\" class=\"dataframe\">\n",
       "  <thead>\n",
       "    <tr style=\"text-align: right;\">\n",
       "      <th></th>\n",
       "      <th>PD_C</th>\n",
       "      <th>PD_NM</th>\n",
       "      <th>CLAC1_NM</th>\n",
       "      <th>CLAC2_NM</th>\n",
       "      <th>CLAC3_NM</th>\n",
       "    </tr>\n",
       "  </thead>\n",
       "  <tbody>\n",
       "    <tr>\n",
       "      <th>0</th>\n",
       "      <td>64382</td>\n",
       "      <td>언더아머 남성 UA HG 아머 모크 LS 1289559-001 - 블랙 / MD[95]</td>\n",
       "      <td>스포츠패션</td>\n",
       "      <td>남성일반스포츠의류</td>\n",
       "      <td>남성스포츠티셔츠</td>\n",
       "    </tr>\n",
       "    <tr>\n",
       "      <th>1</th>\n",
       "      <td>62282</td>\n",
       "      <td>여자 플라워덧신 2족선물세트 17403-2set</td>\n",
       "      <td>속옷/양말/홈웨어</td>\n",
       "      <td>여성양말류</td>\n",
       "      <td>여성일반양말</td>\n",
       "    </tr>\n",
       "    <tr>\n",
       "      <th>2</th>\n",
       "      <td>61729</td>\n",
       "      <td>88A2933253배트맨스웨트티 - 블랙 / 130</td>\n",
       "      <td>유아동의류</td>\n",
       "      <td>유아의류상의</td>\n",
       "      <td>영유아티셔츠/탑</td>\n",
       "    </tr>\n",
       "    <tr>\n",
       "      <th>3</th>\n",
       "      <td>61537</td>\n",
       "      <td>닥터마틴 아드리안 블랙, 체리레드 - 02_체리레드 / 250mm(6)</td>\n",
       "      <td>패션잡화</td>\n",
       "      <td>남성화</td>\n",
       "      <td>남성부츠</td>\n",
       "    </tr>\n",
       "    <tr>\n",
       "      <th>4</th>\n",
       "      <td>58820</td>\n",
       "      <td>여성 그레이 스트라이프 퍼프 소매 블라우스 (128865YQ33) - 회색(앤틱실버...</td>\n",
       "      <td>남성의류</td>\n",
       "      <td>남성의류상의</td>\n",
       "      <td>남성남방셔츠</td>\n",
       "    </tr>\n",
       "  </tbody>\n",
       "</table>\n",
       "</div>"
      ],
      "text/plain": [
       "    PD_C                                              PD_NM   CLAC1_NM  \\\n",
       "0  64382   언더아머 남성 UA HG 아머 모크 LS 1289559-001 - 블랙 / MD[95]      스포츠패션   \n",
       "1  62282                         여자 플라워덧신 2족선물세트 17403-2set  속옷/양말/홈웨어   \n",
       "2  61729                       88A2933253배트맨스웨트티 - 블랙 / 130      유아동의류   \n",
       "3  61537            닥터마틴 아드리안 블랙, 체리레드 - 02_체리레드 / 250mm(6)       패션잡화   \n",
       "4  58820  여성 그레이 스트라이프 퍼프 소매 블라우스 (128865YQ33) - 회색(앤틱실버...       남성의류   \n",
       "\n",
       "    CLAC2_NM  CLAC3_NM  \n",
       "0  남성일반스포츠의류  남성스포츠티셔츠  \n",
       "1      여성양말류    여성일반양말  \n",
       "2     유아의류상의  영유아티셔츠/탑  \n",
       "3        남성화      남성부츠  \n",
       "4     남성의류상의    남성남방셔츠  "
      ]
     },
     "execution_count": 40,
     "metadata": {},
     "output_type": "execute_result"
    }
   ],
   "source": [
    "master.head()"
   ]
  },
  {
   "cell_type": "markdown",
   "metadata": {},
   "source": [
    "## Explore Data (1)\n",
    "* Check Numeric, Categorical Columns\n",
    "* One-hot encode categorical columns"
   ]
  },
  {
   "cell_type": "code",
   "execution_count": 42,
   "metadata": {
    "scrolled": false
   },
   "outputs": [
    {
     "name": "stdout",
     "output_type": "stream",
     "text": [
      "* product\n",
      "int64     4\n",
      "object    4\n",
      "dtype: int64\n",
      "* search1\n",
      "int64     3\n",
      "object    1\n",
      "dtype: int64\n",
      "* search2\n",
      "object    2\n",
      "int64     1\n",
      "dtype: int64\n",
      "* custom\n",
      "int64     2\n",
      "object    1\n",
      "dtype: int64\n",
      "* session\n",
      "int64      4\n",
      "object     4\n",
      "float64    1\n",
      "dtype: int64\n",
      "* master\n",
      "object    4\n",
      "int64     1\n",
      "dtype: int64\n"
     ]
    },
    {
     "data": {
      "text/plain": [
       "'\\nnumeric = df._get_numeric_data().columns\\ncategorical = df.select_dtypes(exclude=[\"number\"]).columns\\nprint(\\'\\n* Numeric columns : \\')\\nprint(numeric)\\nprint(\\'\\n* Categorical columns : \\')\\nprint(categorical)\\n\\nprint(\\'\\n* Num of categories in categorial colums : \\')\\nprint(df.select_dtypes(\\'object\\').apply(pd.Series.nunique, axis=0))\\n\\ndf = pd.get_dummies(df)\\nprint(\\'Training Features Shape :\\', df.shape)\\n'"
      ]
     },
     "execution_count": 42,
     "metadata": {},
     "output_type": "execute_result"
    }
   ],
   "source": [
    "print('* product')\n",
    "print(product.dtypes.value_counts())\n",
    "\n",
    "print('* search1')\n",
    "print(search1.dtypes.value_counts())\n",
    "\n",
    "print('* search2')\n",
    "print(search2.dtypes.value_counts())\n",
    "\n",
    "print('* custom')\n",
    "print(custom.dtypes.value_counts())\n",
    "\n",
    "print('* session')\n",
    "print(session.dtypes.value_counts())\n",
    "\n",
    "print('* master')\n",
    "print(master.dtypes.value_counts())\n",
    "\n",
    "'''\n",
    "numeric = df._get_numeric_data().columns\n",
    "categorical = df.select_dtypes(exclude=[\"number\"]).columns\n",
    "print('\\n* Numeric columns : ')\n",
    "print(numeric)\n",
    "print('\\n* Categorical columns : ')\n",
    "print(categorical)\n",
    "\n",
    "print('\\n* Num of categories in categorial colums : ')\n",
    "print(df.select_dtypes('object').apply(pd.Series.nunique, axis=0))\n",
    "\n",
    "df = pd.get_dummies(df)\n",
    "print('Training Features Shape :', df.shape)\n",
    "'''"
   ]
  },
  {
   "cell_type": "markdown",
   "metadata": {},
   "source": [
    "* Check Data Imbalance"
   ]
  },
  {
   "cell_type": "code",
   "execution_count": 7,
   "metadata": {},
   "outputs": [
    {
     "name": "stdout",
     "output_type": "stream",
     "text": [
      "0    282686\n",
      "1     24825\n",
      "Name: TARGET, dtype: int64\n"
     ]
    },
    {
     "data": {
      "text/plain": [
       "<matplotlib.axes._subplots.AxesSubplot at 0x2050669e8>"
      ]
     },
     "execution_count": 7,
     "metadata": {},
     "output_type": "execute_result"
    },
    {
     "data": {
      "image/png": "[encoded data removed]",
      "text/plain": [
       "<Figure size 432x288 with 1 Axes>"
      ]
     },
     "metadata": {
      "needs_background": "light"
     },
     "output_type": "display_data"
    }
   ],
   "source": [
    "'''print(df['TARGET'].value_counts())\n",
    "df['TARGET'].astype(int).plot.hist()\n",
    "'''"
   ]
  },
  {
   "cell_type": "markdown",
   "metadata": {},
   "source": [
    "# Merge Data\n",
    "1) Merge product purchase data to see features which is expected to affect on purchase of client bought given product group, not individual product\n",
    "\n",
    "- Merge following csv files\n",
    "    * Product.csv : CLNT_ID, SESS_ID(Brdige), PD_C(Bridge), PD_BUY_CT, PD_BUY_AM\n",
    "    * Master.csv : PD_C(Bridge), CLAC1_NM, CLAC2_NM, CLAC3_NM\n",
    "    * Session.csv : SESS_ID(Bridge), SESS_DT\n",
    "    * Custom.csv : CLNT_ID, CLNT_GENDER, CLNT_AGE\n",
    "    \n",
    "    \n",
    "- To get data below\n",
    "  \n",
    "  \n",
    "- Client Information\n",
    "    * CLNT_ID : Client ID (Primary Key)\n",
    "    * CLNT_GENDER : Client Gender\n",
    "    * CLNT_AGE : Client Age\n",
    "    \n",
    "- Purchase Information\n",
    "    * SESS_DT : Session Date\n",
    "    * PD_BUY_CT : Number of product purchased\n",
    "    * PD_BUY_AM : Price of product purchased\n",
    "    \n",
    "- Product Information\n",
    "    * CLAC1_NM : Product group (largest)\n",
    "    * CLAC2_NM : Product group (moderate)\n",
    "    * CLAC3_NM : Product group (smallest)\n",
    "    \n",
    "    \n",
    "    \n",
    "    \n",
    "  "
   ]
  },
  {
   "cell_type": "markdown",
   "metadata": {},
   "source": []
  },
  {
   "cell_type": "code",
   "execution_count": null,
   "metadata": {},
   "outputs": [],
   "source": []
  }
 ],
 "metadata": {
  "kernelspec": {
   "display_name": "Python 3",
   "language": "python",
   "name": "python3"
  },
  "language_info": {
   "codemirror_mode": {
    "name": "ipython",
    "version": 3
   },
   "file_extension": ".py",
   "mimetype": "text/x-python",
   "name": "python",
   "nbconvert_exporter": "python",
   "pygments_lexer": "ipython3",
   "version": "3.6.7"
  }
 },
 "nbformat": 4,
 "nbformat_minor": 2
}
