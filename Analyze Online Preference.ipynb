{
 "cells": [
  {
   "cell_type": "markdown",
   "metadata": {},
   "source": [
    "# 수요예측 (Client 관점)\n",
    "#### #온라인 선호지수 이용해서 클러스터 분석해서 수요 트렌드 인사이트 내기\n",
    "\n",
    "- 온라인 구매선호지수만으로 예측\n",
    "\n",
    "\n",
    "#### #날짜별로 \n",
    "- LSTM\n",
    "\n",
    "#### #데이터 input\n",
    "[training data]\n",
    "- week1:2\n",
    "client1 : 제품 a 를 몇 개 구입\n",
    "client2: 제품 ㅇ를 몇 개 구입\n",
    "...\n",
    "- week3:4\n",
    "client 1: \n",
    "client 2:\n",
    "..\n",
    "..\n",
    "- week5:6\n",
    "client1:\n",
    "client2:\n",
    "\n",
    "[test data]\n",
    "- week 7:8\n",
    "client1:\n",
    "client2:\n",
    "...\n",
    "\n",
    "- week 11:12\n",
    "client1:\n",
    "client2:\n",
    "\n",
    "\n",
    "#### #데이터 output\n",
    "2 weeks별로 각 상품군이 몇개 팔릴 것인가,,,\n",
    "\n",
    "week 7:8부터\n",
    "\n",
    "week 11:12 까지 \n"
   ]
  },
  {
   "cell_type": "code",
   "execution_count": null,
   "metadata": {},
   "outputs": [],
   "source": [
    "import numpy as np\n",
    "import pandas as pd\n",
    "import sklearn\n",
    "from pandas import Series, DataFrame\n",
    "import seaborn as sns\n",
    "import matplotlib.pyplot as plt\n",
    "from pathlib import Path\n",
    "import os\n",
    "import pickle"
   ]
  },
  {
   "cell_type": "code",
   "execution_count": 176,
   "metadata": {},
   "outputs": [],
   "source": [
    "product = pd.read_csv(\"C:/Users/lsh93/Desktop/Lpoint/output/product.csv\",encoding = \"UTF-8\", index_col=0)\n",
    "search1 = pd.read_csv(\"C:/Users/lsh93/Desktop/Lpoint/data/Search1.csv\",encoding = \"UTF-8\")\n",
    "search2 = pd.read_csv(\"C:/Users/lsh93/Desktop/Lpoint/data/Search2.csv\",encoding = \"UTF-8\")\n",
    "custom = pd.read_csv(\"C:/Users/lsh93/Desktop/Lpoint/data/Custom.csv\",encoding = \"UTF-8\")\n",
    "session = pd.read_csv(\"C:/Users/lsh93/Desktop/Lpoint/data/Session.csv\",encoding = \"UTF-8\")\n",
    "master = pd.read_csv(\"C:/Users/lsh93/Desktop/Lpoint/data/Master.csv\",encoding = \"UTF-8\")"
   ]
  },
  {
   "cell_type": "code",
   "execution_count": 31,
   "metadata": {},
   "outputs": [],
   "source": [
    "#클러스터링 결과\n",
    "clustered_10000 = pd.read_csv(\"C:/Users/lsh93/Desktop/Lpoint/output2/clustered_10000.csv\", encoding = \"UTF-8\", index_col=0)\n",
    "clustered_20000 = pd.read_csv(\"C:/Users/lsh93/Desktop/Lpoint/output2/clustered_20000.csv\", encoding = \"UTF-8\", index_col=0)"
   ]
  },
  {
   "cell_type": "code",
   "execution_count": 105,
   "metadata": {},
   "outputs": [],
   "source": [
    "#10000명의 clients, 구매선호지수, cosine, kmeans적용\n",
    "opc1 = pd.read_csv(\"C:/Users/lsh93/Desktop/Lpoint/output2/Online_Preference_Count1.csv\", encoding = \"UTF-8\", index_col=0)\n",
    "#10000명의 clients, 검색선호지수, cosine, kmeans 적용\n",
    "ops1 = pd.read_csv(\"C:/Users/lsh93/Desktop/Lpoint/output2/Online_Preference_Search1.csv\", encoding = \"UTF-8\", index_col=0)\n",
    "#20000명의 clients, 검색선호지수, cosine, kmeans 적용\n",
    "ops2 = pd.read_csv(\"C:/Users/lsh93/Desktop/Lpoint/output2/Online_Preference_Search2.csv\", encoding = \"UTF-8\", index_col=0)\n",
    "#opc1과 ops2의 앙상블(교집합 client에 대한)결과\n",
    "ensemble_op = pd.read_csv(\"C:/Users/lsh93/Desktop/Lpoint/output2/ensemble_op.csv\", encoding = \"UTF-8\", index_col=0)"
   ]
  },
  {
   "cell_type": "code",
   "execution_count": 106,
   "metadata": {},
   "outputs": [],
   "source": [
    "#index to column, and rename column name\n",
    "opc1.reset_index(inplace=True)\n",
    "opc1 = opc1.rename(columns = {'index':'CLNT_ID'})\n",
    "ops1.reset_index(inplace=True)\n",
    "ops1 = ops1.rename(columns = {'index':'CLNT_ID'})\n",
    "ops2.reset_index(inplace=True)\n",
    "ops2 = ops2.rename(columns = {'index':'CLNT_ID'})\n",
    "ensemble_op.reset_index(inplace=True)\n",
    "ensemble_op = ensemble_op.rename(columns = {'index':'CLNT_ID'})"
   ]
  },
  {
   "cell_type": "markdown",
   "metadata": {},
   "source": [
    "## 1) 온라인 구매선호지수 이용하여 cluster별로 인사이트 도출하기\n",
    "\n",
    "- cluster 0,1,2,3 의 특성 도출 : 연령대, 성별\n",
    "- 각 클러스터 별로 상품군별 구매량 내림차순으로 정리"
   ]
  },
  {
   "cell_type": "code",
   "execution_count": 107,
   "metadata": {},
   "outputs": [
    {
     "data": {
      "text/plain": [
       "4082"
      ]
     },
     "execution_count": 107,
     "metadata": {},
     "output_type": "execute_result"
    }
   ],
   "source": [
    "#구매선호지수 계산에 사용된 4082명의 clients에 대해서만 군집정보 병합\n",
    "opc1 = pd.merge(opc1, clustered_10000[['CLNT_ID','TOTAL_AMOUNT','CLUSTER']])\n",
    "len(opc1['CLNT_ID'])"
   ]
  },
  {
   "cell_type": "code",
   "execution_count": 57,
   "metadata": {},
   "outputs": [
    {
     "name": "stdout",
     "output_type": "stream",
     "text": [
      "cluster0:  904 명\n",
      "cluster1:  3048 명\n",
      "cluster2:  7 명\n",
      "cluster3:  123 명\n"
     ]
    }
   ],
   "source": [
    "cluster0 = opc1[opc1['CLUSTER'] == 0]\n",
    "cluster1 = opc1[opc1['CLUSTER'] == 1]\n",
    "cluster2 = opc1[opc1['CLUSTER'] == 2]\n",
    "cluster3 = opc1[opc1['CLUSTER'] == 3]\n",
    "print('cluster0: ',len(cluster0),'명')\n",
    "print('cluster1: ',len(cluster1),'명')\n",
    "print('cluster2: ',len(cluster2),'명')\n",
    "print('cluster3: ',len(cluster3),'명')"
   ]
  },
  {
   "cell_type": "code",
   "execution_count": 108,
   "metadata": {},
   "outputs": [
    {
     "name": "stdout",
     "output_type": "stream",
     "text": [
      "cluster0:  904 명\n",
      "cluster1:  3048 명\n",
      "cluster2:  7 명\n",
      "cluster3:  123 명\n"
     ]
    }
   ],
   "source": [
    "cluster0 = pd.merge(cluster0, custom)\n",
    "cluster1 = pd.merge(cluster1, custom)\n",
    "cluster2 = pd.merge(cluster2, custom)\n",
    "cluster3 = pd.merge(cluster3, custom)\n",
    "print('cluster0: ',len(cluster0),'명')\n",
    "print('cluster1: ',len(cluster1),'명')\n",
    "print('cluster2: ',len(cluster2),'명')\n",
    "print('cluster3: ',len(cluster3),'명')"
   ]
  },
  {
   "cell_type": "code",
   "execution_count": 109,
   "metadata": {
    "scrolled": true
   },
   "outputs": [
    {
     "data": {
      "text/html": [
       "<div>\n",
       "<style scoped>\n",
       "    .dataframe tbody tr th:only-of-type {\n",
       "        vertical-align: middle;\n",
       "    }\n",
       "\n",
       "    .dataframe tbody tr th {\n",
       "        vertical-align: top;\n",
       "    }\n",
       "\n",
       "    .dataframe thead th {\n",
       "        text-align: right;\n",
       "    }\n",
       "</style>\n",
       "<table border=\"1\" class=\"dataframe\">\n",
       "  <thead>\n",
       "    <tr style=\"text-align: right;\">\n",
       "      <th></th>\n",
       "      <th>CLNT_ID</th>\n",
       "      <th>스포츠패션</th>\n",
       "      <th>남성의류</th>\n",
       "      <th>유아동의류</th>\n",
       "      <th>청소/세탁/욕실용품</th>\n",
       "      <th>완구</th>\n",
       "      <th>패션잡화</th>\n",
       "      <th>시즌스포츠</th>\n",
       "      <th>여성의류</th>\n",
       "      <th>인테리어/조명</th>\n",
       "      <th>...</th>\n",
       "      <th>냉장식품</th>\n",
       "      <th>원예/애완</th>\n",
       "      <th>상품권</th>\n",
       "      <th>자동차용품</th>\n",
       "      <th>축산물</th>\n",
       "      <th>영상/음향가전</th>\n",
       "      <th>TOTAL_AMOUNT</th>\n",
       "      <th>CLUSTER</th>\n",
       "      <th>CLNT_GENDER</th>\n",
       "      <th>CLNT_AGE</th>\n",
       "    </tr>\n",
       "  </thead>\n",
       "  <tbody>\n",
       "    <tr>\n",
       "      <th>0</th>\n",
       "      <td>3281841</td>\n",
       "      <td>10.677918</td>\n",
       "      <td>2.788626</td>\n",
       "      <td>2.905331</td>\n",
       "      <td>0.703344</td>\n",
       "      <td>0.234448</td>\n",
       "      <td>3.951522</td>\n",
       "      <td>0.252839</td>\n",
       "      <td>2.487330</td>\n",
       "      <td>0.000000</td>\n",
       "      <td>...</td>\n",
       "      <td>0.0</td>\n",
       "      <td>0.0</td>\n",
       "      <td>0.000000</td>\n",
       "      <td>0.0</td>\n",
       "      <td>0.0</td>\n",
       "      <td>0.0</td>\n",
       "      <td>45</td>\n",
       "      <td>0</td>\n",
       "      <td>F</td>\n",
       "      <td>30</td>\n",
       "    </tr>\n",
       "    <tr>\n",
       "      <th>1</th>\n",
       "      <td>3431781</td>\n",
       "      <td>2.003078</td>\n",
       "      <td>8.482604</td>\n",
       "      <td>6.495382</td>\n",
       "      <td>0.000000</td>\n",
       "      <td>0.000000</td>\n",
       "      <td>0.244496</td>\n",
       "      <td>0.244496</td>\n",
       "      <td>0.511007</td>\n",
       "      <td>0.000000</td>\n",
       "      <td>...</td>\n",
       "      <td>0.0</td>\n",
       "      <td>0.0</td>\n",
       "      <td>0.000000</td>\n",
       "      <td>0.0</td>\n",
       "      <td>0.0</td>\n",
       "      <td>0.0</td>\n",
       "      <td>33</td>\n",
       "      <td>0</td>\n",
       "      <td>F</td>\n",
       "      <td>40</td>\n",
       "    </tr>\n",
       "    <tr>\n",
       "      <th>2</th>\n",
       "      <td>6195657</td>\n",
       "      <td>1.034911</td>\n",
       "      <td>0.995647</td>\n",
       "      <td>23.068621</td>\n",
       "      <td>0.000000</td>\n",
       "      <td>0.000000</td>\n",
       "      <td>2.908747</td>\n",
       "      <td>1.489075</td>\n",
       "      <td>2.789606</td>\n",
       "      <td>0.696734</td>\n",
       "      <td>...</td>\n",
       "      <td>0.0</td>\n",
       "      <td>0.0</td>\n",
       "      <td>0.000000</td>\n",
       "      <td>0.0</td>\n",
       "      <td>0.0</td>\n",
       "      <td>0.0</td>\n",
       "      <td>66</td>\n",
       "      <td>0</td>\n",
       "      <td>F</td>\n",
       "      <td>40</td>\n",
       "    </tr>\n",
       "    <tr>\n",
       "      <th>3</th>\n",
       "      <td>5703539</td>\n",
       "      <td>3.723149</td>\n",
       "      <td>1.538078</td>\n",
       "      <td>15.218197</td>\n",
       "      <td>0.756274</td>\n",
       "      <td>0.000000</td>\n",
       "      <td>4.522500</td>\n",
       "      <td>0.996683</td>\n",
       "      <td>4.084759</td>\n",
       "      <td>0.000000</td>\n",
       "      <td>...</td>\n",
       "      <td>0.0</td>\n",
       "      <td>0.0</td>\n",
       "      <td>0.255409</td>\n",
       "      <td>0.0</td>\n",
       "      <td>0.0</td>\n",
       "      <td>0.0</td>\n",
       "      <td>73</td>\n",
       "      <td>0</td>\n",
       "      <td>F</td>\n",
       "      <td>30</td>\n",
       "    </tr>\n",
       "    <tr>\n",
       "      <th>4</th>\n",
       "      <td>321800</td>\n",
       "      <td>7.863357</td>\n",
       "      <td>5.596101</td>\n",
       "      <td>20.707539</td>\n",
       "      <td>0.000000</td>\n",
       "      <td>0.256729</td>\n",
       "      <td>4.542579</td>\n",
       "      <td>2.694427</td>\n",
       "      <td>5.881681</td>\n",
       "      <td>0.000000</td>\n",
       "      <td>...</td>\n",
       "      <td>0.0</td>\n",
       "      <td>0.0</td>\n",
       "      <td>0.000000</td>\n",
       "      <td>0.0</td>\n",
       "      <td>0.0</td>\n",
       "      <td>0.0</td>\n",
       "      <td>77</td>\n",
       "      <td>0</td>\n",
       "      <td>F</td>\n",
       "      <td>40</td>\n",
       "    </tr>\n",
       "  </tbody>\n",
       "</table>\n",
       "<p>5 rows × 42 columns</p>\n",
       "</div>"
      ],
      "text/plain": [
       "   CLNT_ID      스포츠패션      남성의류      유아동의류  청소/세탁/욕실용품        완구      패션잡화  \\\n",
       "0  3281841  10.677918  2.788626   2.905331    0.703344  0.234448  3.951522   \n",
       "1  3431781   2.003078  8.482604   6.495382    0.000000  0.000000  0.244496   \n",
       "2  6195657   1.034911  0.995647  23.068621    0.000000  0.000000  2.908747   \n",
       "3  5703539   3.723149  1.538078  15.218197    0.756274  0.000000  4.522500   \n",
       "4   321800   7.863357  5.596101  20.707539    0.000000  0.256729  4.542579   \n",
       "\n",
       "      시즌스포츠      여성의류   인테리어/조명    ...     냉장식품  원예/애완       상품권  자동차용품  축산물  \\\n",
       "0  0.252839  2.487330  0.000000    ...      0.0    0.0  0.000000    0.0  0.0   \n",
       "1  0.244496  0.511007  0.000000    ...      0.0    0.0  0.000000    0.0  0.0   \n",
       "2  1.489075  2.789606  0.696734    ...      0.0    0.0  0.000000    0.0  0.0   \n",
       "3  0.996683  4.084759  0.000000    ...      0.0    0.0  0.255409    0.0  0.0   \n",
       "4  2.694427  5.881681  0.000000    ...      0.0    0.0  0.000000    0.0  0.0   \n",
       "\n",
       "   영상/음향가전  TOTAL_AMOUNT  CLUSTER  CLNT_GENDER  CLNT_AGE  \n",
       "0      0.0            45        0            F        30  \n",
       "1      0.0            33        0            F        40  \n",
       "2      0.0            66        0            F        40  \n",
       "3      0.0            73        0            F        30  \n",
       "4      0.0            77        0            F        40  \n",
       "\n",
       "[5 rows x 42 columns]"
      ]
     },
     "execution_count": 109,
     "metadata": {},
     "output_type": "execute_result"
    }
   ],
   "source": [
    "cluster0.head()"
   ]
  },
  {
   "cell_type": "code",
   "execution_count": 163,
   "metadata": {},
   "outputs": [
    {
     "name": "stdout",
     "output_type": "stream",
     "text": [
      "*cluster 0 : \n",
      "\n",
      "1. 연령분포:\n",
      " 40    422\n",
      "30    379\n",
      "20     50\n",
      "50     45\n",
      "60      5\n",
      "80      1\n",
      "70      1\n",
      "10      1\n",
      "Name: CLNT_AGE, dtype: int64\n",
      "\n",
      "2. 나이분포:\n",
      " F    836\n",
      "M     68\n",
      "Name: CLNT_GENDER, dtype: int64\n",
      "\n",
      "3. 제품군분포:\n",
      " 여성의류        7627.75\n",
      "화장품/뷰티케어    5838.13\n",
      "유아동의류          4241\n",
      "스포츠패션       4137.89\n",
      "dtype: object\n"
     ]
    },
    {
     "data": {
      "text/plain": [
       "<matplotlib.collections.PathCollection at 0x1fc83f255f8>"
      ]
     },
     "execution_count": 163,
     "metadata": {},
     "output_type": "execute_result"
    },
    {
     "data": {
      "image/png": "[encoded data removed]",
      "text/plain": [
       "<Figure size 432x288 with 1 Axes>"
      ]
     },
     "metadata": {
      "needs_background": "light"
     },
     "output_type": "display_data"
    }
   ],
   "source": [
    "print('*cluster 0 : \\n')\n",
    "print('1. 연령분포:\\n',cluster0['CLNT_AGE'].value_counts())\n",
    "print()\n",
    "print('2. 나이분포:\\n',cluster0['CLNT_GENDER'].value_counts())\n",
    "print()\n",
    "sum0 = cluster0.sum()\n",
    "sum0 = sum0[1:38]\n",
    "sum0 = sum0.sort_values(ascending = False)\n",
    "print('3. 제품군분포:\\n',sum0[0:4])\n",
    "plt.scatter(sum0.index.values, sum0.values)"
   ]
  },
  {
   "cell_type": "code",
   "execution_count": 162,
   "metadata": {},
   "outputs": [
    {
     "name": "stdout",
     "output_type": "stream",
     "text": [
      "*cluster 1 : \n",
      "\n",
      "1. 연령분포:\n",
      " 30    1472\n",
      "40    1078\n",
      "20     341\n",
      "50     108\n",
      "10      36\n",
      "60      13\n",
      "Name: CLNT_AGE, dtype: int64\n",
      "\n",
      "2. 나이분포:\n",
      " F    2761\n",
      "M     287\n",
      "Name: CLNT_GENDER, dtype: int64\n",
      "\n",
      "3. 제품군분포:\n",
      " 화장품/뷰티케어    6448.29\n",
      "스포츠패션       4998.45\n",
      "유아동의류       4896.07\n",
      "여성의류        4710.75\n",
      "dtype: object\n"
     ]
    },
    {
     "data": {
      "text/plain": [
       "<matplotlib.collections.PathCollection at 0x1fc83ea8ac8>"
      ]
     },
     "execution_count": 162,
     "metadata": {},
     "output_type": "execute_result"
    },
    {
     "data": {
      "image/png": "[encoded data removed]",
      "text/plain": [
       "<Figure size 432x288 with 1 Axes>"
      ]
     },
     "metadata": {
      "needs_background": "light"
     },
     "output_type": "display_data"
    }
   ],
   "source": [
    "print('*cluster 1 : \\n')\n",
    "print('1. 연령분포:\\n',cluster1['CLNT_AGE'].value_counts())\n",
    "print()\n",
    "print('2. 나이분포:\\n',cluster1['CLNT_GENDER'].value_counts())\n",
    "print()\n",
    "sum1 = cluster1.sum()\n",
    "sum1 = sum1[1:38]\n",
    "sum1 = sum1.sort_values(ascending = False)\n",
    "print('3. 제품군분포:\\n',sum1[0:4])\n",
    "plt.scatter(sum1.index.values, sum1.values)"
   ]
  },
  {
   "cell_type": "code",
   "execution_count": 168,
   "metadata": {},
   "outputs": [
    {
     "name": "stdout",
     "output_type": "stream",
     "text": [
      "*cluster 2 : \n",
      "\n",
      "1. 연령분포:\n",
      " 40    4\n",
      "30    3\n",
      "Name: CLNT_AGE, dtype: int64\n",
      "\n",
      "2. 나이분포:\n",
      " F    7\n",
      "Name: CLNT_GENDER, dtype: int64\n",
      "\n",
      "3. 제품군분포:\n",
      " 여성의류        495.972\n",
      "스포츠패션       167.035\n",
      "화장품/뷰티케어    147.129\n",
      "남성의류         117.16\n",
      "dtype: object\n",
      "4. 총 구매량:\n",
      " 1336.8377717160656\n"
     ]
    },
    {
     "data": {
      "text/plain": [
       "<matplotlib.collections.PathCollection at 0x1fc84864828>"
      ]
     },
     "execution_count": 168,
     "metadata": {},
     "output_type": "execute_result"
    },
    {
     "data": {
      "image/png": "[encoded data removed]",
      "text/plain": [
       "<Figure size 432x288 with 1 Axes>"
      ]
     },
     "metadata": {
      "needs_background": "light"
     },
     "output_type": "display_data"
    }
   ],
   "source": [
    "print('*cluster 2 : \\n')\n",
    "print('1. 연령분포:\\n',cluster2['CLNT_AGE'].value_counts())\n",
    "print()\n",
    "print('2. 나이분포:\\n',cluster2['CLNT_GENDER'].value_counts())\n",
    "print()\n",
    "sum2 = cluster2.sum()\n",
    "sum2 = sum2[1:38]\n",
    "sum2 = sum2.sort_values(ascending = False)\n",
    "print('3. 제품군분포:\\n',sum2[0:4])\n",
    "print('4. 총 구매량:\\n',sum2.sum())\n",
    "plt.scatter(sum2.index.values, sum2.values)"
   ]
  },
  {
   "cell_type": "code",
   "execution_count": 160,
   "metadata": {},
   "outputs": [
    {
     "name": "stdout",
     "output_type": "stream",
     "text": [
      "*cluster 3 : \n",
      "\n",
      "1. 연령분포:\n",
      " 40    64\n",
      "30    44\n",
      "50    11\n",
      "20     2\n",
      "70     1\n",
      "60     1\n",
      "Name: CLNT_AGE, dtype: int64\n",
      "\n",
      "2. 나이분포:\n",
      " F    112\n",
      "M     11\n",
      "Name: CLNT_GENDER, dtype: int64\n",
      "\n",
      "3. 제품군분포:\n",
      " 여성의류        3076.93\n",
      "화장품/뷰티케어    1421.52\n",
      "스포츠패션       1042.69\n",
      "남성의류        1004.02\n",
      "dtype: object\n"
     ]
    },
    {
     "data": {
      "text/plain": [
       "<matplotlib.collections.PathCollection at 0x1fc83b8db38>"
      ]
     },
     "execution_count": 160,
     "metadata": {},
     "output_type": "execute_result"
    },
    {
     "data": {
      "image/png": "[encoded data removed]",
      "text/plain": [
       "<Figure size 432x288 with 1 Axes>"
      ]
     },
     "metadata": {
      "needs_background": "light"
     },
     "output_type": "display_data"
    }
   ],
   "source": [
    "print('*cluster 3 : \\n')\n",
    "print('1. 연령분포:\\n',cluster3['CLNT_AGE'].value_counts())\n",
    "print()\n",
    "print('2. 나이분포:\\n',cluster3['CLNT_GENDER'].value_counts())\n",
    "print()\n",
    "sum3 = cluster3.sum()\n",
    "sum3 = sum3[1:38]\n",
    "sum3 = sum3.sort_values(ascending = False)\n",
    "print('3. 제품군분포:\\n',sum3[0:4])\n",
    "plt.scatter(sum3.index.values, sum3.values)"
   ]
  },
  {
   "cell_type": "markdown",
   "metadata": {},
   "source": [
    "## 2)날짜별로, 제품군 수요 예측하기"
   ]
  },
  {
   "cell_type": "markdown",
   "metadata": {},
   "source": [
    "- 데이터 정리"
   ]
  },
  {
   "cell_type": "code",
   "execution_count": 175,
   "metadata": {},
   "outputs": [
    {
     "data": {
      "text/html": [
       "<div>\n",
       "<style scoped>\n",
       "    .dataframe tbody tr th:only-of-type {\n",
       "        vertical-align: middle;\n",
       "    }\n",
       "\n",
       "    .dataframe tbody tr th {\n",
       "        vertical-align: top;\n",
       "    }\n",
       "\n",
       "    .dataframe thead th {\n",
       "        text-align: right;\n",
       "    }\n",
       "</style>\n",
       "<table border=\"1\" class=\"dataframe\">\n",
       "  <thead>\n",
       "    <tr style=\"text-align: right;\">\n",
       "      <th></th>\n",
       "      <th>Unnamed: 0</th>\n",
       "      <th>CLNT_ID</th>\n",
       "      <th>SESS_ID</th>\n",
       "      <th>HITS_SEQ</th>\n",
       "      <th>PD_C</th>\n",
       "      <th>PD_ADD_NM</th>\n",
       "      <th>PD_BRA_NM</th>\n",
       "      <th>PD_BUY_AM</th>\n",
       "      <th>PD_BUY_CT</th>\n",
       "    </tr>\n",
       "  </thead>\n",
       "  <tbody>\n",
       "    <tr>\n",
       "      <th>0</th>\n",
       "      <td>1</td>\n",
       "      <td>4140076</td>\n",
       "      <td>10189797</td>\n",
       "      <td>13</td>\n",
       "      <td>570603</td>\n",
       "      <td>색상:BLK0_(BLK0)BLACK|사이즈:120 / 2개</td>\n",
       "      <td>데상트</td>\n",
       "      <td>39,000</td>\n",
       "      <td>2</td>\n",
       "    </tr>\n",
       "    <tr>\n",
       "      <th>1</th>\n",
       "      <td>132425</td>\n",
       "      <td>4140076</td>\n",
       "      <td>10342512</td>\n",
       "      <td>23</td>\n",
       "      <td>422358</td>\n",
       "      <td>선택:02.204143-02S|사이즈:M5W7(240) / 1개</td>\n",
       "      <td>크록스</td>\n",
       "      <td>39,900</td>\n",
       "      <td>1</td>\n",
       "    </tr>\n",
       "    <tr>\n",
       "      <th>2</th>\n",
       "      <td>647279</td>\n",
       "      <td>4140076</td>\n",
       "      <td>6526651</td>\n",
       "      <td>22</td>\n",
       "      <td>196272</td>\n",
       "      <td>색상:선택3)248(네이비)|사이즈:L(105) / 1개</td>\n",
       "      <td>프레드페리</td>\n",
       "      <td>47,600</td>\n",
       "      <td>1</td>\n",
       "    </tr>\n",
       "    <tr>\n",
       "      <th>3</th>\n",
       "      <td>673008</td>\n",
       "      <td>4140076</td>\n",
       "      <td>8326529</td>\n",
       "      <td>199</td>\n",
       "      <td>305965</td>\n",
       "      <td>사이즈:115_3XL / 1개</td>\n",
       "      <td>아디다스(의류)</td>\n",
       "      <td>46,700</td>\n",
       "      <td>1</td>\n",
       "    </tr>\n",
       "    <tr>\n",
       "      <th>4</th>\n",
       "      <td>720869</td>\n",
       "      <td>4140076</td>\n",
       "      <td>8891563</td>\n",
       "      <td>19</td>\n",
       "      <td>305965</td>\n",
       "      <td>사이즈:115_3XL / 1개</td>\n",
       "      <td>아디다스(의류)</td>\n",
       "      <td>46,700</td>\n",
       "      <td>1</td>\n",
       "    </tr>\n",
       "  </tbody>\n",
       "</table>\n",
       "</div>"
      ],
      "text/plain": [
       "   Unnamed: 0  CLNT_ID   SESS_ID  HITS_SEQ    PD_C  \\\n",
       "0           1  4140076  10189797        13  570603   \n",
       "1      132425  4140076  10342512        23  422358   \n",
       "2      647279  4140076   6526651        22  196272   \n",
       "3      673008  4140076   8326529       199  305965   \n",
       "4      720869  4140076   8891563        19  305965   \n",
       "\n",
       "                             PD_ADD_NM PD_BRA_NM PD_BUY_AM  PD_BUY_CT  \n",
       "0     색상:BLK0_(BLK0)BLACK|사이즈:120 / 2개       데상트    39,000          2  \n",
       "1  선택:02.204143-02S|사이즈:M5W7(240) / 1개       크록스    39,900          1  \n",
       "2      색상:선택3)248(네이비)|사이즈:L(105) / 1개     프레드페리    47,600          1  \n",
       "3                     사이즈:115_3XL / 1개  아디다스(의류)    46,700          1  \n",
       "4                     사이즈:115_3XL / 1개  아디다스(의류)    46,700          1  "
      ]
     },
     "execution_count": 175,
     "metadata": {},
     "output_type": "execute_result"
    }
   ],
   "source": [
    "#10000명 샘플링 한 결과를 이용해 보자 \n",
    "clients = clustered_10000\n",
    "product.head()"
   ]
  },
  {
   "cell_type": "code",
   "execution_count": 172,
   "metadata": {},
   "outputs": [
    {
     "data": {
      "text/plain": [
       "10001"
      ]
     },
     "execution_count": 172,
     "metadata": {},
     "output_type": "execute_result"
    }
   ],
   "source": [
    "product = pd.merge(product, clients[['CLNT_ID']])\n",
    "len(product['CLNT_ID'].unique())"
   ]
  },
  {
   "cell_type": "code",
   "execution_count": 173,
   "metadata": {},
   "outputs": [
    {
     "data": {
      "text/html": [
       "<div>\n",
       "<style scoped>\n",
       "    .dataframe tbody tr th:only-of-type {\n",
       "        vertical-align: middle;\n",
       "    }\n",
       "\n",
       "    .dataframe tbody tr th {\n",
       "        vertical-align: top;\n",
       "    }\n",
       "\n",
       "    .dataframe thead th {\n",
       "        text-align: right;\n",
       "    }\n",
       "</style>\n",
       "<table border=\"1\" class=\"dataframe\">\n",
       "  <thead>\n",
       "    <tr style=\"text-align: right;\">\n",
       "      <th></th>\n",
       "      <th>Unnamed: 0</th>\n",
       "      <th>CLNT_ID</th>\n",
       "      <th>SESS_ID</th>\n",
       "      <th>HITS_SEQ</th>\n",
       "      <th>PD_C</th>\n",
       "      <th>PD_ADD_NM</th>\n",
       "      <th>PD_BRA_NM</th>\n",
       "      <th>PD_BUY_AM</th>\n",
       "      <th>PD_BUY_CT</th>\n",
       "    </tr>\n",
       "  </thead>\n",
       "  <tbody>\n",
       "    <tr>\n",
       "      <th>0</th>\n",
       "      <td>1</td>\n",
       "      <td>4140076</td>\n",
       "      <td>10189797</td>\n",
       "      <td>13</td>\n",
       "      <td>570603</td>\n",
       "      <td>색상:BLK0_(BLK0)BLACK|사이즈:120 / 2개</td>\n",
       "      <td>데상트</td>\n",
       "      <td>39,000</td>\n",
       "      <td>2</td>\n",
       "    </tr>\n",
       "    <tr>\n",
       "      <th>1</th>\n",
       "      <td>132425</td>\n",
       "      <td>4140076</td>\n",
       "      <td>10342512</td>\n",
       "      <td>23</td>\n",
       "      <td>422358</td>\n",
       "      <td>선택:02.204143-02S|사이즈:M5W7(240) / 1개</td>\n",
       "      <td>크록스</td>\n",
       "      <td>39,900</td>\n",
       "      <td>1</td>\n",
       "    </tr>\n",
       "    <tr>\n",
       "      <th>2</th>\n",
       "      <td>647279</td>\n",
       "      <td>4140076</td>\n",
       "      <td>6526651</td>\n",
       "      <td>22</td>\n",
       "      <td>196272</td>\n",
       "      <td>색상:선택3)248(네이비)|사이즈:L(105) / 1개</td>\n",
       "      <td>프레드페리</td>\n",
       "      <td>47,600</td>\n",
       "      <td>1</td>\n",
       "    </tr>\n",
       "    <tr>\n",
       "      <th>3</th>\n",
       "      <td>673008</td>\n",
       "      <td>4140076</td>\n",
       "      <td>8326529</td>\n",
       "      <td>199</td>\n",
       "      <td>305965</td>\n",
       "      <td>사이즈:115_3XL / 1개</td>\n",
       "      <td>아디다스(의류)</td>\n",
       "      <td>46,700</td>\n",
       "      <td>1</td>\n",
       "    </tr>\n",
       "    <tr>\n",
       "      <th>4</th>\n",
       "      <td>720869</td>\n",
       "      <td>4140076</td>\n",
       "      <td>8891563</td>\n",
       "      <td>19</td>\n",
       "      <td>305965</td>\n",
       "      <td>사이즈:115_3XL / 1개</td>\n",
       "      <td>아디다스(의류)</td>\n",
       "      <td>46,700</td>\n",
       "      <td>1</td>\n",
       "    </tr>\n",
       "  </tbody>\n",
       "</table>\n",
       "</div>"
      ],
      "text/plain": [
       "   Unnamed: 0  CLNT_ID   SESS_ID  HITS_SEQ    PD_C  \\\n",
       "0           1  4140076  10189797        13  570603   \n",
       "1      132425  4140076  10342512        23  422358   \n",
       "2      647279  4140076   6526651        22  196272   \n",
       "3      673008  4140076   8326529       199  305965   \n",
       "4      720869  4140076   8891563        19  305965   \n",
       "\n",
       "                             PD_ADD_NM PD_BRA_NM PD_BUY_AM  PD_BUY_CT  \n",
       "0     색상:BLK0_(BLK0)BLACK|사이즈:120 / 2개       데상트    39,000          2  \n",
       "1  선택:02.204143-02S|사이즈:M5W7(240) / 1개       크록스    39,900          1  \n",
       "2      색상:선택3)248(네이비)|사이즈:L(105) / 1개     프레드페리    47,600          1  \n",
       "3                     사이즈:115_3XL / 1개  아디다스(의류)    46,700          1  \n",
       "4                     사이즈:115_3XL / 1개  아디다스(의류)    46,700          1  "
      ]
     },
     "execution_count": 173,
     "metadata": {},
     "output_type": "execute_result"
    }
   ],
   "source": [
    "product.head()"
   ]
  },
  {
   "cell_type": "code",
   "execution_count": null,
   "metadata": {},
   "outputs": [],
   "source": []
  }
 ],
 "metadata": {
  "kernelspec": {
   "display_name": "Python 3",
   "language": "python",
   "name": "python3"
  },
  "language_info": {
   "codemirror_mode": {
    "name": "ipython",
    "version": 3
   },
   "file_extension": ".py",
   "mimetype": "text/x-python",
   "name": "python",
   "nbconvert_exporter": "python",
   "pygments_lexer": "ipython3",
   "version": "3.7.1"
  }
 },
 "nbformat": 4,
 "nbformat_minor": 2
}
