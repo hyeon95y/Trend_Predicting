{
 "cells": [
  {
   "cell_type": "markdown",
   "metadata": {},
   "source": [
    "# Trend Predicting\n",
    "\n",
    "* **Problem**: Trend Predicting based on user behaviors\n",
    "* **Description**: \n",
    "  * Create online preference index for each major product group\n",
    "  * Predict demand trends and draw insights by product group\n",
    "  * Suggest new service from 1), 2)\n",
    "* **Dataset**: ? non-numeric column, and ? numeric columns\n",
    "  * ? : ?\n",
    "  * Non-numeric columns:\n",
    "    * 16 non-numeric columns : ?\n",
    "  * Numeric columns: \n",
    "    * 104 numeric columns : ?\n",
    " \n"
   ]
  },
  {
   "cell_type": "code",
   "execution_count": 1,
   "metadata": {},
   "outputs": [],
   "source": [
    "%matplotlib inline\n",
    "%load_ext autoreload\n",
    "%autoreload 2"
   ]
  },
  {
   "cell_type": "code",
   "execution_count": 2,
   "metadata": {},
   "outputs": [],
   "source": [
    "import pandas as pd\n",
    "import numpy as np\n",
    "import matplotlib.pyplot as plt\n",
    "import seaborn as sns\n",
    "\n",
    "from pathlib import Path\n",
    "import os\n",
    "import datetime"
   ]
  },
  {
   "cell_type": "code",
   "execution_count": 3,
   "metadata": {},
   "outputs": [
    {
     "name": "stderr",
     "output_type": "stream",
     "text": [
      "/Library/Frameworks/Python.framework/Versions/3.6/lib/python3.6/site-packages/IPython/core/interactiveshell.py:3020: DtypeWarning: Columns (7) have mixed types. Specify dtype option on import or set low_memory=False.\n",
      "  interactivity=interactivity, compiler=compiler, result=result)\n"
     ]
    }
   ],
   "source": [
    "path = Path().resolve().parents[0]\n",
    "product = pd.read_csv(os.path.join(path, 'Dataset', 'Product.csv'))\n",
    "search1 = pd.read_csv(os.path.join(path, 'Dataset', 'Search1.csv'))\n",
    "search2 = pd.read_csv(os.path.join(path, 'Dataset', 'Search2.csv'))\n",
    "custom = pd.read_csv(os.path.join(path, 'Dataset', 'Custom.csv'))\n",
    "session = pd.read_csv(os.path.join(path, 'Dataset', 'Session.csv'))\n",
    "master = pd.read_csv(os.path.join(path, 'Dataset', 'Master.csv'))"
   ]
  },
  {
   "cell_type": "code",
   "execution_count": 4,
   "metadata": {},
   "outputs": [
    {
     "name": "stdout",
     "output_type": "stream",
     "text": [
      "product shape :  (5024906, 8)\n",
      "search1 shape :  (2884943, 4)\n",
      "search2 shape :  (8051172, 3)\n",
      "custom shape :  (671679, 3)\n",
      "session shape :  (2712907, 9)\n",
      "master shape :  (847652, 5)\n"
     ]
    }
   ],
   "source": [
    "print('product shape : ', product.shape)\n",
    "print('search1 shape : ', search1.shape)\n",
    "print('search2 shape : ', search2.shape)\n",
    "print('custom shape : ', custom.shape)\n",
    "print('session shape : ', session.shape)\n",
    "print('master shape : ', master.shape)"
   ]
  },
  {
   "cell_type": "code",
   "execution_count": 5,
   "metadata": {},
   "outputs": [],
   "source": [
    "search1 = pd.merge(search1, session)\n",
    "search1 = search1.drop(['CLNT_ID', 'SESS_ID', 'TOT_PAG_VIEW_CT', 'TOT_SESS_HR_V', 'DVC_CTG_NM', 'ZON_NM', 'CITY_NM', 'SESS_SEQ'], axis=1)"
   ]
  },
  {
   "cell_type": "code",
   "execution_count": 6,
   "metadata": {},
   "outputs": [
    {
     "data": {
      "text/html": [
       "<div>\n",
       "<style scoped>\n",
       "    .dataframe tbody tr th:only-of-type {\n",
       "        vertical-align: middle;\n",
       "    }\n",
       "\n",
       "    .dataframe tbody tr th {\n",
       "        vertical-align: top;\n",
       "    }\n",
       "\n",
       "    .dataframe thead th {\n",
       "        text-align: right;\n",
       "    }\n",
       "</style>\n",
       "<table border=\"1\" class=\"dataframe\">\n",
       "  <thead>\n",
       "    <tr style=\"text-align: right;\">\n",
       "      <th></th>\n",
       "      <th>KWD_NM</th>\n",
       "      <th>SEARCH_CNT</th>\n",
       "      <th>SESS_DT</th>\n",
       "    </tr>\n",
       "  </thead>\n",
       "  <tbody>\n",
       "    <tr>\n",
       "      <th>0</th>\n",
       "      <td>빌리프 아이크림</td>\n",
       "      <td>6</td>\n",
       "      <td>20180603</td>\n",
       "    </tr>\n",
       "    <tr>\n",
       "      <th>1</th>\n",
       "      <td>헤라 베이스</td>\n",
       "      <td>1</td>\n",
       "      <td>20180603</td>\n",
       "    </tr>\n",
       "    <tr>\n",
       "      <th>2</th>\n",
       "      <td>헤라</td>\n",
       "      <td>1</td>\n",
       "      <td>20180603</td>\n",
       "    </tr>\n",
       "    <tr>\n",
       "      <th>3</th>\n",
       "      <td>프리메라 마스크팩</td>\n",
       "      <td>3</td>\n",
       "      <td>20180723</td>\n",
       "    </tr>\n",
       "    <tr>\n",
       "      <th>4</th>\n",
       "      <td>여성청결제</td>\n",
       "      <td>1</td>\n",
       "      <td>20180723</td>\n",
       "    </tr>\n",
       "  </tbody>\n",
       "</table>\n",
       "</div>"
      ],
      "text/plain": [
       "      KWD_NM  SEARCH_CNT   SESS_DT\n",
       "0   빌리프 아이크림           6  20180603\n",
       "1     헤라 베이스           1  20180603\n",
       "2         헤라           1  20180603\n",
       "3  프리메라 마스크팩           3  20180723\n",
       "4      여성청결제           1  20180723"
      ]
     },
     "execution_count": 6,
     "metadata": {},
     "output_type": "execute_result"
    }
   ],
   "source": [
    "search1.head()"
   ]
  },
  {
   "cell_type": "code",
   "execution_count": 7,
   "metadata": {},
   "outputs": [
    {
     "data": {
      "text/html": [
       "<div>\n",
       "<style scoped>\n",
       "    .dataframe tbody tr th:only-of-type {\n",
       "        vertical-align: middle;\n",
       "    }\n",
       "\n",
       "    .dataframe tbody tr th {\n",
       "        vertical-align: top;\n",
       "    }\n",
       "\n",
       "    .dataframe thead th {\n",
       "        text-align: right;\n",
       "    }\n",
       "</style>\n",
       "<table border=\"1\" class=\"dataframe\">\n",
       "  <thead>\n",
       "    <tr style=\"text-align: right;\">\n",
       "      <th></th>\n",
       "      <th>SESS_DT</th>\n",
       "      <th>KWD_NM</th>\n",
       "      <th>SEARCH_CNT</th>\n",
       "    </tr>\n",
       "  </thead>\n",
       "  <tbody>\n",
       "    <tr>\n",
       "      <th>0</th>\n",
       "      <td>20180407</td>\n",
       "      <td>닥스원피스</td>\n",
       "      <td>8</td>\n",
       "    </tr>\n",
       "    <tr>\n",
       "      <th>1</th>\n",
       "      <td>20180407</td>\n",
       "      <td>닥터지 브라이트닝</td>\n",
       "      <td>1</td>\n",
       "    </tr>\n",
       "    <tr>\n",
       "      <th>2</th>\n",
       "      <td>20180407</td>\n",
       "      <td>달팡 인트랄</td>\n",
       "      <td>2</td>\n",
       "    </tr>\n",
       "    <tr>\n",
       "      <th>3</th>\n",
       "      <td>20180407</td>\n",
       "      <td>대상트</td>\n",
       "      <td>1</td>\n",
       "    </tr>\n",
       "    <tr>\n",
       "      <th>4</th>\n",
       "      <td>20180407</td>\n",
       "      <td>더블유닷</td>\n",
       "      <td>6</td>\n",
       "    </tr>\n",
       "  </tbody>\n",
       "</table>\n",
       "</div>"
      ],
      "text/plain": [
       "    SESS_DT     KWD_NM SEARCH_CNT\n",
       "0  20180407      닥스원피스          8\n",
       "1  20180407  닥터지 브라이트닝          1\n",
       "2  20180407     달팡 인트랄          2\n",
       "3  20180407        대상트          1\n",
       "4  20180407       더블유닷          6"
      ]
     },
     "execution_count": 7,
     "metadata": {},
     "output_type": "execute_result"
    }
   ],
   "source": [
    "search2.head()"
   ]
  },
  {
   "cell_type": "code",
   "execution_count": 8,
   "metadata": {},
   "outputs": [
    {
     "name": "stdout",
     "output_type": "stream",
     "text": [
      "(8051172,)\n",
      "(84607,)\n"
     ]
    },
    {
     "data": {
      "text/plain": [
       "array(['닥스원피스', '닥터지 브라이트닝', '달팡 인트랄', ..., 'silicone', '첨이첨이아동양면내복',\n",
       "       'daks kids'], dtype=object)"
      ]
     },
     "execution_count": 8,
     "metadata": {},
     "output_type": "execute_result"
    }
   ],
   "source": [
    "print(search2['KWD_NM'].shape)\n",
    "print(search2['KWD_NM'].unique().shape)\n",
    "search2['KWD_NM'].unique()"
   ]
  },
  {
   "cell_type": "code",
   "execution_count": 9,
   "metadata": {
    "scrolled": true
   },
   "outputs": [
    {
     "name": "stdout",
     "output_type": "stream",
     "text": [
      "(2884943,)\n",
      "(81539,)\n"
     ]
    },
    {
     "data": {
      "text/plain": [
       "array(['빌리프 아이크림', '헤라 베이스', '헤라', ..., '소니 55mm', '기계식', '방진마스크'],\n",
       "      dtype=object)"
      ]
     },
     "execution_count": 9,
     "metadata": {},
     "output_type": "execute_result"
    }
   ],
   "source": [
    "print(search1['KWD_NM'].shape)\n",
    "print(search1['KWD_NM'].unique().shape)\n",
    "search1['KWD_NM'].unique()"
   ]
  },
  {
   "cell_type": "code",
   "execution_count": 10,
   "metadata": {},
   "outputs": [
    {
     "data": {
      "text/plain": [
       "베이직하우스            183\n",
       "남성슬리퍼             183\n",
       "보브티셔츠             183\n",
       "소다여성화             183\n",
       "아일랜드식탁            183\n",
       "페리미츠 원피스          183\n",
       "게스 청바지            183\n",
       "헤지스레이디스 원피스       183\n",
       "아리따움              183\n",
       "비씨비지 원피스          183\n",
       "첨이첨이 팬티           183\n",
       "홍진경더김치            183\n",
       "엘르이너웨어            183\n",
       "클로비스              183\n",
       "캘러웨이남성골프웨어        183\n",
       "구찌지갑              183\n",
       "팩                 183\n",
       "멜빵바지              183\n",
       "행텐여성              183\n",
       "여성 크로스백           183\n",
       "플라잉타이거코펜하겐        183\n",
       "발렌시아가 신발          183\n",
       "두유                183\n",
       "투미백팩              183\n",
       "클럽모나코             183\n",
       "여성팬티              183\n",
       "루즈앤라운지가방          183\n",
       "여성가디건             183\n",
       "플라잉타이거            183\n",
       "오즈키즈              183\n",
       "                 ... \n",
       "T.I FOR MEN         6\n",
       "[아메리칸이글(진)]남성       6\n",
       "yj8fbs107           5\n",
       "519611746           5\n",
       "508551136           5\n",
       "플레이키즈프로 나이키 모자      5\n",
       "DOLCE               5\n",
       "실패검색                4\n",
       "왓츠 업                4\n",
       "jelispoon           4\n",
       "디아도라 분당점            4\n",
       "라운드카라 자켓            4\n",
       "535280485           3\n",
       "에이지투웨니스 한정판         3\n",
       "bestibelli          3\n",
       "ZIOZIA              3\n",
       "Benefit             3\n",
       "독일 명품 세라믹           3\n",
       "카-브로우               3\n",
       "519619326           3\n",
       "andi apple          2\n",
       "핑크 블러셔              2\n",
       "미니 사이즈              2\n",
       "sooryehan           2\n",
       "첨이첨이아동양면내복          1\n",
       "daks kids           1\n",
       "클라이드 광주점            1\n",
       "페이스 프라이머            1\n",
       "silicone            1\n",
       "롤러 래시               1\n",
       "Name: KWD_NM, Length: 84607, dtype: int64"
      ]
     },
     "execution_count": 10,
     "metadata": {},
     "output_type": "execute_result"
    }
   ],
   "source": [
    "search2['KWD_NM'].value_counts()"
   ]
  },
  {
   "cell_type": "code",
   "execution_count": 11,
   "metadata": {},
   "outputs": [
    {
     "data": {
      "text/plain": [
       "원피스             7459\n",
       "생수              6091\n",
       "뉴발란스키즈          5057\n",
       "티셔츠             5054\n",
       "에고이스트           4933\n",
       "지오다노            4774\n",
       "크록스             4738\n",
       "여성샌들            4616\n",
       "나스              4582\n",
       "아디다스키즈          4486\n",
       "입생로랑            4437\n",
       "정관장             4300\n",
       "타미힐피거여성         4282\n",
       "블루독             4267\n",
       "설화수             4253\n",
       "빈폴레이디스          4223\n",
       "아디다스            4199\n",
       "블라우스            4174\n",
       "에이치커넥트          4000\n",
       "나이키             3951\n",
       "무료배송            3794\n",
       "노스페이스키즈         3618\n",
       "나이키운동화          3589\n",
       "맥               3499\n",
       "헤지스레이디스         3474\n",
       "남성              3399\n",
       "여성              3323\n",
       "키엘              3274\n",
       "써스데이아일랜드        3169\n",
       "에스티로더           3100\n",
       "                ... \n",
       "자동차 목쿠션            1\n",
       "보태가베네타카드지갑         1\n",
       "블루래빗 사운드북          1\n",
       "phenom             1\n",
       "여성메탈손목시계           1\n",
       "리바이스311            1\n",
       "이쯔포포               1\n",
       "숄더 크로스백            1\n",
       "공기압다리마사지기          1\n",
       "쓰리심                1\n",
       "브로우 젤              1\n",
       "발퀴레                1\n",
       "비비안이지웨어            1\n",
       "명품세일               1\n",
       "대리석티비다이            1\n",
       "파크론퓨어버블1 1         1\n",
       "편백나무쇼파             1\n",
       "삼성이어폰akg           1\n",
       "풍기인견샵              1\n",
       "진삼가                1\n",
       "아디다스 트레포일 반팔       1\n",
       "지스틸                1\n",
       "빔프로젝터 스크린          1\n",
       "vegiebag           1\n",
       "글램글로우              1\n",
       "바바라 부츠             1\n",
       "발렌티노루디시계           1\n",
       "호카                 1\n",
       "71DJ51861          1\n",
       "빈폴가방 토트백           1\n",
       "Name: KWD_NM, Length: 81539, dtype: int64"
      ]
     },
     "execution_count": 11,
     "metadata": {},
     "output_type": "execute_result"
    }
   ],
   "source": [
    "search1['KWD_NM'].value_counts()"
   ]
  },
  {
   "cell_type": "code",
   "execution_count": 49,
   "metadata": {
    "scrolled": false
   },
   "outputs": [],
   "source": [
    "def show_trend(df1, df2, name) :\n",
    "    temp1 = df1[df1['KWD_NM']==name]\n",
    "    temp1['SEARCH_CNT'] = temp1['SEARCH_CNT'].astype('float')\n",
    "    temp1 = temp1.sort_values(by=['SESS_DT']) \n",
    "    firstday = str_to_datetime(temp1['SESS_DT'].iloc[0])\n",
    "    for idx in range(len(temp1)) :\n",
    "        temp1['SESS_DT'].iloc[idx] = int((str_to_datetime(temp1['SESS_DT'].iloc[idx]) - firstday).days)\n",
    "    \n",
    "    temp2 = df2[df2['KWD_NM']==name]\n",
    "    temp2['SEARCH_CNT'] = temp2['SEARCH_CNT'].astype('float')\n",
    "    temp2 = temp2.sort_values(by=['SESS_DT'])\n",
    "    firstday = str_to_datetime(temp2['SESS_DT'].iloc[0])\n",
    "    for idx in range(len(temp2)) :\n",
    "        temp2['SESS_DT'].iloc[idx] = int((str_to_datetime(temp2['SESS_DT'].iloc[idx]) - firstday).days)\n",
    "    \n",
    "    \n",
    "    \n",
    "    \n",
    "    plt.figure(figsize=(15,5))\n",
    "    sns.scatterplot(temp1['SESS_DT'], temp1['SEARCH_CNT'], color='blue')\n",
    "    sns.scatterplot(temp2['SESS_DT'], temp2['SEARCH_CNT'], color='green')\n",
    "    plt.show()\n",
    "    \n",
    "    plt.figure(figsize=(15,5))\n",
    "    sns.lineplot(temp1['SESS_DT'], temp1['SEARCH_CNT'], color='blue')\n",
    "    sns.lineplot(temp2['SESS_DT'], temp2['SEARCH_CNT'], color='green')\n",
    "    plt.show()\n",
    "    \n",
    "    return temp1, temp2\n",
    "    \n",
    "def str_to_datetime(item) :\n",
    "    year = int(str(item)[0:4])\n",
    "    month = int(str(item)[4:6])\n",
    "    day = int(str(item)[6:8])\n",
    "    return datetime.date(year, month, day)\n",
    "    \n",
    "    \n",
    "#data_search1, data_search2 = show_trend(search1, search2, '에스티로더')"
   ]
  },
  {
   "cell_type": "code",
   "execution_count": 17,
   "metadata": {},
   "outputs": [
    {
     "name": "stdout",
     "output_type": "stream",
     "text": [
      "(3100, 3)\n",
      "(183, 3)\n"
     ]
    }
   ],
   "source": [
    "def transform_dataset(df, name) : \n",
    "    temp = df[df['KWD_NM']==name].copy()\n",
    "    print(temp.shape)\n",
    "    temp['SEARCH_CNT'] = temp['SEARCH_CNT'].astype('str').str.replace(',', '').astype('float')\n",
    "    temp = temp.sort_values(by=['SESS_DT'])\n",
    "    \n",
    "    x = df['SESS_DT'].copy()\n",
    "    y = df['SEARCH_CNT'].copy()\n",
    "    temp = pd.concat([x, y], axis=1)\n",
    "    temp = temp.groupby(['SESS_DT']).first().reset_index()\n",
    "    temp.index = temp['SESS_DT']\n",
    "    temp = temp.drop(['SESS_DT'], axis=1)\n",
    "    \n",
    "    temp = temp.reset_index(drop = True)\n",
    "    idx = range(0, len(temp))\n",
    "    temp = temp.reindex(idx, fill_value=0)\n",
    "    return temp\n",
    "\n",
    "data_search1 = transform_dataset(search1, '에스티로더')\n",
    "data_search2 = transform_dataset(search2, '에스티로더')"
   ]
  },
  {
   "cell_type": "code",
   "execution_count": 29,
   "metadata": {},
   "outputs": [
    {
     "data": {
      "text/html": [
       "<div>\n",
       "<style scoped>\n",
       "    .dataframe tbody tr th:only-of-type {\n",
       "        vertical-align: middle;\n",
       "    }\n",
       "\n",
       "    .dataframe tbody tr th {\n",
       "        vertical-align: top;\n",
       "    }\n",
       "\n",
       "    .dataframe thead th {\n",
       "        text-align: right;\n",
       "    }\n",
       "</style>\n",
       "<table border=\"1\" class=\"dataframe\">\n",
       "  <thead>\n",
       "    <tr style=\"text-align: right;\">\n",
       "      <th></th>\n",
       "      <th>SEARCH_CNT</th>\n",
       "    </tr>\n",
       "  </thead>\n",
       "  <tbody>\n",
       "    <tr>\n",
       "      <th>0</th>\n",
       "      <td>1</td>\n",
       "    </tr>\n",
       "    <tr>\n",
       "      <th>1</th>\n",
       "      <td>2</td>\n",
       "    </tr>\n",
       "    <tr>\n",
       "      <th>2</th>\n",
       "      <td>1</td>\n",
       "    </tr>\n",
       "    <tr>\n",
       "      <th>3</th>\n",
       "      <td>6</td>\n",
       "    </tr>\n",
       "    <tr>\n",
       "      <th>4</th>\n",
       "      <td>1</td>\n",
       "    </tr>\n",
       "  </tbody>\n",
       "</table>\n",
       "</div>"
      ],
      "text/plain": [
       "   SEARCH_CNT\n",
       "0           1\n",
       "1           2\n",
       "2           1\n",
       "3           6\n",
       "4           1"
      ]
     },
     "execution_count": 29,
     "metadata": {},
     "output_type": "execute_result"
    }
   ],
   "source": [
    "data_search1.head()"
   ]
  },
  {
   "cell_type": "code",
   "execution_count": 30,
   "metadata": {},
   "outputs": [
    {
     "data": {
      "text/html": [
       "<div>\n",
       "<style scoped>\n",
       "    .dataframe tbody tr th:only-of-type {\n",
       "        vertical-align: middle;\n",
       "    }\n",
       "\n",
       "    .dataframe tbody tr th {\n",
       "        vertical-align: top;\n",
       "    }\n",
       "\n",
       "    .dataframe thead th {\n",
       "        text-align: right;\n",
       "    }\n",
       "</style>\n",
       "<table border=\"1\" class=\"dataframe\">\n",
       "  <thead>\n",
       "    <tr style=\"text-align: right;\">\n",
       "      <th></th>\n",
       "      <th>SEARCH_CNT</th>\n",
       "    </tr>\n",
       "  </thead>\n",
       "  <tbody>\n",
       "    <tr>\n",
       "      <th>0</th>\n",
       "      <td>6</td>\n",
       "    </tr>\n",
       "    <tr>\n",
       "      <th>1</th>\n",
       "      <td>1</td>\n",
       "    </tr>\n",
       "    <tr>\n",
       "      <th>2</th>\n",
       "      <td>5</td>\n",
       "    </tr>\n",
       "    <tr>\n",
       "      <th>3</th>\n",
       "      <td>5</td>\n",
       "    </tr>\n",
       "    <tr>\n",
       "      <th>4</th>\n",
       "      <td>1</td>\n",
       "    </tr>\n",
       "  </tbody>\n",
       "</table>\n",
       "</div>"
      ],
      "text/plain": [
       "  SEARCH_CNT\n",
       "0          6\n",
       "1          1\n",
       "2          5\n",
       "3          5\n",
       "4          1"
      ]
     },
     "execution_count": 30,
     "metadata": {},
     "output_type": "execute_result"
    }
   ],
   "source": [
    "data_search2.head()"
   ]
  },
  {
   "cell_type": "code",
   "execution_count": 41,
   "metadata": {},
   "outputs": [
    {
     "data": {
      "image/png": "[encoded data removed]",
      "text/plain": [
       "<Figure size 432x288 with 1 Axes>"
      ]
     },
     "metadata": {
      "needs_background": "light"
     },
     "output_type": "display_data"
    },
    {
     "data": {
      "image/png": "[encoded data removed]",
      "text/plain": [
       "<Figure size 432x288 with 1 Axes>"
      ]
     },
     "metadata": {
      "needs_background": "light"
     },
     "output_type": "display_data"
    }
   ],
   "source": [
    "sns.lineplot(data_search1.index, data_search1['SEARCH_CNT'].astype(float))\n",
    "plt.show()\n",
    "sns.lineplot(data_search2.index, data_search2['SEARCH_CNT'].astype(float))\n",
    "plt.show()"
   ]
  },
  {
   "cell_type": "code",
   "execution_count": 36,
   "metadata": {},
   "outputs": [],
   "source": [
    "from keras.models import Sequential\n",
    "from keras.optimizers import SGD\n",
    "from keras.layers import Dense, LSTM\n",
    "import math\n",
    "from sklearn.metrics import mean_squared_error\n",
    "from sklearn.preprocessing import MinMaxScaler"
   ]
  },
  {
   "cell_type": "code",
   "execution_count": 48,
   "metadata": {
    "scrolled": true
   },
   "outputs": [
    {
     "name": "stdout",
     "output_type": "stream",
     "text": [
      "122 61\n",
      "(120, 1)\n",
      "(120,)\n",
      "(59, 1)\n",
      "(59,)\n",
      "(120, 1, 1)\n",
      "(120,)\n",
      "(59, 1, 1)\n",
      "(59,)\n",
      "_________________________________________________________________\n",
      "Layer (type)                 Output Shape              Param #   \n",
      "=================================================================\n",
      "lstm_5 (LSTM)                (None, 4)                 96        \n",
      "_________________________________________________________________\n",
      "dense_5 (Dense)              (None, 1)                 5         \n",
      "=================================================================\n",
      "Total params: 101\n",
      "Trainable params: 101\n",
      "Non-trainable params: 0\n",
      "_________________________________________________________________\n"
     ]
    },
    {
     "ename": "NameError",
     "evalue": "name 'adam' is not defined",
     "output_type": "error",
     "traceback": [
      "\u001b[0;31m---------------------------------------------------------------------------\u001b[0m",
      "\u001b[0;31mNameError\u001b[0m                                 Traceback (most recent call last)",
      "\u001b[0;32m<ipython-input-48-bb04feb1be7a>\u001b[0m in \u001b[0;36m<module>\u001b[0;34m\u001b[0m\n\u001b[1;32m     46\u001b[0m \u001b[0mmodel\u001b[0m\u001b[0;34m.\u001b[0m\u001b[0msummary\u001b[0m\u001b[0;34m(\u001b[0m\u001b[0;34m)\u001b[0m\u001b[0;34m\u001b[0m\u001b[0;34m\u001b[0m\u001b[0m\n\u001b[1;32m     47\u001b[0m model.compile(loss='mean_squared_error', \n\u001b[0;32m---> 48\u001b[0;31m               optimizer=adam)\n\u001b[0m\u001b[1;32m     49\u001b[0m history = model.fit(x_train, y_train,\n\u001b[1;32m     50\u001b[0m          \u001b[0mepochs\u001b[0m\u001b[0;34m=\u001b[0m\u001b[0;36m100\u001b[0m\u001b[0;34m,\u001b[0m\u001b[0;34m\u001b[0m\u001b[0;34m\u001b[0m\u001b[0m\n",
      "\u001b[0;31mNameError\u001b[0m: name 'adam' is not defined"
     ]
    }
   ],
   "source": [
    "dataset = data_search1.astype('float32').values\n",
    "dataset = dataset.astype('float32')\n",
    "\n",
    "scaler = MinMaxScaler(feature_range=(0,1))\n",
    "dataset = scaler.fit_transform(dataset)\n",
    "\n",
    "train_size = int(len(dataset) * 0.67)\n",
    "test_size = len(dataset) - train_size\n",
    "train, test = dataset[0:train_size, :], dataset[train_size:len(dataset), :]\n",
    "print(len(train), len(test))\n",
    "\n",
    "#scaler = MinMaxScaler(feature_range=(0,1))\n",
    "#scaler.fit(train)\n",
    "#train = scaler.transform(train)\n",
    "#test = scaler.transform(test)\n",
    "\n",
    "#print(train, test)\n",
    "\n",
    "def create_dataset(dataset, look_back=1) :\n",
    "    X, Y = [], []\n",
    "    for i in range(len(dataset)-look_back-1) :\n",
    "        a = dataset[i:(i+look_back), 0]\n",
    "        X.append(a)\n",
    "        Y.append(dataset[i + look_back, 0])\n",
    "    return np.array(X), np.array(Y)\n",
    "\n",
    "look_back = 1\n",
    "x_train, y_train = create_dataset(train, look_back)\n",
    "x_test, y_test = create_dataset(test, look_back)\n",
    "print(x_train.shape)\n",
    "print(y_train.shape)\n",
    "print(x_test.shape)\n",
    "print(y_test.shape)\n",
    "x_train = x_train.reshape(x_train.shape[0], look_back, 1)\n",
    "x_test = x_test.reshape(x_test.shape[0], look_back, 1)\n",
    "print(x_train.shape)\n",
    "print(y_train.shape)\n",
    "print(x_test.shape)\n",
    "print(y_test.shape)\n",
    "sgd = SGD(lr=0.1, decay=1e-2, momentum=0.9)\n",
    "batch_size = 1\n",
    "\n",
    "model = Sequential()\n",
    "model.add(LSTM(4, input_shape=(look_back, 1)))\n",
    "model.add(Dense(1))\n",
    "model.summary()\n",
    "model.compile(loss='mean_squared_error', \n",
    "              optimizer=adam)\n",
    "history = model.fit(x_train, y_train,\n",
    "         epochs=100,\n",
    "         batch_size=batch_size, \n",
    "         verbose=2)\n",
    "\n",
    "plt.plot(history.history['loss'])\n",
    "#plt.plot(history.history['val_loss'])\n",
    "plt.title('model loss')\n",
    "plt.ylabel('loss')\n",
    "plt.xlabel('epoch')\n",
    "plt.legend(['train', 'test'], loc='upper left')\n",
    "plt.show()"
   ]
  },
  {
   "cell_type": "code",
   "execution_count": 47,
   "metadata": {},
   "outputs": [
    {
     "data": {
      "image/png": "[encoded data removed]",
      "text/plain": [
       "<Figure size 432x288 with 1 Axes>"
      ]
     },
     "metadata": {
      "needs_background": "light"
     },
     "output_type": "display_data"
    }
   ],
   "source": [
    "train_predict = model.predict(x_train)\n",
    "test_predict = model.predict(x_test)\n",
    "\n",
    "#print(train_predict)\n",
    "train_predict = scaler.inverse_transform(train_predict)\n",
    "#y_train = scaler.inverse_transform(y_train.reshape(120, 1))\n",
    "test_predict = scaler.inverse_transform(test_predict)\n",
    "#y_test = scaler.inverse_transform(y_test.reshape(y_test.shape[0], 1))\n",
    "\n",
    "#trainScore = math.sqrt(mean_squared_error(y_train[0], train_predict[:, 0]))\n",
    "#testScore = math.sqrt(mean_squared_error(y_test[0], test_predict[:, 0]))\n",
    "#print('Train Score: %.2f RMSE' % (trainScore))\n",
    "#print('Test Score: %.2f RMSE' % (testScore))\n",
    "\n",
    "train_predict_plot = np.empty_like(dataset)\n",
    "train_predict_plot[:, :] = np.nan\n",
    "train_predict_plot[look_back:len(train_predict)+look_back, :] = train_predict\n",
    "\n",
    "test_predict_plot = np.empty_like(dataset)\n",
    "test_predict_plot[:, :] = np.nan\n",
    "test_predict_plot[len(train_predict)+(look_back*2)+1:len(dataset)-1, :] = test_predict\n",
    "\n",
    "plt.plot(scaler.inverse_transform(dataset))\n",
    "#plt.plot(dataset)\n",
    "plt.plot(train_predict_plot)\n",
    "plt.plot(test_predict_plot)\n",
    "plt.show()"
   ]
  },
  {
   "cell_type": "code",
   "execution_count": null,
   "metadata": {},
   "outputs": [],
   "source": []
  }
 ],
 "metadata": {
  "kernelspec": {
   "display_name": "Python 3",
   "language": "python",
   "name": "python3"
  },
  "language_info": {
   "codemirror_mode": {
    "name": "ipython",
    "version": 3
   },
   "file_extension": ".py",
   "mimetype": "text/x-python",
   "name": "python",
   "nbconvert_exporter": "python",
   "pygments_lexer": "ipython3",
   "version": "3.6.7"
  }
 },
 "nbformat": 4,
 "nbformat_minor": 2
}
