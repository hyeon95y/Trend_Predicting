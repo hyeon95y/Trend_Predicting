{
 "cells": [
  {
   "cell_type": "markdown",
   "metadata": {},
   "source": [
    "# 2. 온라인 선호지수 개발"
   ]
  },
  {
   "cell_type": "markdown",
   "metadata": {},
   "source": [
    "## 2.2 협업 필터링을 통한 선호도 점수 행렬 도출"
   ]
  },
  {
   "cell_type": "code",
   "execution_count": 1,
   "metadata": {},
   "outputs": [],
   "source": [
    "import numpy as np\n",
    "import pandas as pd\n",
    "import sklearn\n",
    "from pandas import Series, DataFrame\n",
    "import seaborn as sns\n",
    "import matplotlib.pyplot as plt\n",
    "from pathlib import Path\n",
    "import os"
   ]
  },
  {
   "cell_type": "code",
   "execution_count": 2,
   "metadata": {},
   "outputs": [
    {
     "name": "stderr",
     "output_type": "stream",
     "text": [
      "C:\\Users\\lsh93\\Anaconda3\\lib\\site-packages\\IPython\\core\\interactiveshell.py:3020: DtypeWarning: Columns (7) have mixed types. Specify dtype option on import or set low_memory=False.\n",
      "  interactivity=interactivity, compiler=compiler, result=result)\n"
     ]
    }
   ],
   "source": [
    "#데이터가져오기(기본 데이터)\n",
    "Product = pd.read_csv(\"C:/Users/lsh93/Desktop/data/Product.csv\")\n",
    "Search1 = pd.read_csv(\"C:/Users/lsh93/Desktop/data/Search1.csv\")\n",
    "Search2 = pd.read_csv(\"C:/Users/lsh93/Desktop/data/Search2.csv\")\n",
    "Custom = pd.read_csv(\"C:/Users/lsh93/Desktop/data/Custom.csv\")\n",
    "Session = pd.read_csv(\"C:/Users/lsh93/Desktop/data/Session.csv\")\n",
    "Master = pd.read_csv(\"C:/Users/lsh93/Desktop/data/Master.csv\")"
   ]
  },
  {
   "cell_type": "code",
   "execution_count": 4,
   "metadata": {},
   "outputs": [
    {
     "name": "stderr",
     "output_type": "stream",
     "text": [
      "C:\\Users\\lsh93\\Anaconda3\\lib\\site-packages\\IPython\\core\\interactiveshell.py:3020: DtypeWarning: Columns (8) have mixed types. Specify dtype option on import or set low_memory=False.\n",
      "  interactivity=interactivity, compiler=compiler, result=result)\n"
     ]
    }
   ],
   "source": [
    "#데이터가져오기(created from 'Developing Online Preference 1')\n",
    "Client_Behavior = pd.read_csv(\"C:/Users/lsh93/Desktop/data/UBCF2/Client_Behavior.csv\")"
   ]
  },
  {
   "cell_type": "code",
   "execution_count": 5,
   "metadata": {},
   "outputs": [
    {
     "name": "stdout",
     "output_type": "stream",
     "text": [
      "CLNT_ID\n"
     ]
    }
   ],
   "source": [
    "#첫번째 column 모두 삭제\n",
    "Client_Behavior = Client_Behavior.drop(Client_Behavior.columns[[0]], axis=1)\n",
    "\n",
    "print(Client_Behavior.columns.values[0])"
   ]
  },
  {
   "cell_type": "markdown",
   "metadata": {},
   "source": [
    "### 2) 검색횟수를 이용한 온라인 선호지수 생성"
   ]
  },
  {
   "cell_type": "code",
   "execution_count": null,
   "metadata": {},
   "outputs": [],
   "source": [
    "Search_CNT = pd.read_csv(\"C:/Users/lsh93/Desktop/data/UBCF2/Search_CNT.csv\")\n",
    "Search_CNT.head()"
   ]
  },
  {
   "cell_type": "code",
   "execution_count": null,
   "metadata": {},
   "outputs": [],
   "source": [
    "Search_CNT = Search_CNT.rename(columns = {'Unnamed: 0':'CLNT_ID'})\n",
    "Search_CNT.head()"
   ]
  },
  {
   "cell_type": "code",
   "execution_count": null,
   "metadata": {},
   "outputs": [],
   "source": [
    "#Index 추출\n",
    "row_names = Search_CNT['CLNT_ID'].as_matrix()\n",
    "row_names"
   ]
  },
  {
   "cell_type": "code",
   "execution_count": null,
   "metadata": {},
   "outputs": [],
   "source": [
    "#Columns 추출 \n",
    "col_names = Search_CNT.colums.values\n",
    "col_names = col_names[1:] # 왜 이렇게 한건지 확인하기\n",
    "col_names "
   ]
  },
  {
   "cell_type": "code",
   "execution_count": null,
   "metadata": {},
   "outputs": [],
   "source": [
    "PC = Search_Count.as_matrix()\n",
    "PC = PC[:,1:]\n",
    "print(PC.shape)\n",
    "print(PC) "
   ]
  },
  {
   "cell_type": "code",
   "execution_count": null,
   "metadata": {},
   "outputs": [],
   "source": [
    "################\n",
    "Search_Count = pd.DataFrame(PC, columns = col_names, index = row_names)\n",
    "Search_Count.head()"
   ]
  },
  {
   "cell_type": "code",
   "execution_count": null,
   "metadata": {},
   "outputs": [],
   "source": [
    "print(Search_Count.shape)"
   ]
  },
  {
   "cell_type": "code",
   "execution_count": null,
   "metadata": {},
   "outputs": [],
   "source": [
    "sparsity = float(len(PC.nonzero()[0]))\n",
    "sparsity /= (PC.shape[0] * PC.shape[1])\n",
    "sparsity *= 100\n",
    "print('Sparsity: {:4.2f}%',format(sparsity))"
   ]
  },
  {
   "cell_type": "code",
   "execution_count": null,
   "metadata": {},
   "outputs": [],
   "source": [
    "from sklearn.model_selection import train_test_split"
   ]
  },
  {
   "cell_type": "code",
   "execution_count": null,
   "metadata": {},
   "outputs": [],
   "source": [
    "#test set과 training set으로 나누기\n",
    "#Array 의 형태로 나누어주는 듯 함\n",
    "PC_train, PC_test = train_test_split(Search_Count, test_size = 0.33, random_state = 50)"
   ]
  },
  {
   "cell_type": "code",
   "execution_count": null,
   "metadata": {},
   "outputs": [],
   "source": [
    "print(PC_train)\n",
    "print(PC_train.shape)\n",
    "print(PC_test)\n",
    "print(PC_test.shape)"
   ]
  },
  {
   "cell_type": "code",
   "execution_count": null,
   "metadata": {},
   "outputs": [],
   "source": [
    "#DataFrame 형태로 바꾸기\n",
    "PC_train = pd.DataFrame(PC_train)\n",
    "PC_train.head()"
   ]
  },
  {
   "cell_type": "code",
   "execution_count": null,
   "metadata": {},
   "outputs": [],
   "source": [
    "#DataFrame 형태로 바꾸기\n",
    "PC_test = pd.DataFrame(PC_test)\n",
    "PC_train.head()"
   ]
  },
  {
   "cell_type": "markdown",
   "metadata": {},
   "source": [
    "### Cosine Distance 를 이용한 선호점수 계산"
   ]
  },
  {
   "cell_type": "code",
   "execution_count": null,
   "metadata": {},
   "outputs": [],
   "source": [
    "#row 길이가 너무 커서 줄일 필요가 있음 (나중에 클러스터링 나오면 이 과정은 생략해도 됨)\n",
    "#DataFrame 형태\n",
    "train = PC_train[0:1000]\n",
    "test = PC_test[0:330]"
   ]
  },
  {
   "cell_type": "code",
   "execution_count": null,
   "metadata": {},
   "outputs": [],
   "source": [
    "#Array 형태로 변환 \n",
    "train_mat = train.as_matrix()\n",
    "test_mat = test.as_matrix()\n",
    "print(train_mat.shape)\n",
    "print(test_mat.shape)"
   ]
  },
  {
   "cell_type": "markdown",
   "metadata": {},
   "source": [
    "#### Cosine Similarity 계산"
   ]
  },
  {
   "cell_type": "code",
   "execution_count": null,
   "metadata": {},
   "outputs": [],
   "source": [
    "from sklearn.metrics import pairwise_distances\n",
    "from sklearn.metrics.pairwise import cosine_similarity\n",
    "from scipy.spatial.distance import cosine"
   ]
  },
  {
   "cell_type": "code",
   "execution_count": null,
   "metadata": {},
   "outputs": [],
   "source": [
    "#MSE 계산 함수 작성\n",
    "from sklearn.metrics import mean_squared_error\n",
    "def get_mse(pred,actual):\n",
    "    pred = pred[actual.nonzero()].flatten()\n",
    "    actual = actual[actual.nonzero()].flatten()\n",
    "    \n",
    "    return mean_squared_error(pred, actual)"
   ]
  },
  {
   "cell_type": "code",
   "execution_count": null,
   "metadata": {},
   "outputs": [],
   "source": [
    "dist_out = 1 - pairwise_distances(train_mat, metric=\"cosine\")\n",
    "dist_out"
   ]
  },
  {
   "cell_type": "code",
   "execution_count": null,
   "metadata": {},
   "outputs": [],
   "source": [
    "dist_out.shape"
   ]
  },
  {
   "cell_type": "markdown",
   "metadata": {},
   "source": [
    "#### w/o k means clustering"
   ]
  },
  {
   "cell_type": "code",
   "execution_count": null,
   "metadata": {},
   "outputs": [],
   "source": [
    "#Client의 알려지지 않은 평가 예측 \n",
    "#거리행렬과 평가행렬의 내적을 구하고 평가수의 데이터를 정규화해 계산\n",
    "user_pred = dist_out.dot(train_mat)/np.array([np.abs(dist_out).sum(axis = 1)]).T"
   ]
  },
  {
   "cell_type": "code",
   "execution_count": null,
   "metadata": {},
   "outputs": [],
   "source": [
    "#모델의 예측오차율\n",
    "get_mse(user_pred, train_mat)"
   ]
  },
  {
   "cell_type": "code",
   "execution_count": null,
   "metadata": {},
   "outputs": [],
   "source": [
    "#테스트 데이터를 사용해 정확도를 확인해보기\n",
    "get_mse(user_pred, test_mat)"
   ]
  },
  {
   "cell_type": "markdown",
   "metadata": {},
   "source": [
    "#### w/ k means clustering"
   ]
  },
  {
   "cell_type": "code",
   "execution_count": null,
   "metadata": {},
   "outputs": [],
   "source": [
    "from sklearn.neighbors import NearestNeighbors"
   ]
  },
  {
   "cell_type": "code",
   "execution_count": null,
   "metadata": {},
   "outputs": [],
   "source": [
    "k = 5\n",
    "neigh = NearestNeighbors(k, 'cosine')"
   ]
  },
  {
   "cell_type": "code",
   "execution_count": null,
   "metadata": {},
   "outputs": [],
   "source": [
    "neigh.fit(train_mat)"
   ]
  },
  {
   "cell_type": "code",
   "execution_count": null,
   "metadata": {},
   "outputs": [],
   "source": [
    "#각 사용자별로 가장 유사한 5명의 사용자 찾고 유사도 계산\n",
    "top_k_distances, top_k_users = neigh.kneighbors(train_mat, return_distance = True)"
   ]
  },
  {
   "cell_type": "code",
   "execution_count": null,
   "metadata": {},
   "outputs": [],
   "source": [
    "print(top_k_distances.shape)\n",
    "print(top_k_users.shape)"
   ]
  },
  {
   "cell_type": "code",
   "execution_count": null,
   "metadata": {},
   "outputs": [],
   "source": [
    "top_k_users[4]"
   ]
  },
  {
   "cell_type": "code",
   "execution_count": null,
   "metadata": {},
   "outputs": [],
   "source": [
    "#훈련 데이터의 알려지지 않은 구매 예측\n",
    "user_pred_k = np.zeros(train_mat.shape)"
   ]
  },
  {
   "cell_type": "code",
   "execution_count": null,
   "metadata": {},
   "outputs": [],
   "source": [
    "for i in range(temp_train.shape[0]):\n",
    "    user_pred_k[i,:] = top_k_distances[i].T.dot(temp_train_mat[top_k_users][i]) / np.array([np.abs(top_k_distances[i].T).sum(axis = 0)]).T"
   ]
  },
  {
   "cell_type": "code",
   "execution_count": null,
   "metadata": {},
   "outputs": [],
   "source": [
    "user_pred_k.shape"
   ]
  },
  {
   "cell_type": "code",
   "execution_count": null,
   "metadata": {},
   "outputs": [],
   "source": [
    "user_pred_k"
   ]
  },
  {
   "cell_type": "code",
   "execution_count": null,
   "metadata": {},
   "outputs": [],
   "source": [
    "##### nan값이 있어서 mse를 계산할 수 없음\n",
    "online_pref = pd.DataFrame(user_pred_k)\n",
    "online_pref"
   ]
  },
  {
   "cell_type": "code",
   "execution_count": null,
   "metadata": {},
   "outputs": [],
   "source": [
    "#nan가 들어간 element의 row 인덱스 반환\n",
    "na_element_index = np.where(np.isnan(online_pref))\n",
    "na_element_index\n",
    "#row인덱스가 중복해서 나옴"
   ]
  },
  {
   "cell_type": "code",
   "execution_count": null,
   "metadata": {},
   "outputs": [],
   "source": [
    "#nan가 들어간 row의 인덱스 반환\n",
    "na_row_index = np.unique(na_element_index[0])\n",
    "na_row_index"
   ]
  },
  {
   "cell_type": "code",
   "execution_count": null,
   "metadata": {},
   "outputs": [],
   "source": [
    "#nan가 들어간 row를 삭제한다 -> 그에 해당하는 client 를 삭제한다\n",
    "#제거할 client id의 목록\n",
    "removed_CLNT_ID = temp_train.index.values[na_row_index]\n",
    "removed_CLNT_ID.shape"
   ]
  },
  {
   "cell_type": "code",
   "execution_count": null,
   "metadata": {},
   "outputs": [],
   "source": [
    "#제거하지 않고 남을 client id의 목록\n",
    "existed_CLNT_ID = np.delete(temp_train.index.values,na_row_index)\n",
    "existed_CLNT_ID.shape"
   ]
  },
  {
   "cell_type": "markdown",
   "metadata": {},
   "source": [
    "#### nan 포함 row 제거"
   ]
  },
  {
   "cell_type": "code",
   "execution_count": null,
   "metadata": {},
   "outputs": [],
   "source": [
    "online_pref2 = online_pref.dropna()\n",
    "online_pref2.shape"
   ]
  },
  {
   "cell_type": "code",
   "execution_count": null,
   "metadata": {},
   "outputs": [],
   "source": [
    "user_pred_k2 = online_pref2.as_matrix()\n",
    "user_pred_k2.shape"
   ]
  },
  {
   "cell_type": "code",
   "execution_count": null,
   "metadata": {},
   "outputs": [],
   "source": [
    "user_pred_k2"
   ]
  },
  {
   "cell_type": "code",
   "execution_count": null,
   "metadata": {},
   "outputs": [],
   "source": [
    "train_mat2 = train_mat\n",
    "exist_idx = np.delete([range(1000)],na_row_index)\n",
    "train_mat2 = train_mat2[exist_idx,:]\n",
    "train_mat2.shape"
   ]
  },
  {
   "cell_type": "code",
   "execution_count": null,
   "metadata": {},
   "outputs": [],
   "source": [
    "#모델의 개선 여부 확인 -> 개선됨! \n",
    "get_mse(user_pred_k2, train_mat2)"
   ]
  },
  {
   "cell_type": "code",
   "execution_count": null,
   "metadata": {},
   "outputs": [],
   "source": [
    "get_mse(user_pred_k2, temp_test_mat)"
   ]
  },
  {
   "cell_type": "markdown",
   "metadata": {},
   "source": [
    "- 검색횟수 + UBCF 기반 선호점수 matrix 생성 (index, column 모두 달아서)"
   ]
  },
  {
   "cell_type": "code",
   "execution_count": null,
   "metadata": {},
   "outputs": [],
   "source": [
    "col_names = Search_Count.columns.values\n",
    "row_names = existed_CLNT_ID\n",
    "print(col_names.shape)\n",
    "print(row_names.shape)\n",
    "print(user_pred_k2.shape)"
   ]
  },
  {
   "cell_type": "code",
   "execution_count": null,
   "metadata": {},
   "outputs": [],
   "source": [
    "Online_Preference_Search = pd.DataFrame(user_pred_k2, columns = col_names, index = row_names)\n",
    "Online_Preference_Search.head()"
   ]
  },
  {
   "cell_type": "code",
   "execution_count": null,
   "metadata": {},
   "outputs": [],
   "source": [
    "Online_Preference_Search.shape"
   ]
  },
  {
   "cell_type": "code",
   "execution_count": null,
   "metadata": {},
   "outputs": [],
   "source": [
    "#데이터 내보내기\n",
    "Online_Preference_Search.to_csv(\"C:/Users/lsh93/Desktop/data/UBCF2/Online_Preference_Search.csv\", encoding=\"UTF-8\")"
   ]
  }
 ],
 "metadata": {
  "kernelspec": {
   "display_name": "Python 3",
   "language": "python",
   "name": "python3"
  },
  "language_info": {
   "codemirror_mode": {
    "name": "ipython",
    "version": 3
   },
   "file_extension": ".py",
   "mimetype": "text/x-python",
   "name": "python",
   "nbconvert_exporter": "python",
   "pygments_lexer": "ipython3",
   "version": "3.7.1"
  }
 },
 "nbformat": 4,
 "nbformat_minor": 2
}
